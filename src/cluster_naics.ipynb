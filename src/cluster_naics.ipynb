{
 "cells": [
  {
   "cell_type": "code",
   "execution_count": 1,
   "metadata": {},
   "outputs": [],
   "source": [
    "import numpy as np\n",
    "import pandas as pd\n",
    "import os\n",
    "import tqdm\n",
    "import pickle\n",
    "import json\n",
    "\n",
    "import matplotlib.pyplot as plt"
   ]
  },
  {
   "cell_type": "markdown",
   "metadata": {},
   "source": [
    "### Combine batched csv's"
   ]
  },
  {
   "cell_type": "code",
   "execution_count": null,
   "metadata": {},
   "outputs": [],
   "source": [
    "scratch_dir = r'/ifs/scratch/jls106_gp/nhw2114/safegraph/'\n",
    "\n",
    "import glob\n",
    "\n",
    "csv_files = glob.glob(f'{scratch_dir}/*.csv')\n",
    "pickle_files = glob.glob(f'{scratch_dir}/*.pickle')"
   ]
  },
  {
   "cell_type": "code",
   "execution_count": null,
   "metadata": {},
   "outputs": [],
   "source": [
    "len(csv_files)"
   ]
  },
  {
   "cell_type": "markdown",
   "metadata": {},
   "source": [
    "Bad JSON files that could not be loaded"
   ]
  },
  {
   "cell_type": "code",
   "execution_count": null,
   "metadata": {},
   "outputs": [],
   "source": [
    "import pickle\n",
    "\n",
    "bad_files = []\n",
    "for picklepath in pickle_files:\n",
    "    with open(picklepath, 'rb') as f:\n",
    "        bad_files.append(pickle.load(f))\n",
    "\n",
    "bad_files = [item for sublist in bad_files for item in sublist]\n",
    "bad_files"
   ]
  },
  {
   "cell_type": "code",
   "execution_count": null,
   "metadata": {},
   "outputs": [],
   "source": [
    "df_list = []\n",
    "\n",
    "for filename in csv_files:\n",
    "    df = pd.read_csv(filename, header=0, index_col=0)\n",
    "    df_list.append(df)\n",
    "\n",
    "df = pd.concat(df_list, axis=0)"
   ]
  },
  {
   "cell_type": "code",
   "execution_count": null,
   "metadata": {},
   "outputs": [],
   "source": [
    "df.iloc[495:550,:]"
   ]
  },
  {
   "cell_type": "code",
   "execution_count": null,
   "metadata": {},
   "outputs": [],
   "source": [
    "df.shape\n",
    "\n",
    "n = df.shape[0]"
   ]
  },
  {
   "cell_type": "markdown",
   "metadata": {},
   "source": [
    "18,821,974 POI-weeks"
   ]
  },
  {
   "cell_type": "code",
   "execution_count": null,
   "metadata": {},
   "outputs": [],
   "source": [
    "count_na_cols = ['node.safegraph_geometry.wkt_area_sq_meters', 'raw_visitor_counts', 'raw_visitor_counts', 'median_dwell']\n",
    "\n",
    "for col in count_na_cols:\n",
    "    print(f\"{col} has {n - sum(df.loc[:,col].isna())} rows that are not NaN\")"
   ]
  },
  {
   "cell_type": "code",
   "execution_count": null,
   "metadata": {},
   "outputs": [],
   "source": [
    "5360882 / n * 100"
   ]
  },
  {
   "cell_type": "markdown",
   "metadata": {},
   "source": [
    "TODO: Check if NaNs are true zeros or visits just weren't tracked..."
   ]
  },
  {
   "cell_type": "code",
   "execution_count": null,
   "metadata": {},
   "outputs": [],
   "source": [
    "no_nan_df = df[~df['raw_visitor_counts'].isnull()]"
   ]
  },
  {
   "cell_type": "code",
   "execution_count": null,
   "metadata": {},
   "outputs": [],
   "source": [
    "sum(no_nan_df['raw_visit_counts'] == 0)"
   ]
  },
  {
   "cell_type": "code",
   "execution_count": null,
   "metadata": {},
   "outputs": [],
   "source": [
    "for col in count_na_cols:\n",
    "    print(f\"{col} has {sum(no_nan_df.loc[:,col].isna())} rows that are NaN\")"
   ]
  },
  {
   "cell_type": "code",
   "execution_count": null,
   "metadata": {},
   "outputs": [],
   "source": [
    "no_nan_df.shape"
   ]
  },
  {
   "cell_type": "code",
   "execution_count": null,
   "metadata": {},
   "outputs": [],
   "source": [
    "sum(no_nan_df['node.safegraph_core.naics_code'].isna())"
   ]
  },
  {
   "cell_type": "code",
   "execution_count": null,
   "metadata": {},
   "outputs": [],
   "source": [
    "no_nan_df = no_nan_df[~no_nan_df['node.safegraph_core.naics_code'].isnull()]"
   ]
  },
  {
   "cell_type": "code",
   "execution_count": null,
   "metadata": {},
   "outputs": [],
   "source": [
    "no_nan_df['node.safegraph_core.naics_code'] = no_nan_df['node.safegraph_core.naics_code'].astype(int).astype(str)"
   ]
  },
  {
   "cell_type": "code",
   "execution_count": null,
   "metadata": {},
   "outputs": [],
   "source": [
    "from collections import Counter\n",
    "\n",
    "naics_code_lengths = no_nan_df['node.safegraph_core.naics_code'].apply(len).tolist()\n",
    "\n",
    "Counter(naics_code_lengths)"
   ]
  },
  {
   "cell_type": "code",
   "execution_count": null,
   "metadata": {},
   "outputs": [],
   "source": [
    "len(np.unique(no_nan_df['node.safegraph_core.naics_code']))"
   ]
  },
  {
   "cell_type": "code",
   "execution_count": null,
   "metadata": {},
   "outputs": [],
   "source": [
    "len(np.unique(no_nan_df['node.placekey']))"
   ]
  },
  {
   "cell_type": "markdown",
   "metadata": {},
   "source": [
    "291 unique NAICS codes across 49,531 unique POIs"
   ]
  },
  {
   "cell_type": "code",
   "execution_count": null,
   "metadata": {},
   "outputs": [],
   "source": [
    "no_nan_df['density'] = no_nan_df['raw_visit_counts'] / no_nan_df['node.safegraph_geometry.wkt_area_sq_meters'] "
   ]
  },
  {
   "cell_type": "code",
   "execution_count": null,
   "metadata": {},
   "outputs": [],
   "source": [
    "summary_df = no_nan_df[['node.safegraph_core.top_category', 'density', 'median_dwell']].groupby('node.safegraph_core.top_category').describe().unstack(1)\n",
    "summary_df.to_csv('summary_stats.csv')"
   ]
  },
  {
   "cell_type": "code",
   "execution_count": null,
   "metadata": {},
   "outputs": [],
   "source": [
    "plt.figure(figsize=(18,6))\n",
    "no_nan_df[['median_dwell']].plot.hist(bins=50)"
   ]
  },
  {
   "cell_type": "code",
   "execution_count": null,
   "metadata": {},
   "outputs": [],
   "source": [
    "np.sum(no_nan_df[['median_dwell']] < 10) / len(no_nan_df)"
   ]
  },
  {
   "cell_type": "markdown",
   "metadata": {},
   "source": [
    "Not bimodal... but I think 300 minutes (5 hours) is a reasonable cutoff time"
   ]
  },
  {
   "cell_type": "code",
   "execution_count": null,
   "metadata": {},
   "outputs": [],
   "source": [
    "plt.figure(figsize=(18,6))\n",
    "no_nan_df[['density']].plot.hist(bins=50)"
   ]
  },
  {
   "cell_type": "code",
   "execution_count": null,
   "metadata": {},
   "outputs": [],
   "source": [
    "no_nan_df.loc[no_nan_df['density'] > 300, :]"
   ]
  },
  {
   "cell_type": "code",
   "execution_count": null,
   "metadata": {},
   "outputs": [],
   "source": [
    "removed_outlier_df = no_nan_df[no_nan_df['median_dwell'] < 500]\n",
    "\n",
    "X = removed_outlier_df[['density','median_dwell']]"
   ]
  },
  {
   "cell_type": "code",
   "execution_count": null,
   "metadata": {},
   "outputs": [],
   "source": [
    "X.shape"
   ]
  },
  {
   "cell_type": "code",
   "execution_count": null,
   "metadata": {},
   "outputs": [],
   "source": [
    "X.describe()"
   ]
  },
  {
   "cell_type": "code",
   "execution_count": null,
   "metadata": {},
   "outputs": [],
   "source": [
    "import matplotlib as mpl\n",
    "mpl.rcParams['agg.path.chunksize'] = 6000000"
   ]
  },
  {
   "cell_type": "code",
   "execution_count": null,
   "metadata": {},
   "outputs": [],
   "source": [
    "plt.figure(figsize=(18,6))\n",
    "plt.plot(X.iloc[:,0], X.iloc[:,1], 'bo')\n",
    "plt.xlabel('Density (weekly visit count / m^2)')\n",
    "plt.ylabel('Dwell time (min)')\n"
   ]
  },
  {
   "cell_type": "code",
   "execution_count": null,
   "metadata": {},
   "outputs": [],
   "source": [
    "from sklearn.preprocessing import StandardScaler\n",
    "\n",
    "scaler = StandardScaler()\n",
    "\n",
    "X_standardized = scaler.fit_transform(X)"
   ]
  },
  {
   "cell_type": "code",
   "execution_count": null,
   "metadata": {},
   "outputs": [],
   "source": [
    "plt.figure(figsize=(18,6))\n",
    "plt.plot(X_standardized[:,0], X_standardized[:,1], 'bo')\n",
    "plt.xlabel('Density')\n",
    "plt.ylabel('Dwell time')"
   ]
  },
  {
   "cell_type": "code",
   "execution_count": null,
   "metadata": {},
   "outputs": [],
   "source": [
    "import pymc3 as pm"
   ]
  },
  {
   "cell_type": "markdown",
   "metadata": {},
   "source": [
    "### Kmeans"
   ]
  },
  {
   "cell_type": "code",
   "execution_count": null,
   "metadata": {},
   "outputs": [],
   "source": [
    "from sklearn.cluster import KMeans\n",
    "from tqdm import tqdm\n",
    "\n",
    "\n",
    "distortions = []\n",
    "for K in tqdm(range(2, 7, 2)):\n",
    "    print(f\"Running kmeans for K={K}\")\n",
    "    km = KMeans(\n",
    "        n_clusters=K, init='random',\n",
    "        n_init=10, max_iter=300,\n",
    "        tol=1e-04, random_state=0\n",
    "    )\n",
    "    km.fit(X_standardized)\n",
    "    distortions.append(km.inertia_)\n",
    "\n",
    "# plot\n",
    "plt.plot(range(2, 7, 2), distortions, marker='o')\n",
    "plt.xlabel('Number of clusters')\n",
    "plt.ylabel('Distortion')\n",
    "plt.show()"
   ]
  },
  {
   "cell_type": "code",
   "execution_count": null,
   "metadata": {},
   "outputs": [],
   "source": [
    "plt.plot(range(2, 7, 2), distortions, marker='o')\n",
    "plt.xlabel('Number of clusters')\n",
    "plt.ylabel('Distortion')\n",
    "plt.show()"
   ]
  },
  {
   "cell_type": "markdown",
   "metadata": {},
   "source": [
    "Inertia\n",
    "\n",
    "$$\n",
    "\\sum_{i=0}^n \\min _{\\mu_j \\in C}\\left(\\left\\|x_i-\\mu_j\\right\\|^2\\right)\n",
    "$$"
   ]
  },
  {
   "cell_type": "code",
   "execution_count": null,
   "metadata": {},
   "outputs": [],
   "source": [
    "K_best = 4\n",
    "\n",
    "km = KMeans(\n",
    "    n_clusters=K_best,\n",
    "    init='random',\n",
    "    random_state=0\n",
    ")\n",
    "y_km = km.fit_predict(X_standardized)"
   ]
  },
  {
   "cell_type": "code",
   "execution_count": null,
   "metadata": {},
   "outputs": [],
   "source": [
    "marker = ['o', 'v', '^', '<', '>', 's', '8', 'p']\n",
    "\n",
    "color = ['lightgreen', 'lightblue', 'pink', 'yellow']\n",
    "\n",
    "\n",
    "for k in range(K_best):\n",
    "    plt.scatter(\n",
    "        X_standardized[y_km == k, 0], X_standardized[y_km == k, 1],\n",
    "        s=25, c=color[k],\n",
    "        marker=marker[k], edgecolor='black',\n",
    "        label=f'cluster {k+1}'\n",
    "    )\n",
    "\n",
    "# plot the centroids\n",
    "plt.scatter(\n",
    "    km.cluster_centers_[:, 0], km.cluster_centers_[:, 1],\n",
    "    s=250, marker='*',\n",
    "    c='red', edgecolor='black',\n",
    "    label='centroids'\n",
    ")\n",
    "plt.legend(scatterpoints=1)\n",
    "plt.grid()\n",
    "plt.show()"
   ]
  },
  {
   "cell_type": "code",
   "execution_count": null,
   "metadata": {},
   "outputs": [],
   "source": [
    "slice = (X_standardized[:,0] < 50)\n",
    "\n",
    "X_zoom = X_standardized[slice, :]\n",
    "y_zoom = y_km[slice]"
   ]
  },
  {
   "cell_type": "code",
   "execution_count": null,
   "metadata": {},
   "outputs": [],
   "source": [
    "km.cluster_centers_[1:, 0]"
   ]
  },
  {
   "cell_type": "code",
   "execution_count": null,
   "metadata": {},
   "outputs": [],
   "source": [
    "for k in range(K_best):\n",
    "    plt.scatter(\n",
    "        X_zoom[y_zoom == k, 0], X_zoom[y_zoom == k, 1],\n",
    "        s=25, c=color[k],\n",
    "        marker=marker[k], edgecolor='black',\n",
    "        label=f'cluster {k+1}'\n",
    "    )\n",
    "\n",
    "# plot the centroids\n",
    "plt.scatter(\n",
    "    km.cluster_centers_[1:, 0], km.cluster_centers_[1:, 1],\n",
    "    s=250, marker='*',\n",
    "    c='red', edgecolor='black',\n",
    "    label='centroids'\n",
    ")\n",
    "plt.legend(scatterpoints=1)\n",
    "plt.grid()\n",
    "plt.show()"
   ]
  },
  {
   "cell_type": "code",
   "execution_count": null,
   "metadata": {},
   "outputs": [],
   "source": []
  }
 ],
 "metadata": {
  "kernelspec": {
   "display_name": "Python 3.7.9 ('base')",
   "language": "python",
   "name": "python3"
  },
  "language_info": {
   "codemirror_mode": {
    "name": "ipython",
    "version": 3
   },
   "file_extension": ".py",
   "mimetype": "text/x-python",
   "name": "python",
   "nbconvert_exporter": "python",
   "pygments_lexer": "ipython3",
   "version": "3.7.9"
  },
  "orig_nbformat": 4,
  "vscode": {
   "interpreter": {
    "hash": "de6174ae03fc780c5176013616e0485767f45769a1b7dc2807d31cca67b2f92b"
   }
  }
 },
 "nbformat": 4,
 "nbformat_minor": 2
}
