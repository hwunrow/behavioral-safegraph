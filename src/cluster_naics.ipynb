{
 "cells": [
  {
   "cell_type": "code",
   "execution_count": 1,
   "metadata": {},
   "outputs": [],
   "source": [
    "import numpy as np\n",
    "import pandas as pd\n",
    "import os\n",
    "import tqdm\n",
    "import pickle\n",
    "import json\n",
    "\n",
    "import matplotlib.pyplot as plt"
   ]
  },
  {
   "cell_type": "markdown",
   "metadata": {},
   "source": [
    "### Combine batched csv's"
   ]
  },
  {
   "cell_type": "code",
   "execution_count": 2,
   "metadata": {},
   "outputs": [],
   "source": [
    "# scratch_dir = r'/ifs/scratch/jls106_gp/nhw2114/safegraph/'\n",
    "scratch_dir = 'G://My Drive/Research/Safegraph/scratch/20221205/'\n",
    "\n",
    "import glob\n",
    "\n",
    "csv_files = glob.glob(f'{scratch_dir}/*.csv')\n",
    "pickle_files = glob.glob(f'{scratch_dir}/*.pickle')"
   ]
  },
  {
   "cell_type": "code",
   "execution_count": 3,
   "metadata": {},
   "outputs": [
    {
     "data": {
      "text/plain": [
       "9"
      ]
     },
     "execution_count": 3,
     "metadata": {},
     "output_type": "execute_result"
    }
   ],
   "source": [
    "len(csv_files)"
   ]
  },
  {
   "cell_type": "markdown",
   "metadata": {},
   "source": [
    "Bad JSON files that could not be loaded"
   ]
  },
  {
   "cell_type": "code",
   "execution_count": 4,
   "metadata": {},
   "outputs": [
    {
     "data": {
      "text/plain": [
       "['New York,NYfrom2021-11-08to2021-11-15PART70.json',\n",
       " 'New York,NYfrom2021-06-14to2021-06-21PART51.json',\n",
       " 'New York,NYfrom2021-07-05to2021-07-12PART138.json',\n",
       " 'New York,NYfrom2021-07-12to2021-07-19PART7.json',\n",
       " 'New York,NYfrom2021-11-01to2021-11-08PART49.json']"
      ]
     },
     "execution_count": 4,
     "metadata": {},
     "output_type": "execute_result"
    }
   ],
   "source": [
    "import pickle\n",
    "\n",
    "bad_files = []\n",
    "for picklepath in pickle_files:\n",
    "    with open(picklepath, 'rb') as f:\n",
    "        bad_files.append(pickle.load(f))\n",
    "\n",
    "bad_files = [item for sublist in bad_files for item in sublist]\n",
    "bad_files"
   ]
  },
  {
   "cell_type": "code",
   "execution_count": 5,
   "metadata": {},
   "outputs": [
    {
     "data": {
      "text/plain": [
       "5"
      ]
     },
     "execution_count": 5,
     "metadata": {},
     "output_type": "execute_result"
    }
   ],
   "source": [
    "len(bad_files)"
   ]
  },
  {
   "cell_type": "code",
   "execution_count": 6,
   "metadata": {},
   "outputs": [],
   "source": [
    "df_list = []\n",
    "\n",
    "for filename in csv_files:\n",
    "    df = pd.read_csv(filename, header=0, index_col=0)\n",
    "    df_list.append(df)\n",
    "\n",
    "df = pd.concat(df_list, axis=0)"
   ]
  },
  {
   "cell_type": "code",
   "execution_count": 7,
   "metadata": {},
   "outputs": [
    {
     "data": {
      "text/html": [
       "<div>\n",
       "<style scoped>\n",
       "    .dataframe tbody tr th:only-of-type {\n",
       "        vertical-align: middle;\n",
       "    }\n",
       "\n",
       "    .dataframe tbody tr th {\n",
       "        vertical-align: top;\n",
       "    }\n",
       "\n",
       "    .dataframe thead th {\n",
       "        text-align: right;\n",
       "    }\n",
       "</style>\n",
       "<table border=\"1\" class=\"dataframe\">\n",
       "  <thead>\n",
       "    <tr style=\"text-align: right;\">\n",
       "      <th></th>\n",
       "      <th>node.placekey</th>\n",
       "      <th>node.safegraph_core.naics_code</th>\n",
       "      <th>node.safegraph_core.location_name</th>\n",
       "      <th>node.safegraph_core.top_category</th>\n",
       "      <th>node.safegraph_core.sub_category</th>\n",
       "      <th>node.safegraph_geometry.wkt_area_sq_meters</th>\n",
       "      <th>day_0_visits</th>\n",
       "      <th>day_1_visits</th>\n",
       "      <th>day_2_visits</th>\n",
       "      <th>day_3_visits</th>\n",
       "      <th>...</th>\n",
       "      <th>median_dwell</th>\n",
       "      <th>&lt;5</th>\n",
       "      <th>5-10</th>\n",
       "      <th>11-20</th>\n",
       "      <th>21-60</th>\n",
       "      <th>61-120</th>\n",
       "      <th>121-240</th>\n",
       "      <th>&gt;240</th>\n",
       "      <th>start</th>\n",
       "      <th>end</th>\n",
       "    </tr>\n",
       "  </thead>\n",
       "  <tbody>\n",
       "    <tr>\n",
       "      <th>495</th>\n",
       "      <td>22z-222@627-wc6-y7q</td>\n",
       "      <td>448140.0</td>\n",
       "      <td>Gucci</td>\n",
       "      <td>Clothing Stores</td>\n",
       "      <td>Family Clothing Stores</td>\n",
       "      <td>513.0</td>\n",
       "      <td>NaN</td>\n",
       "      <td>NaN</td>\n",
       "      <td>NaN</td>\n",
       "      <td>NaN</td>\n",
       "      <td>...</td>\n",
       "      <td>NaN</td>\n",
       "      <td>NaN</td>\n",
       "      <td>NaN</td>\n",
       "      <td>NaN</td>\n",
       "      <td>NaN</td>\n",
       "      <td>NaN</td>\n",
       "      <td>NaN</td>\n",
       "      <td>NaN</td>\n",
       "      <td>2018-01-01</td>\n",
       "      <td>2018-01-08</td>\n",
       "    </tr>\n",
       "    <tr>\n",
       "      <th>496</th>\n",
       "      <td>zzw-23h@627-s8h-vpv</td>\n",
       "      <td>722511.0</td>\n",
       "      <td>Cleo</td>\n",
       "      <td>Restaurants and Other Eating Places</td>\n",
       "      <td>Full-Service Restaurants</td>\n",
       "      <td>212.0</td>\n",
       "      <td>NaN</td>\n",
       "      <td>NaN</td>\n",
       "      <td>NaN</td>\n",
       "      <td>NaN</td>\n",
       "      <td>...</td>\n",
       "      <td>NaN</td>\n",
       "      <td>NaN</td>\n",
       "      <td>NaN</td>\n",
       "      <td>NaN</td>\n",
       "      <td>NaN</td>\n",
       "      <td>NaN</td>\n",
       "      <td>NaN</td>\n",
       "      <td>NaN</td>\n",
       "      <td>2018-01-01</td>\n",
       "      <td>2018-01-08</td>\n",
       "    </tr>\n",
       "    <tr>\n",
       "      <th>497</th>\n",
       "      <td>zzy-223@627-wg3-sdv</td>\n",
       "      <td>485113.0</td>\n",
       "      <td>MTA New York City Transit AV L E 28 ST</td>\n",
       "      <td>Urban Transit Systems</td>\n",
       "      <td>Bus and Other Motor Vehicle Transit Systems</td>\n",
       "      <td>NaN</td>\n",
       "      <td>NaN</td>\n",
       "      <td>NaN</td>\n",
       "      <td>NaN</td>\n",
       "      <td>NaN</td>\n",
       "      <td>...</td>\n",
       "      <td>NaN</td>\n",
       "      <td>NaN</td>\n",
       "      <td>NaN</td>\n",
       "      <td>NaN</td>\n",
       "      <td>NaN</td>\n",
       "      <td>NaN</td>\n",
       "      <td>NaN</td>\n",
       "      <td>NaN</td>\n",
       "      <td>2018-01-01</td>\n",
       "      <td>2018-01-08</td>\n",
       "    </tr>\n",
       "    <tr>\n",
       "      <th>498</th>\n",
       "      <td>225-225@627-s8j-cqz</td>\n",
       "      <td>453110.0</td>\n",
       "      <td>Flower City &amp; Porcelain Town</td>\n",
       "      <td>Florists</td>\n",
       "      <td>Florists</td>\n",
       "      <td>14460.0</td>\n",
       "      <td>1.0</td>\n",
       "      <td>1.0</td>\n",
       "      <td>3.0</td>\n",
       "      <td>0.0</td>\n",
       "      <td>...</td>\n",
       "      <td>282.0</td>\n",
       "      <td>1.0</td>\n",
       "      <td>1.0</td>\n",
       "      <td>0.0</td>\n",
       "      <td>0.0</td>\n",
       "      <td>0.0</td>\n",
       "      <td>2.0</td>\n",
       "      <td>5.0</td>\n",
       "      <td>2018-01-01</td>\n",
       "      <td>2018-01-08</td>\n",
       "    </tr>\n",
       "    <tr>\n",
       "      <th>499</th>\n",
       "      <td>227-228@627-s8r-9fz</td>\n",
       "      <td>448210.0</td>\n",
       "      <td>Bennett Footwear Group</td>\n",
       "      <td>Shoe Stores</td>\n",
       "      <td>Shoe Stores</td>\n",
       "      <td>14988.0</td>\n",
       "      <td>0.0</td>\n",
       "      <td>1.0</td>\n",
       "      <td>1.0</td>\n",
       "      <td>0.0</td>\n",
       "      <td>...</td>\n",
       "      <td>18.0</td>\n",
       "      <td>0.0</td>\n",
       "      <td>1.0</td>\n",
       "      <td>2.0</td>\n",
       "      <td>1.0</td>\n",
       "      <td>0.0</td>\n",
       "      <td>0.0</td>\n",
       "      <td>1.0</td>\n",
       "      <td>2018-01-01</td>\n",
       "      <td>2018-01-08</td>\n",
       "    </tr>\n",
       "    <tr>\n",
       "      <th>0</th>\n",
       "      <td>zzw-222@627-s4m-vfz</td>\n",
       "      <td>621330.0</td>\n",
       "      <td>Constance Cotter Weisenseel MSW LMSW</td>\n",
       "      <td>Offices of Other Health Practitioners</td>\n",
       "      <td>Offices of Mental Health Practitioners (except...</td>\n",
       "      <td>4007.0</td>\n",
       "      <td>NaN</td>\n",
       "      <td>NaN</td>\n",
       "      <td>NaN</td>\n",
       "      <td>NaN</td>\n",
       "      <td>...</td>\n",
       "      <td>NaN</td>\n",
       "      <td>NaN</td>\n",
       "      <td>NaN</td>\n",
       "      <td>NaN</td>\n",
       "      <td>NaN</td>\n",
       "      <td>NaN</td>\n",
       "      <td>NaN</td>\n",
       "      <td>NaN</td>\n",
       "      <td>2018-01-01</td>\n",
       "      <td>2018-01-08</td>\n",
       "    </tr>\n",
       "    <tr>\n",
       "      <th>1</th>\n",
       "      <td>222-22b@627-s8j-q2k</td>\n",
       "      <td>446110.0</td>\n",
       "      <td>CVS</td>\n",
       "      <td>Health and Personal Care Stores</td>\n",
       "      <td>Pharmacies and Drug Stores</td>\n",
       "      <td>202.0</td>\n",
       "      <td>1.0</td>\n",
       "      <td>1.0</td>\n",
       "      <td>13.0</td>\n",
       "      <td>6.0</td>\n",
       "      <td>...</td>\n",
       "      <td>10.0</td>\n",
       "      <td>1.0</td>\n",
       "      <td>14.0</td>\n",
       "      <td>9.0</td>\n",
       "      <td>0.0</td>\n",
       "      <td>0.0</td>\n",
       "      <td>2.0</td>\n",
       "      <td>3.0</td>\n",
       "      <td>2018-01-01</td>\n",
       "      <td>2018-01-08</td>\n",
       "    </tr>\n",
       "    <tr>\n",
       "      <th>2</th>\n",
       "      <td>zzw-227@627-s8j-ht9</td>\n",
       "      <td>621320.0</td>\n",
       "      <td>Economy Best Vision And Hearing</td>\n",
       "      <td>Offices of Other Health Practitioners</td>\n",
       "      <td>Offices of Optometrists</td>\n",
       "      <td>12486.0</td>\n",
       "      <td>NaN</td>\n",
       "      <td>NaN</td>\n",
       "      <td>NaN</td>\n",
       "      <td>NaN</td>\n",
       "      <td>...</td>\n",
       "      <td>NaN</td>\n",
       "      <td>NaN</td>\n",
       "      <td>NaN</td>\n",
       "      <td>NaN</td>\n",
       "      <td>NaN</td>\n",
       "      <td>NaN</td>\n",
       "      <td>NaN</td>\n",
       "      <td>NaN</td>\n",
       "      <td>2018-01-01</td>\n",
       "      <td>2018-01-08</td>\n",
       "    </tr>\n",
       "    <tr>\n",
       "      <th>3</th>\n",
       "      <td>224-222@627-s4t-3nq</td>\n",
       "      <td>531110.0</td>\n",
       "      <td>Apartments at 515 517 W 139th St</td>\n",
       "      <td>Lessors of Real Estate</td>\n",
       "      <td>Lessors of Residential Buildings and Dwellings</td>\n",
       "      <td>327.0</td>\n",
       "      <td>NaN</td>\n",
       "      <td>NaN</td>\n",
       "      <td>NaN</td>\n",
       "      <td>NaN</td>\n",
       "      <td>...</td>\n",
       "      <td>NaN</td>\n",
       "      <td>NaN</td>\n",
       "      <td>NaN</td>\n",
       "      <td>NaN</td>\n",
       "      <td>NaN</td>\n",
       "      <td>NaN</td>\n",
       "      <td>NaN</td>\n",
       "      <td>NaN</td>\n",
       "      <td>2018-01-01</td>\n",
       "      <td>2018-01-08</td>\n",
       "    </tr>\n",
       "    <tr>\n",
       "      <th>4</th>\n",
       "      <td>234-225@627-s8j-3nq</td>\n",
       "      <td>488410.0</td>\n",
       "      <td>01 All Day Emergency Towing</td>\n",
       "      <td>Support Activities for Road Transportation</td>\n",
       "      <td>Motor Vehicle Towing</td>\n",
       "      <td>12816.0</td>\n",
       "      <td>0.0</td>\n",
       "      <td>0.0</td>\n",
       "      <td>0.0</td>\n",
       "      <td>0.0</td>\n",
       "      <td>...</td>\n",
       "      <td>8.0</td>\n",
       "      <td>0.0</td>\n",
       "      <td>1.0</td>\n",
       "      <td>0.0</td>\n",
       "      <td>0.0</td>\n",
       "      <td>0.0</td>\n",
       "      <td>0.0</td>\n",
       "      <td>0.0</td>\n",
       "      <td>2018-01-01</td>\n",
       "      <td>2018-01-08</td>\n",
       "    </tr>\n",
       "    <tr>\n",
       "      <th>5</th>\n",
       "      <td>22s-222@627-wc7-89z</td>\n",
       "      <td>621210.0</td>\n",
       "      <td>Nai Yan Lam DDS</td>\n",
       "      <td>Offices of Dentists</td>\n",
       "      <td>Offices of Dentists</td>\n",
       "      <td>1003.0</td>\n",
       "      <td>1.0</td>\n",
       "      <td>0.0</td>\n",
       "      <td>0.0</td>\n",
       "      <td>0.0</td>\n",
       "      <td>...</td>\n",
       "      <td>6.0</td>\n",
       "      <td>0.0</td>\n",
       "      <td>1.0</td>\n",
       "      <td>0.0</td>\n",
       "      <td>0.0</td>\n",
       "      <td>0.0</td>\n",
       "      <td>0.0</td>\n",
       "      <td>0.0</td>\n",
       "      <td>2018-01-01</td>\n",
       "      <td>2018-01-08</td>\n",
       "    </tr>\n",
       "    <tr>\n",
       "      <th>6</th>\n",
       "      <td>zzw-225@627-s8j-m8v</td>\n",
       "      <td>4481.0</td>\n",
       "      <td>Xcluzv Lifestyle Brands</td>\n",
       "      <td>Clothing Stores</td>\n",
       "      <td>NaN</td>\n",
       "      <td>686.0</td>\n",
       "      <td>4.0</td>\n",
       "      <td>6.0</td>\n",
       "      <td>15.0</td>\n",
       "      <td>5.0</td>\n",
       "      <td>...</td>\n",
       "      <td>49.0</td>\n",
       "      <td>1.0</td>\n",
       "      <td>7.0</td>\n",
       "      <td>2.0</td>\n",
       "      <td>11.0</td>\n",
       "      <td>2.0</td>\n",
       "      <td>7.0</td>\n",
       "      <td>8.0</td>\n",
       "      <td>2018-01-01</td>\n",
       "      <td>2018-01-08</td>\n",
       "    </tr>\n",
       "    <tr>\n",
       "      <th>7</th>\n",
       "      <td>22g-222@627-s8r-j5f</td>\n",
       "      <td>442299.0</td>\n",
       "      <td>Jonathan Adler</td>\n",
       "      <td>Home Furnishings Stores</td>\n",
       "      <td>All Other Home Furnishings Stores</td>\n",
       "      <td>11275.0</td>\n",
       "      <td>NaN</td>\n",
       "      <td>NaN</td>\n",
       "      <td>NaN</td>\n",
       "      <td>NaN</td>\n",
       "      <td>...</td>\n",
       "      <td>NaN</td>\n",
       "      <td>NaN</td>\n",
       "      <td>NaN</td>\n",
       "      <td>NaN</td>\n",
       "      <td>NaN</td>\n",
       "      <td>NaN</td>\n",
       "      <td>NaN</td>\n",
       "      <td>NaN</td>\n",
       "      <td>2018-01-01</td>\n",
       "      <td>2018-01-08</td>\n",
       "    </tr>\n",
       "    <tr>\n",
       "      <th>8</th>\n",
       "      <td>zzy-222@627-vsg-66k</td>\n",
       "      <td>485113.0</td>\n",
       "      <td>MTA New York City Transit RICHMOND AV FOREST ST</td>\n",
       "      <td>Urban Transit Systems</td>\n",
       "      <td>Bus and Other Motor Vehicle Transit Systems</td>\n",
       "      <td>NaN</td>\n",
       "      <td>NaN</td>\n",
       "      <td>NaN</td>\n",
       "      <td>NaN</td>\n",
       "      <td>NaN</td>\n",
       "      <td>...</td>\n",
       "      <td>NaN</td>\n",
       "      <td>NaN</td>\n",
       "      <td>NaN</td>\n",
       "      <td>NaN</td>\n",
       "      <td>NaN</td>\n",
       "      <td>NaN</td>\n",
       "      <td>NaN</td>\n",
       "      <td>NaN</td>\n",
       "      <td>2018-01-01</td>\n",
       "      <td>2018-01-08</td>\n",
       "    </tr>\n",
       "    <tr>\n",
       "      <th>9</th>\n",
       "      <td>22x-224@627-s8j-b6k</td>\n",
       "      <td>811430.0</td>\n",
       "      <td>Cobbler LAB</td>\n",
       "      <td>Personal and Household Goods Repair and Mainte...</td>\n",
       "      <td>Footwear and Leather Goods Repair</td>\n",
       "      <td>120.0</td>\n",
       "      <td>NaN</td>\n",
       "      <td>NaN</td>\n",
       "      <td>NaN</td>\n",
       "      <td>NaN</td>\n",
       "      <td>...</td>\n",
       "      <td>NaN</td>\n",
       "      <td>NaN</td>\n",
       "      <td>NaN</td>\n",
       "      <td>NaN</td>\n",
       "      <td>NaN</td>\n",
       "      <td>NaN</td>\n",
       "      <td>NaN</td>\n",
       "      <td>NaN</td>\n",
       "      <td>2018-01-01</td>\n",
       "      <td>2018-01-08</td>\n",
       "    </tr>\n",
       "    <tr>\n",
       "      <th>10</th>\n",
       "      <td>22z-222@627-s6g-7nq</td>\n",
       "      <td>531110.0</td>\n",
       "      <td>Madera</td>\n",
       "      <td>Lessors of Real Estate</td>\n",
       "      <td>Lessors of Residential Buildings and Dwellings</td>\n",
       "      <td>225.0</td>\n",
       "      <td>NaN</td>\n",
       "      <td>NaN</td>\n",
       "      <td>NaN</td>\n",
       "      <td>NaN</td>\n",
       "      <td>...</td>\n",
       "      <td>NaN</td>\n",
       "      <td>NaN</td>\n",
       "      <td>NaN</td>\n",
       "      <td>NaN</td>\n",
       "      <td>NaN</td>\n",
       "      <td>NaN</td>\n",
       "      <td>NaN</td>\n",
       "      <td>NaN</td>\n",
       "      <td>2018-01-01</td>\n",
       "      <td>2018-01-08</td>\n",
       "    </tr>\n",
       "    <tr>\n",
       "      <th>11</th>\n",
       "      <td>zzy-222@627-s4n-n5z</td>\n",
       "      <td>485113.0</td>\n",
       "      <td>MTA New York City Transit MADISON AV E 93 ST</td>\n",
       "      <td>Urban Transit Systems</td>\n",
       "      <td>Bus and Other Motor Vehicle Transit Systems</td>\n",
       "      <td>NaN</td>\n",
       "      <td>NaN</td>\n",
       "      <td>NaN</td>\n",
       "      <td>NaN</td>\n",
       "      <td>NaN</td>\n",
       "      <td>...</td>\n",
       "      <td>NaN</td>\n",
       "      <td>NaN</td>\n",
       "      <td>NaN</td>\n",
       "      <td>NaN</td>\n",
       "      <td>NaN</td>\n",
       "      <td>NaN</td>\n",
       "      <td>NaN</td>\n",
       "      <td>NaN</td>\n",
       "      <td>2018-01-01</td>\n",
       "      <td>2018-01-08</td>\n",
       "    </tr>\n",
       "    <tr>\n",
       "      <th>12</th>\n",
       "      <td>232-222@627-s8q-whq</td>\n",
       "      <td>522390.0</td>\n",
       "      <td>Western Union</td>\n",
       "      <td>Activities Related to Credit Intermediation</td>\n",
       "      <td>Other Activities Related to Credit Intermediation</td>\n",
       "      <td>6956.0</td>\n",
       "      <td>NaN</td>\n",
       "      <td>NaN</td>\n",
       "      <td>NaN</td>\n",
       "      <td>NaN</td>\n",
       "      <td>...</td>\n",
       "      <td>NaN</td>\n",
       "      <td>NaN</td>\n",
       "      <td>NaN</td>\n",
       "      <td>NaN</td>\n",
       "      <td>NaN</td>\n",
       "      <td>NaN</td>\n",
       "      <td>NaN</td>\n",
       "      <td>NaN</td>\n",
       "      <td>2018-01-01</td>\n",
       "      <td>2018-01-08</td>\n",
       "    </tr>\n",
       "    <tr>\n",
       "      <th>13</th>\n",
       "      <td>224-222@627-s8r-8y9</td>\n",
       "      <td>453110.0</td>\n",
       "      <td>Flowers of the World</td>\n",
       "      <td>Florists</td>\n",
       "      <td>Florists</td>\n",
       "      <td>649.0</td>\n",
       "      <td>7.0</td>\n",
       "      <td>12.0</td>\n",
       "      <td>20.0</td>\n",
       "      <td>8.0</td>\n",
       "      <td>...</td>\n",
       "      <td>45.5</td>\n",
       "      <td>1.0</td>\n",
       "      <td>7.0</td>\n",
       "      <td>14.0</td>\n",
       "      <td>32.0</td>\n",
       "      <td>16.0</td>\n",
       "      <td>8.0</td>\n",
       "      <td>16.0</td>\n",
       "      <td>2018-01-01</td>\n",
       "      <td>2018-01-08</td>\n",
       "    </tr>\n",
       "    <tr>\n",
       "      <th>14</th>\n",
       "      <td>222-223@627-s4n-qs5</td>\n",
       "      <td>624410.0</td>\n",
       "      <td>Louis Greene Evelyn Green Davis Innovative Lea...</td>\n",
       "      <td>Child Day Care Services</td>\n",
       "      <td>Child Day Care Services</td>\n",
       "      <td>4449.0</td>\n",
       "      <td>0.0</td>\n",
       "      <td>0.0</td>\n",
       "      <td>0.0</td>\n",
       "      <td>0.0</td>\n",
       "      <td>...</td>\n",
       "      <td>127.0</td>\n",
       "      <td>0.0</td>\n",
       "      <td>0.0</td>\n",
       "      <td>0.0</td>\n",
       "      <td>0.0</td>\n",
       "      <td>0.0</td>\n",
       "      <td>1.0</td>\n",
       "      <td>0.0</td>\n",
       "      <td>2018-01-01</td>\n",
       "      <td>2018-01-08</td>\n",
       "    </tr>\n",
       "    <tr>\n",
       "      <th>15</th>\n",
       "      <td>22p-222@627-s4k-ct9</td>\n",
       "      <td>611691.0</td>\n",
       "      <td>The Speech Garden</td>\n",
       "      <td>Other Schools and Instruction</td>\n",
       "      <td>Exam Preparation and Tutoring</td>\n",
       "      <td>1772.0</td>\n",
       "      <td>0.0</td>\n",
       "      <td>0.0</td>\n",
       "      <td>0.0</td>\n",
       "      <td>0.0</td>\n",
       "      <td>...</td>\n",
       "      <td>257.0</td>\n",
       "      <td>0.0</td>\n",
       "      <td>0.0</td>\n",
       "      <td>0.0</td>\n",
       "      <td>0.0</td>\n",
       "      <td>0.0</td>\n",
       "      <td>1.0</td>\n",
       "      <td>1.0</td>\n",
       "      <td>2018-01-01</td>\n",
       "      <td>2018-01-08</td>\n",
       "    </tr>\n",
       "    <tr>\n",
       "      <th>16</th>\n",
       "      <td>zzy-224@627-wbz-sqz</td>\n",
       "      <td>722513.0</td>\n",
       "      <td>Market Lane NYC</td>\n",
       "      <td>Restaurants and Other Eating Places</td>\n",
       "      <td>Limited-Service Restaurants</td>\n",
       "      <td>6624.0</td>\n",
       "      <td>44.0</td>\n",
       "      <td>41.0</td>\n",
       "      <td>155.0</td>\n",
       "      <td>83.0</td>\n",
       "      <td>...</td>\n",
       "      <td>68.0</td>\n",
       "      <td>2.0</td>\n",
       "      <td>72.0</td>\n",
       "      <td>75.0</td>\n",
       "      <td>111.0</td>\n",
       "      <td>101.0</td>\n",
       "      <td>91.0</td>\n",
       "      <td>119.0</td>\n",
       "      <td>2018-01-01</td>\n",
       "      <td>2018-01-08</td>\n",
       "    </tr>\n",
       "    <tr>\n",
       "      <th>17</th>\n",
       "      <td>228-222@627-s8r-cnq</td>\n",
       "      <td>721110.0</td>\n",
       "      <td>Dylan Hotel NYC</td>\n",
       "      <td>Traveler Accommodation</td>\n",
       "      <td>Hotels (except Casino Hotels) and Motels</td>\n",
       "      <td>7531.0</td>\n",
       "      <td>1.0</td>\n",
       "      <td>2.0</td>\n",
       "      <td>5.0</td>\n",
       "      <td>3.0</td>\n",
       "      <td>...</td>\n",
       "      <td>183.5</td>\n",
       "      <td>0.0</td>\n",
       "      <td>3.0</td>\n",
       "      <td>3.0</td>\n",
       "      <td>0.0</td>\n",
       "      <td>0.0</td>\n",
       "      <td>2.0</td>\n",
       "      <td>6.0</td>\n",
       "      <td>2018-01-01</td>\n",
       "      <td>2018-01-08</td>\n",
       "    </tr>\n",
       "    <tr>\n",
       "      <th>18</th>\n",
       "      <td>22d-227@627-s8q-wc5</td>\n",
       "      <td>519120.0</td>\n",
       "      <td>Library of America</td>\n",
       "      <td>Other Information Services</td>\n",
       "      <td>Libraries and Archives</td>\n",
       "      <td>3676.0</td>\n",
       "      <td>NaN</td>\n",
       "      <td>NaN</td>\n",
       "      <td>NaN</td>\n",
       "      <td>NaN</td>\n",
       "      <td>...</td>\n",
       "      <td>NaN</td>\n",
       "      <td>NaN</td>\n",
       "      <td>NaN</td>\n",
       "      <td>NaN</td>\n",
       "      <td>NaN</td>\n",
       "      <td>NaN</td>\n",
       "      <td>NaN</td>\n",
       "      <td>NaN</td>\n",
       "      <td>2018-01-01</td>\n",
       "      <td>2018-01-08</td>\n",
       "    </tr>\n",
       "    <tr>\n",
       "      <th>19</th>\n",
       "      <td>22j-222@627-s8j-6zf</td>\n",
       "      <td>722515.0</td>\n",
       "      <td>Hawa Smoothies</td>\n",
       "      <td>Restaurants and Other Eating Places</td>\n",
       "      <td>Snack and Nonalcoholic Beverage Bars</td>\n",
       "      <td>23.0</td>\n",
       "      <td>1.0</td>\n",
       "      <td>1.0</td>\n",
       "      <td>5.0</td>\n",
       "      <td>3.0</td>\n",
       "      <td>...</td>\n",
       "      <td>50.0</td>\n",
       "      <td>1.0</td>\n",
       "      <td>7.0</td>\n",
       "      <td>1.0</td>\n",
       "      <td>5.0</td>\n",
       "      <td>5.0</td>\n",
       "      <td>3.0</td>\n",
       "      <td>5.0</td>\n",
       "      <td>2018-01-01</td>\n",
       "      <td>2018-01-08</td>\n",
       "    </tr>\n",
       "    <tr>\n",
       "      <th>20</th>\n",
       "      <td>239-223@627-s4t-xt9</td>\n",
       "      <td>444190.0</td>\n",
       "      <td>Foundation Building Materials (FBM)</td>\n",
       "      <td>Building Material and Supplies Dealers</td>\n",
       "      <td>Other Building Material Dealers</td>\n",
       "      <td>388.0</td>\n",
       "      <td>NaN</td>\n",
       "      <td>NaN</td>\n",
       "      <td>NaN</td>\n",
       "      <td>NaN</td>\n",
       "      <td>...</td>\n",
       "      <td>NaN</td>\n",
       "      <td>NaN</td>\n",
       "      <td>NaN</td>\n",
       "      <td>NaN</td>\n",
       "      <td>NaN</td>\n",
       "      <td>NaN</td>\n",
       "      <td>NaN</td>\n",
       "      <td>NaN</td>\n",
       "      <td>2018-01-01</td>\n",
       "      <td>2018-01-08</td>\n",
       "    </tr>\n",
       "    <tr>\n",
       "      <th>21</th>\n",
       "      <td>zzy-223@627-wc2-3dv</td>\n",
       "      <td>722511.0</td>\n",
       "      <td>Veronica's Kitchen</td>\n",
       "      <td>Restaurants and Other Eating Places</td>\n",
       "      <td>Full-Service Restaurants</td>\n",
       "      <td>340.0</td>\n",
       "      <td>5.0</td>\n",
       "      <td>7.0</td>\n",
       "      <td>12.0</td>\n",
       "      <td>5.0</td>\n",
       "      <td>...</td>\n",
       "      <td>144.0</td>\n",
       "      <td>1.0</td>\n",
       "      <td>3.0</td>\n",
       "      <td>6.0</td>\n",
       "      <td>3.0</td>\n",
       "      <td>7.0</td>\n",
       "      <td>9.0</td>\n",
       "      <td>13.0</td>\n",
       "      <td>2018-01-01</td>\n",
       "      <td>2018-01-08</td>\n",
       "    </tr>\n",
       "    <tr>\n",
       "      <th>22</th>\n",
       "      <td>22v-222@627-s4n-fmk</td>\n",
       "      <td>621111.0</td>\n",
       "      <td>Sanghvi Tani MD</td>\n",
       "      <td>Offices of Physicians</td>\n",
       "      <td>Offices of Physicians (except Mental Health Sp...</td>\n",
       "      <td>6117.0</td>\n",
       "      <td>NaN</td>\n",
       "      <td>NaN</td>\n",
       "      <td>NaN</td>\n",
       "      <td>NaN</td>\n",
       "      <td>...</td>\n",
       "      <td>NaN</td>\n",
       "      <td>NaN</td>\n",
       "      <td>NaN</td>\n",
       "      <td>NaN</td>\n",
       "      <td>NaN</td>\n",
       "      <td>NaN</td>\n",
       "      <td>NaN</td>\n",
       "      <td>NaN</td>\n",
       "      <td>2018-01-01</td>\n",
       "      <td>2018-01-08</td>\n",
       "    </tr>\n",
       "    <tr>\n",
       "      <th>23</th>\n",
       "      <td>22z-222@627-wbv-j5f</td>\n",
       "      <td>532289.0</td>\n",
       "      <td>Photostudio NYC</td>\n",
       "      <td>Consumer Goods Rental</td>\n",
       "      <td>All Other Consumer Goods Rental</td>\n",
       "      <td>450.0</td>\n",
       "      <td>NaN</td>\n",
       "      <td>NaN</td>\n",
       "      <td>NaN</td>\n",
       "      <td>NaN</td>\n",
       "      <td>...</td>\n",
       "      <td>NaN</td>\n",
       "      <td>NaN</td>\n",
       "      <td>NaN</td>\n",
       "      <td>NaN</td>\n",
       "      <td>NaN</td>\n",
       "      <td>NaN</td>\n",
       "      <td>NaN</td>\n",
       "      <td>NaN</td>\n",
       "      <td>2018-01-01</td>\n",
       "      <td>2018-01-08</td>\n",
       "    </tr>\n",
       "    <tr>\n",
       "      <th>24</th>\n",
       "      <td>22k-222@627-s4n-2c5</td>\n",
       "      <td>713940.0</td>\n",
       "      <td>YogaWorks Eastside</td>\n",
       "      <td>Other Amusement and Recreation Industries</td>\n",
       "      <td>Fitness and Recreational Sports Centers</td>\n",
       "      <td>6165.0</td>\n",
       "      <td>2.0</td>\n",
       "      <td>1.0</td>\n",
       "      <td>15.0</td>\n",
       "      <td>10.0</td>\n",
       "      <td>...</td>\n",
       "      <td>38.5</td>\n",
       "      <td>0.0</td>\n",
       "      <td>4.0</td>\n",
       "      <td>14.0</td>\n",
       "      <td>23.0</td>\n",
       "      <td>17.0</td>\n",
       "      <td>2.0</td>\n",
       "      <td>4.0</td>\n",
       "      <td>2018-01-01</td>\n",
       "      <td>2018-01-08</td>\n",
       "    </tr>\n",
       "    <tr>\n",
       "      <th>25</th>\n",
       "      <td>22t-222@627-s4n-vpv</td>\n",
       "      <td>621111.0</td>\n",
       "      <td>Anesthesia Associates of Park Avenue</td>\n",
       "      <td>Offices of Physicians</td>\n",
       "      <td>Offices of Physicians (except Mental Health Sp...</td>\n",
       "      <td>5790.0</td>\n",
       "      <td>NaN</td>\n",
       "      <td>NaN</td>\n",
       "      <td>NaN</td>\n",
       "      <td>NaN</td>\n",
       "      <td>...</td>\n",
       "      <td>NaN</td>\n",
       "      <td>NaN</td>\n",
       "      <td>NaN</td>\n",
       "      <td>NaN</td>\n",
       "      <td>NaN</td>\n",
       "      <td>NaN</td>\n",
       "      <td>NaN</td>\n",
       "      <td>NaN</td>\n",
       "      <td>2018-01-01</td>\n",
       "      <td>2018-01-08</td>\n",
       "    </tr>\n",
       "    <tr>\n",
       "      <th>26</th>\n",
       "      <td>zzy-222@627-s6j-bx5</td>\n",
       "      <td>722515.0</td>\n",
       "      <td>Dunkin'</td>\n",
       "      <td>Restaurants and Other Eating Places</td>\n",
       "      <td>Snack and Nonalcoholic Beverage Bars</td>\n",
       "      <td>5512.0</td>\n",
       "      <td>0.0</td>\n",
       "      <td>0.0</td>\n",
       "      <td>1.0</td>\n",
       "      <td>1.0</td>\n",
       "      <td>...</td>\n",
       "      <td>1019.5</td>\n",
       "      <td>0.0</td>\n",
       "      <td>1.0</td>\n",
       "      <td>0.0</td>\n",
       "      <td>0.0</td>\n",
       "      <td>0.0</td>\n",
       "      <td>0.0</td>\n",
       "      <td>11.0</td>\n",
       "      <td>2018-01-01</td>\n",
       "      <td>2018-01-08</td>\n",
       "    </tr>\n",
       "    <tr>\n",
       "      <th>27</th>\n",
       "      <td>26m-222@627-s8h-vmk</td>\n",
       "      <td>517312.0</td>\n",
       "      <td>Vernacular Communications</td>\n",
       "      <td>Wired and Wireless Telecommunications Carriers</td>\n",
       "      <td>Wireless Telecommunications Carriers (except S...</td>\n",
       "      <td>13748.0</td>\n",
       "      <td>NaN</td>\n",
       "      <td>NaN</td>\n",
       "      <td>NaN</td>\n",
       "      <td>NaN</td>\n",
       "      <td>...</td>\n",
       "      <td>NaN</td>\n",
       "      <td>NaN</td>\n",
       "      <td>NaN</td>\n",
       "      <td>NaN</td>\n",
       "      <td>NaN</td>\n",
       "      <td>NaN</td>\n",
       "      <td>NaN</td>\n",
       "      <td>NaN</td>\n",
       "      <td>2018-01-01</td>\n",
       "      <td>2018-01-08</td>\n",
       "    </tr>\n",
       "    <tr>\n",
       "      <th>28</th>\n",
       "      <td>227-22r@627-wbv-j5f</td>\n",
       "      <td>524210.0</td>\n",
       "      <td>Allstate Insurance</td>\n",
       "      <td>Agencies, Brokerages, and Other Insurance Rela...</td>\n",
       "      <td>Insurance Agencies and Brokerages</td>\n",
       "      <td>670.0</td>\n",
       "      <td>NaN</td>\n",
       "      <td>NaN</td>\n",
       "      <td>NaN</td>\n",
       "      <td>NaN</td>\n",
       "      <td>...</td>\n",
       "      <td>NaN</td>\n",
       "      <td>NaN</td>\n",
       "      <td>NaN</td>\n",
       "      <td>NaN</td>\n",
       "      <td>NaN</td>\n",
       "      <td>NaN</td>\n",
       "      <td>NaN</td>\n",
       "      <td>NaN</td>\n",
       "      <td>2018-01-01</td>\n",
       "      <td>2018-01-08</td>\n",
       "    </tr>\n",
       "    <tr>\n",
       "      <th>29</th>\n",
       "      <td>227-229@627-s8r-bzf</td>\n",
       "      <td>813110.0</td>\n",
       "      <td>New York Satsang Society Inc</td>\n",
       "      <td>Religious Organizations</td>\n",
       "      <td>Religious Organizations</td>\n",
       "      <td>1174.0</td>\n",
       "      <td>NaN</td>\n",
       "      <td>NaN</td>\n",
       "      <td>NaN</td>\n",
       "      <td>NaN</td>\n",
       "      <td>...</td>\n",
       "      <td>NaN</td>\n",
       "      <td>NaN</td>\n",
       "      <td>NaN</td>\n",
       "      <td>NaN</td>\n",
       "      <td>NaN</td>\n",
       "      <td>NaN</td>\n",
       "      <td>NaN</td>\n",
       "      <td>NaN</td>\n",
       "      <td>2018-01-01</td>\n",
       "      <td>2018-01-08</td>\n",
       "    </tr>\n",
       "    <tr>\n",
       "      <th>30</th>\n",
       "      <td>224-22d@627-s8r-cnq</td>\n",
       "      <td>722513.0</td>\n",
       "      <td>Chopt Creative Salad</td>\n",
       "      <td>Restaurants and Other Eating Places</td>\n",
       "      <td>Limited-Service Restaurants</td>\n",
       "      <td>559.0</td>\n",
       "      <td>NaN</td>\n",
       "      <td>NaN</td>\n",
       "      <td>NaN</td>\n",
       "      <td>NaN</td>\n",
       "      <td>...</td>\n",
       "      <td>NaN</td>\n",
       "      <td>NaN</td>\n",
       "      <td>NaN</td>\n",
       "      <td>NaN</td>\n",
       "      <td>NaN</td>\n",
       "      <td>NaN</td>\n",
       "      <td>NaN</td>\n",
       "      <td>NaN</td>\n",
       "      <td>2018-01-01</td>\n",
       "      <td>2018-01-08</td>\n",
       "    </tr>\n",
       "    <tr>\n",
       "      <th>31</th>\n",
       "      <td>225-223@627-s8f-c3q</td>\n",
       "      <td>453110.0</td>\n",
       "      <td>Aaa Flowers</td>\n",
       "      <td>Florists</td>\n",
       "      <td>Florists</td>\n",
       "      <td>1338.0</td>\n",
       "      <td>NaN</td>\n",
       "      <td>NaN</td>\n",
       "      <td>NaN</td>\n",
       "      <td>NaN</td>\n",
       "      <td>...</td>\n",
       "      <td>NaN</td>\n",
       "      <td>NaN</td>\n",
       "      <td>NaN</td>\n",
       "      <td>NaN</td>\n",
       "      <td>NaN</td>\n",
       "      <td>NaN</td>\n",
       "      <td>NaN</td>\n",
       "      <td>NaN</td>\n",
       "      <td>2018-01-01</td>\n",
       "      <td>2018-01-08</td>\n",
       "    </tr>\n",
       "    <tr>\n",
       "      <th>32</th>\n",
       "      <td>24g-222@627-s8k-26k</td>\n",
       "      <td>3399.0</td>\n",
       "      <td>Valentine Usa Inc</td>\n",
       "      <td>Other Miscellaneous Manufacturing</td>\n",
       "      <td>NaN</td>\n",
       "      <td>1523.0</td>\n",
       "      <td>0.0</td>\n",
       "      <td>0.0</td>\n",
       "      <td>2.0</td>\n",
       "      <td>1.0</td>\n",
       "      <td>...</td>\n",
       "      <td>13.5</td>\n",
       "      <td>1.0</td>\n",
       "      <td>0.0</td>\n",
       "      <td>3.0</td>\n",
       "      <td>0.0</td>\n",
       "      <td>0.0</td>\n",
       "      <td>0.0</td>\n",
       "      <td>0.0</td>\n",
       "      <td>2018-01-01</td>\n",
       "      <td>2018-01-08</td>\n",
       "    </tr>\n",
       "    <tr>\n",
       "      <th>33</th>\n",
       "      <td>22r-225@627-s4k-grk</td>\n",
       "      <td>522110.0</td>\n",
       "      <td>Allpoint ATM</td>\n",
       "      <td>Depository Credit Intermediation</td>\n",
       "      <td>Commercial Banking</td>\n",
       "      <td>NaN</td>\n",
       "      <td>NaN</td>\n",
       "      <td>NaN</td>\n",
       "      <td>NaN</td>\n",
       "      <td>NaN</td>\n",
       "      <td>...</td>\n",
       "      <td>NaN</td>\n",
       "      <td>NaN</td>\n",
       "      <td>NaN</td>\n",
       "      <td>NaN</td>\n",
       "      <td>NaN</td>\n",
       "      <td>NaN</td>\n",
       "      <td>NaN</td>\n",
       "      <td>NaN</td>\n",
       "      <td>2018-01-01</td>\n",
       "      <td>2018-01-08</td>\n",
       "    </tr>\n",
       "    <tr>\n",
       "      <th>34</th>\n",
       "      <td>zzw-22b@627-s8q-zs5</td>\n",
       "      <td>448310.0</td>\n",
       "      <td>Central Watch</td>\n",
       "      <td>Jewelry, Luggage, and Leather Goods Stores</td>\n",
       "      <td>Jewelry Stores</td>\n",
       "      <td>5509.0</td>\n",
       "      <td>2.0</td>\n",
       "      <td>4.0</td>\n",
       "      <td>2.0</td>\n",
       "      <td>1.0</td>\n",
       "      <td>...</td>\n",
       "      <td>17.0</td>\n",
       "      <td>0.0</td>\n",
       "      <td>5.0</td>\n",
       "      <td>5.0</td>\n",
       "      <td>1.0</td>\n",
       "      <td>4.0</td>\n",
       "      <td>2.0</td>\n",
       "      <td>1.0</td>\n",
       "      <td>2018-01-01</td>\n",
       "      <td>2018-01-08</td>\n",
       "    </tr>\n",
       "    <tr>\n",
       "      <th>35</th>\n",
       "      <td>zzy-222@627-s96-mx5</td>\n",
       "      <td>485113.0</td>\n",
       "      <td>MTA New York City Transit LORIMER ST SKILLMAN AV</td>\n",
       "      <td>Urban Transit Systems</td>\n",
       "      <td>Bus and Other Motor Vehicle Transit Systems</td>\n",
       "      <td>NaN</td>\n",
       "      <td>NaN</td>\n",
       "      <td>NaN</td>\n",
       "      <td>NaN</td>\n",
       "      <td>NaN</td>\n",
       "      <td>...</td>\n",
       "      <td>NaN</td>\n",
       "      <td>NaN</td>\n",
       "      <td>NaN</td>\n",
       "      <td>NaN</td>\n",
       "      <td>NaN</td>\n",
       "      <td>NaN</td>\n",
       "      <td>NaN</td>\n",
       "      <td>NaN</td>\n",
       "      <td>2018-01-01</td>\n",
       "      <td>2018-01-08</td>\n",
       "    </tr>\n",
       "    <tr>\n",
       "      <th>36</th>\n",
       "      <td>zzy-225@627-wbv-fzz</td>\n",
       "      <td>485113.0</td>\n",
       "      <td>MTA New York City Transit AV OF THE AMERICAS W...</td>\n",
       "      <td>Urban Transit Systems</td>\n",
       "      <td>Bus and Other Motor Vehicle Transit Systems</td>\n",
       "      <td>NaN</td>\n",
       "      <td>NaN</td>\n",
       "      <td>NaN</td>\n",
       "      <td>NaN</td>\n",
       "      <td>NaN</td>\n",
       "      <td>...</td>\n",
       "      <td>NaN</td>\n",
       "      <td>NaN</td>\n",
       "      <td>NaN</td>\n",
       "      <td>NaN</td>\n",
       "      <td>NaN</td>\n",
       "      <td>NaN</td>\n",
       "      <td>NaN</td>\n",
       "      <td>NaN</td>\n",
       "      <td>2018-01-01</td>\n",
       "      <td>2018-01-08</td>\n",
       "    </tr>\n",
       "    <tr>\n",
       "      <th>37</th>\n",
       "      <td>zzy-223@627-s6j-kzz</td>\n",
       "      <td>485113.0</td>\n",
       "      <td>MTA New York City Transit E 174 ST BRYANT AV</td>\n",
       "      <td>Urban Transit Systems</td>\n",
       "      <td>Bus and Other Motor Vehicle Transit Systems</td>\n",
       "      <td>NaN</td>\n",
       "      <td>NaN</td>\n",
       "      <td>NaN</td>\n",
       "      <td>NaN</td>\n",
       "      <td>NaN</td>\n",
       "      <td>...</td>\n",
       "      <td>NaN</td>\n",
       "      <td>NaN</td>\n",
       "      <td>NaN</td>\n",
       "      <td>NaN</td>\n",
       "      <td>NaN</td>\n",
       "      <td>NaN</td>\n",
       "      <td>NaN</td>\n",
       "      <td>NaN</td>\n",
       "      <td>2018-01-01</td>\n",
       "      <td>2018-01-08</td>\n",
       "    </tr>\n",
       "    <tr>\n",
       "      <th>38</th>\n",
       "      <td>22t-223@627-s4v-zvf</td>\n",
       "      <td>621340.0</td>\n",
       "      <td>Lexson Therapy</td>\n",
       "      <td>Offices of Other Health Practitioners</td>\n",
       "      <td>Offices of Physical, Occupational and Speech T...</td>\n",
       "      <td>6523.0</td>\n",
       "      <td>0.0</td>\n",
       "      <td>1.0</td>\n",
       "      <td>0.0</td>\n",
       "      <td>0.0</td>\n",
       "      <td>...</td>\n",
       "      <td>555.0</td>\n",
       "      <td>0.0</td>\n",
       "      <td>0.0</td>\n",
       "      <td>0.0</td>\n",
       "      <td>0.0</td>\n",
       "      <td>0.0</td>\n",
       "      <td>0.0</td>\n",
       "      <td>2.0</td>\n",
       "      <td>2018-01-01</td>\n",
       "      <td>2018-01-08</td>\n",
       "    </tr>\n",
       "    <tr>\n",
       "      <th>39</th>\n",
       "      <td>223-222@627-wbn-dsq</td>\n",
       "      <td>4481.0</td>\n",
       "      <td>Comme Des Garcons</td>\n",
       "      <td>Clothing Stores</td>\n",
       "      <td>NaN</td>\n",
       "      <td>979.0</td>\n",
       "      <td>1.0</td>\n",
       "      <td>1.0</td>\n",
       "      <td>0.0</td>\n",
       "      <td>0.0</td>\n",
       "      <td>...</td>\n",
       "      <td>300.0</td>\n",
       "      <td>0.0</td>\n",
       "      <td>0.0</td>\n",
       "      <td>0.0</td>\n",
       "      <td>0.0</td>\n",
       "      <td>0.0</td>\n",
       "      <td>1.0</td>\n",
       "      <td>2.0</td>\n",
       "      <td>2018-01-01</td>\n",
       "      <td>2018-01-08</td>\n",
       "    </tr>\n",
       "    <tr>\n",
       "      <th>40</th>\n",
       "      <td>22d-223@627-s8k-rhq</td>\n",
       "      <td>531110.0</td>\n",
       "      <td>Condos at 156 E 2nd St</td>\n",
       "      <td>Lessors of Real Estate</td>\n",
       "      <td>Lessors of Residential Buildings and Dwellings</td>\n",
       "      <td>14434.0</td>\n",
       "      <td>NaN</td>\n",
       "      <td>NaN</td>\n",
       "      <td>NaN</td>\n",
       "      <td>NaN</td>\n",
       "      <td>...</td>\n",
       "      <td>NaN</td>\n",
       "      <td>NaN</td>\n",
       "      <td>NaN</td>\n",
       "      <td>NaN</td>\n",
       "      <td>NaN</td>\n",
       "      <td>NaN</td>\n",
       "      <td>NaN</td>\n",
       "      <td>NaN</td>\n",
       "      <td>2018-01-01</td>\n",
       "      <td>2018-01-08</td>\n",
       "    </tr>\n",
       "    <tr>\n",
       "      <th>41</th>\n",
       "      <td>227-238@627-s8r-cnq</td>\n",
       "      <td>531210.0</td>\n",
       "      <td>Rooted Spaces</td>\n",
       "      <td>Offices of Real Estate Agents and Brokers</td>\n",
       "      <td>Offices of Real Estate Agents and Brokers</td>\n",
       "      <td>7531.0</td>\n",
       "      <td>NaN</td>\n",
       "      <td>NaN</td>\n",
       "      <td>NaN</td>\n",
       "      <td>NaN</td>\n",
       "      <td>...</td>\n",
       "      <td>NaN</td>\n",
       "      <td>NaN</td>\n",
       "      <td>NaN</td>\n",
       "      <td>NaN</td>\n",
       "      <td>NaN</td>\n",
       "      <td>NaN</td>\n",
       "      <td>NaN</td>\n",
       "      <td>NaN</td>\n",
       "      <td>2018-01-01</td>\n",
       "      <td>2018-01-08</td>\n",
       "    </tr>\n",
       "    <tr>\n",
       "      <th>42</th>\n",
       "      <td>222-223@627-s4n-x3q</td>\n",
       "      <td>624410.0</td>\n",
       "      <td>Abc Merricat's Castle</td>\n",
       "      <td>Child Day Care Services</td>\n",
       "      <td>Child Day Care Services</td>\n",
       "      <td>9403.0</td>\n",
       "      <td>NaN</td>\n",
       "      <td>NaN</td>\n",
       "      <td>NaN</td>\n",
       "      <td>NaN</td>\n",
       "      <td>...</td>\n",
       "      <td>NaN</td>\n",
       "      <td>NaN</td>\n",
       "      <td>NaN</td>\n",
       "      <td>NaN</td>\n",
       "      <td>NaN</td>\n",
       "      <td>NaN</td>\n",
       "      <td>NaN</td>\n",
       "      <td>NaN</td>\n",
       "      <td>2018-01-01</td>\n",
       "      <td>2018-01-08</td>\n",
       "    </tr>\n",
       "    <tr>\n",
       "      <th>43</th>\n",
       "      <td>223-22v@627-s8j-d5f</td>\n",
       "      <td>713940.0</td>\n",
       "      <td>Allowyoga</td>\n",
       "      <td>Other Amusement and Recreation Industries</td>\n",
       "      <td>Fitness and Recreational Sports Centers</td>\n",
       "      <td>14460.0</td>\n",
       "      <td>0.0</td>\n",
       "      <td>0.0</td>\n",
       "      <td>2.0</td>\n",
       "      <td>0.0</td>\n",
       "      <td>...</td>\n",
       "      <td>60.0</td>\n",
       "      <td>0.0</td>\n",
       "      <td>1.0</td>\n",
       "      <td>0.0</td>\n",
       "      <td>1.0</td>\n",
       "      <td>0.0</td>\n",
       "      <td>0.0</td>\n",
       "      <td>1.0</td>\n",
       "      <td>2018-01-01</td>\n",
       "      <td>2018-01-08</td>\n",
       "    </tr>\n",
       "    <tr>\n",
       "      <th>44</th>\n",
       "      <td>zzy-222@627-s8r-4d9</td>\n",
       "      <td>721110.0</td>\n",
       "      <td>New York Marriott East Side</td>\n",
       "      <td>Traveler Accommodation</td>\n",
       "      <td>Hotels (except Casino Hotels) and Motels</td>\n",
       "      <td>1951.0</td>\n",
       "      <td>54.0</td>\n",
       "      <td>20.0</td>\n",
       "      <td>27.0</td>\n",
       "      <td>35.0</td>\n",
       "      <td>...</td>\n",
       "      <td>125.0</td>\n",
       "      <td>3.0</td>\n",
       "      <td>25.0</td>\n",
       "      <td>20.0</td>\n",
       "      <td>31.0</td>\n",
       "      <td>28.0</td>\n",
       "      <td>21.0</td>\n",
       "      <td>92.0</td>\n",
       "      <td>2018-01-01</td>\n",
       "      <td>2018-01-08</td>\n",
       "    </tr>\n",
       "    <tr>\n",
       "      <th>45</th>\n",
       "      <td>22b-226@627-s8r-dvz</td>\n",
       "      <td>811211.0</td>\n",
       "      <td>Sos Tech Repair</td>\n",
       "      <td>Electronic and Precision Equipment Repair and ...</td>\n",
       "      <td>Consumer Electronics Repair and Maintenance</td>\n",
       "      <td>473.0</td>\n",
       "      <td>NaN</td>\n",
       "      <td>NaN</td>\n",
       "      <td>NaN</td>\n",
       "      <td>NaN</td>\n",
       "      <td>...</td>\n",
       "      <td>NaN</td>\n",
       "      <td>NaN</td>\n",
       "      <td>NaN</td>\n",
       "      <td>NaN</td>\n",
       "      <td>NaN</td>\n",
       "      <td>NaN</td>\n",
       "      <td>NaN</td>\n",
       "      <td>NaN</td>\n",
       "      <td>2018-01-01</td>\n",
       "      <td>2018-01-08</td>\n",
       "    </tr>\n",
       "    <tr>\n",
       "      <th>46</th>\n",
       "      <td>zzy-226@627-s4m-cdv</td>\n",
       "      <td>622310.0</td>\n",
       "      <td>Ryan Health West 97th Street</td>\n",
       "      <td>Specialty (except Psychiatric and Substance Ab...</td>\n",
       "      <td>Specialty (except Psychiatric and Substance Ab...</td>\n",
       "      <td>2305.0</td>\n",
       "      <td>NaN</td>\n",
       "      <td>NaN</td>\n",
       "      <td>NaN</td>\n",
       "      <td>NaN</td>\n",
       "      <td>...</td>\n",
       "      <td>NaN</td>\n",
       "      <td>NaN</td>\n",
       "      <td>NaN</td>\n",
       "      <td>NaN</td>\n",
       "      <td>NaN</td>\n",
       "      <td>NaN</td>\n",
       "      <td>NaN</td>\n",
       "      <td>NaN</td>\n",
       "      <td>2018-01-01</td>\n",
       "      <td>2018-01-08</td>\n",
       "    </tr>\n",
       "    <tr>\n",
       "      <th>47</th>\n",
       "      <td>227-222@627-wbn-9zz</td>\n",
       "      <td>713940.0</td>\n",
       "      <td>SoulCycle</td>\n",
       "      <td>Other Amusement and Recreation Industries</td>\n",
       "      <td>Fitness and Recreational Sports Centers</td>\n",
       "      <td>1236.0</td>\n",
       "      <td>2.0</td>\n",
       "      <td>2.0</td>\n",
       "      <td>3.0</td>\n",
       "      <td>2.0</td>\n",
       "      <td>...</td>\n",
       "      <td>99.0</td>\n",
       "      <td>1.0</td>\n",
       "      <td>0.0</td>\n",
       "      <td>1.0</td>\n",
       "      <td>3.0</td>\n",
       "      <td>7.0</td>\n",
       "      <td>3.0</td>\n",
       "      <td>3.0</td>\n",
       "      <td>2018-01-01</td>\n",
       "      <td>2018-01-08</td>\n",
       "    </tr>\n",
       "    <tr>\n",
       "      <th>48</th>\n",
       "      <td>zzw-222@627-wbv-bzf</td>\n",
       "      <td>8111.0</td>\n",
       "      <td>Autocraft NYC</td>\n",
       "      <td>Automotive Repair and Maintenance</td>\n",
       "      <td>NaN</td>\n",
       "      <td>418.0</td>\n",
       "      <td>NaN</td>\n",
       "      <td>NaN</td>\n",
       "      <td>NaN</td>\n",
       "      <td>NaN</td>\n",
       "      <td>...</td>\n",
       "      <td>NaN</td>\n",
       "      <td>NaN</td>\n",
       "      <td>NaN</td>\n",
       "      <td>NaN</td>\n",
       "      <td>NaN</td>\n",
       "      <td>NaN</td>\n",
       "      <td>NaN</td>\n",
       "      <td>NaN</td>\n",
       "      <td>2018-01-01</td>\n",
       "      <td>2018-01-08</td>\n",
       "    </tr>\n",
       "    <tr>\n",
       "      <th>49</th>\n",
       "      <td>zzy-225@627-wg7-649</td>\n",
       "      <td>485113.0</td>\n",
       "      <td>MTA New York City Transit RALPH AV BEVERLY RD</td>\n",
       "      <td>Urban Transit Systems</td>\n",
       "      <td>Bus and Other Motor Vehicle Transit Systems</td>\n",
       "      <td>NaN</td>\n",
       "      <td>NaN</td>\n",
       "      <td>NaN</td>\n",
       "      <td>NaN</td>\n",
       "      <td>NaN</td>\n",
       "      <td>...</td>\n",
       "      <td>NaN</td>\n",
       "      <td>NaN</td>\n",
       "      <td>NaN</td>\n",
       "      <td>NaN</td>\n",
       "      <td>NaN</td>\n",
       "      <td>NaN</td>\n",
       "      <td>NaN</td>\n",
       "      <td>NaN</td>\n",
       "      <td>2018-01-01</td>\n",
       "      <td>2018-01-08</td>\n",
       "    </tr>\n",
       "  </tbody>\n",
       "</table>\n",
       "<p>55 rows × 25 columns</p>\n",
       "</div>"
      ],
      "text/plain": [
       "           node.placekey  node.safegraph_core.naics_code  \\\n",
       "495  22z-222@627-wc6-y7q                        448140.0   \n",
       "496  zzw-23h@627-s8h-vpv                        722511.0   \n",
       "497  zzy-223@627-wg3-sdv                        485113.0   \n",
       "498  225-225@627-s8j-cqz                        453110.0   \n",
       "499  227-228@627-s8r-9fz                        448210.0   \n",
       "0    zzw-222@627-s4m-vfz                        621330.0   \n",
       "1    222-22b@627-s8j-q2k                        446110.0   \n",
       "2    zzw-227@627-s8j-ht9                        621320.0   \n",
       "3    224-222@627-s4t-3nq                        531110.0   \n",
       "4    234-225@627-s8j-3nq                        488410.0   \n",
       "5    22s-222@627-wc7-89z                        621210.0   \n",
       "6    zzw-225@627-s8j-m8v                          4481.0   \n",
       "7    22g-222@627-s8r-j5f                        442299.0   \n",
       "8    zzy-222@627-vsg-66k                        485113.0   \n",
       "9    22x-224@627-s8j-b6k                        811430.0   \n",
       "10   22z-222@627-s6g-7nq                        531110.0   \n",
       "11   zzy-222@627-s4n-n5z                        485113.0   \n",
       "12   232-222@627-s8q-whq                        522390.0   \n",
       "13   224-222@627-s8r-8y9                        453110.0   \n",
       "14   222-223@627-s4n-qs5                        624410.0   \n",
       "15   22p-222@627-s4k-ct9                        611691.0   \n",
       "16   zzy-224@627-wbz-sqz                        722513.0   \n",
       "17   228-222@627-s8r-cnq                        721110.0   \n",
       "18   22d-227@627-s8q-wc5                        519120.0   \n",
       "19   22j-222@627-s8j-6zf                        722515.0   \n",
       "20   239-223@627-s4t-xt9                        444190.0   \n",
       "21   zzy-223@627-wc2-3dv                        722511.0   \n",
       "22   22v-222@627-s4n-fmk                        621111.0   \n",
       "23   22z-222@627-wbv-j5f                        532289.0   \n",
       "24   22k-222@627-s4n-2c5                        713940.0   \n",
       "25   22t-222@627-s4n-vpv                        621111.0   \n",
       "26   zzy-222@627-s6j-bx5                        722515.0   \n",
       "27   26m-222@627-s8h-vmk                        517312.0   \n",
       "28   227-22r@627-wbv-j5f                        524210.0   \n",
       "29   227-229@627-s8r-bzf                        813110.0   \n",
       "30   224-22d@627-s8r-cnq                        722513.0   \n",
       "31   225-223@627-s8f-c3q                        453110.0   \n",
       "32   24g-222@627-s8k-26k                          3399.0   \n",
       "33   22r-225@627-s4k-grk                        522110.0   \n",
       "34   zzw-22b@627-s8q-zs5                        448310.0   \n",
       "35   zzy-222@627-s96-mx5                        485113.0   \n",
       "36   zzy-225@627-wbv-fzz                        485113.0   \n",
       "37   zzy-223@627-s6j-kzz                        485113.0   \n",
       "38   22t-223@627-s4v-zvf                        621340.0   \n",
       "39   223-222@627-wbn-dsq                          4481.0   \n",
       "40   22d-223@627-s8k-rhq                        531110.0   \n",
       "41   227-238@627-s8r-cnq                        531210.0   \n",
       "42   222-223@627-s4n-x3q                        624410.0   \n",
       "43   223-22v@627-s8j-d5f                        713940.0   \n",
       "44   zzy-222@627-s8r-4d9                        721110.0   \n",
       "45   22b-226@627-s8r-dvz                        811211.0   \n",
       "46   zzy-226@627-s4m-cdv                        622310.0   \n",
       "47   227-222@627-wbn-9zz                        713940.0   \n",
       "48   zzw-222@627-wbv-bzf                          8111.0   \n",
       "49   zzy-225@627-wg7-649                        485113.0   \n",
       "\n",
       "                     node.safegraph_core.location_name  \\\n",
       "495                                              Gucci   \n",
       "496                                               Cleo   \n",
       "497             MTA New York City Transit AV L E 28 ST   \n",
       "498                       Flower City & Porcelain Town   \n",
       "499                             Bennett Footwear Group   \n",
       "0                 Constance Cotter Weisenseel MSW LMSW   \n",
       "1                                                  CVS   \n",
       "2                      Economy Best Vision And Hearing   \n",
       "3                     Apartments at 515 517 W 139th St   \n",
       "4                          01 All Day Emergency Towing   \n",
       "5                                      Nai Yan Lam DDS   \n",
       "6                              Xcluzv Lifestyle Brands   \n",
       "7                                       Jonathan Adler   \n",
       "8      MTA New York City Transit RICHMOND AV FOREST ST   \n",
       "9                                          Cobbler LAB   \n",
       "10                                              Madera   \n",
       "11        MTA New York City Transit MADISON AV E 93 ST   \n",
       "12                                       Western Union   \n",
       "13                                Flowers of the World   \n",
       "14   Louis Greene Evelyn Green Davis Innovative Lea...   \n",
       "15                                   The Speech Garden   \n",
       "16                                     Market Lane NYC   \n",
       "17                                     Dylan Hotel NYC   \n",
       "18                                  Library of America   \n",
       "19                                      Hawa Smoothies   \n",
       "20                 Foundation Building Materials (FBM)   \n",
       "21                                  Veronica's Kitchen   \n",
       "22                                     Sanghvi Tani MD   \n",
       "23                                     Photostudio NYC   \n",
       "24                                  YogaWorks Eastside   \n",
       "25                Anesthesia Associates of Park Avenue   \n",
       "26                                             Dunkin'   \n",
       "27                           Vernacular Communications   \n",
       "28                                  Allstate Insurance   \n",
       "29                        New York Satsang Society Inc   \n",
       "30                                Chopt Creative Salad   \n",
       "31                                         Aaa Flowers   \n",
       "32                                   Valentine Usa Inc   \n",
       "33                                        Allpoint ATM   \n",
       "34                                       Central Watch   \n",
       "35    MTA New York City Transit LORIMER ST SKILLMAN AV   \n",
       "36   MTA New York City Transit AV OF THE AMERICAS W...   \n",
       "37        MTA New York City Transit E 174 ST BRYANT AV   \n",
       "38                                      Lexson Therapy   \n",
       "39                                   Comme Des Garcons   \n",
       "40                              Condos at 156 E 2nd St   \n",
       "41                                       Rooted Spaces   \n",
       "42                               Abc Merricat's Castle   \n",
       "43                                           Allowyoga   \n",
       "44                         New York Marriott East Side   \n",
       "45                                     Sos Tech Repair   \n",
       "46                        Ryan Health West 97th Street   \n",
       "47                                           SoulCycle   \n",
       "48                                       Autocraft NYC   \n",
       "49       MTA New York City Transit RALPH AV BEVERLY RD   \n",
       "\n",
       "                      node.safegraph_core.top_category  \\\n",
       "495                                    Clothing Stores   \n",
       "496                Restaurants and Other Eating Places   \n",
       "497                              Urban Transit Systems   \n",
       "498                                           Florists   \n",
       "499                                        Shoe Stores   \n",
       "0                Offices of Other Health Practitioners   \n",
       "1                      Health and Personal Care Stores   \n",
       "2                Offices of Other Health Practitioners   \n",
       "3                               Lessors of Real Estate   \n",
       "4           Support Activities for Road Transportation   \n",
       "5                                  Offices of Dentists   \n",
       "6                                      Clothing Stores   \n",
       "7                              Home Furnishings Stores   \n",
       "8                                Urban Transit Systems   \n",
       "9    Personal and Household Goods Repair and Mainte...   \n",
       "10                              Lessors of Real Estate   \n",
       "11                               Urban Transit Systems   \n",
       "12         Activities Related to Credit Intermediation   \n",
       "13                                            Florists   \n",
       "14                             Child Day Care Services   \n",
       "15                       Other Schools and Instruction   \n",
       "16                 Restaurants and Other Eating Places   \n",
       "17                              Traveler Accommodation   \n",
       "18                          Other Information Services   \n",
       "19                 Restaurants and Other Eating Places   \n",
       "20              Building Material and Supplies Dealers   \n",
       "21                 Restaurants and Other Eating Places   \n",
       "22                               Offices of Physicians   \n",
       "23                               Consumer Goods Rental   \n",
       "24           Other Amusement and Recreation Industries   \n",
       "25                               Offices of Physicians   \n",
       "26                 Restaurants and Other Eating Places   \n",
       "27      Wired and Wireless Telecommunications Carriers   \n",
       "28   Agencies, Brokerages, and Other Insurance Rela...   \n",
       "29                             Religious Organizations   \n",
       "30                 Restaurants and Other Eating Places   \n",
       "31                                            Florists   \n",
       "32                   Other Miscellaneous Manufacturing   \n",
       "33                    Depository Credit Intermediation   \n",
       "34          Jewelry, Luggage, and Leather Goods Stores   \n",
       "35                               Urban Transit Systems   \n",
       "36                               Urban Transit Systems   \n",
       "37                               Urban Transit Systems   \n",
       "38               Offices of Other Health Practitioners   \n",
       "39                                     Clothing Stores   \n",
       "40                              Lessors of Real Estate   \n",
       "41           Offices of Real Estate Agents and Brokers   \n",
       "42                             Child Day Care Services   \n",
       "43           Other Amusement and Recreation Industries   \n",
       "44                              Traveler Accommodation   \n",
       "45   Electronic and Precision Equipment Repair and ...   \n",
       "46   Specialty (except Psychiatric and Substance Ab...   \n",
       "47           Other Amusement and Recreation Industries   \n",
       "48                   Automotive Repair and Maintenance   \n",
       "49                               Urban Transit Systems   \n",
       "\n",
       "                      node.safegraph_core.sub_category  \\\n",
       "495                             Family Clothing Stores   \n",
       "496                           Full-Service Restaurants   \n",
       "497        Bus and Other Motor Vehicle Transit Systems   \n",
       "498                                           Florists   \n",
       "499                                        Shoe Stores   \n",
       "0    Offices of Mental Health Practitioners (except...   \n",
       "1                           Pharmacies and Drug Stores   \n",
       "2                              Offices of Optometrists   \n",
       "3       Lessors of Residential Buildings and Dwellings   \n",
       "4                                 Motor Vehicle Towing   \n",
       "5                                  Offices of Dentists   \n",
       "6                                                  NaN   \n",
       "7                    All Other Home Furnishings Stores   \n",
       "8          Bus and Other Motor Vehicle Transit Systems   \n",
       "9                    Footwear and Leather Goods Repair   \n",
       "10      Lessors of Residential Buildings and Dwellings   \n",
       "11         Bus and Other Motor Vehicle Transit Systems   \n",
       "12   Other Activities Related to Credit Intermediation   \n",
       "13                                            Florists   \n",
       "14                             Child Day Care Services   \n",
       "15                       Exam Preparation and Tutoring   \n",
       "16                         Limited-Service Restaurants   \n",
       "17            Hotels (except Casino Hotels) and Motels   \n",
       "18                              Libraries and Archives   \n",
       "19                Snack and Nonalcoholic Beverage Bars   \n",
       "20                     Other Building Material Dealers   \n",
       "21                            Full-Service Restaurants   \n",
       "22   Offices of Physicians (except Mental Health Sp...   \n",
       "23                     All Other Consumer Goods Rental   \n",
       "24             Fitness and Recreational Sports Centers   \n",
       "25   Offices of Physicians (except Mental Health Sp...   \n",
       "26                Snack and Nonalcoholic Beverage Bars   \n",
       "27   Wireless Telecommunications Carriers (except S...   \n",
       "28                   Insurance Agencies and Brokerages   \n",
       "29                             Religious Organizations   \n",
       "30                         Limited-Service Restaurants   \n",
       "31                                            Florists   \n",
       "32                                                 NaN   \n",
       "33                                  Commercial Banking   \n",
       "34                                      Jewelry Stores   \n",
       "35         Bus and Other Motor Vehicle Transit Systems   \n",
       "36         Bus and Other Motor Vehicle Transit Systems   \n",
       "37         Bus and Other Motor Vehicle Transit Systems   \n",
       "38   Offices of Physical, Occupational and Speech T...   \n",
       "39                                                 NaN   \n",
       "40      Lessors of Residential Buildings and Dwellings   \n",
       "41           Offices of Real Estate Agents and Brokers   \n",
       "42                             Child Day Care Services   \n",
       "43             Fitness and Recreational Sports Centers   \n",
       "44            Hotels (except Casino Hotels) and Motels   \n",
       "45         Consumer Electronics Repair and Maintenance   \n",
       "46   Specialty (except Psychiatric and Substance Ab...   \n",
       "47             Fitness and Recreational Sports Centers   \n",
       "48                                                 NaN   \n",
       "49         Bus and Other Motor Vehicle Transit Systems   \n",
       "\n",
       "     node.safegraph_geometry.wkt_area_sq_meters  day_0_visits  day_1_visits  \\\n",
       "495                                       513.0           NaN           NaN   \n",
       "496                                       212.0           NaN           NaN   \n",
       "497                                         NaN           NaN           NaN   \n",
       "498                                     14460.0           1.0           1.0   \n",
       "499                                     14988.0           0.0           1.0   \n",
       "0                                        4007.0           NaN           NaN   \n",
       "1                                         202.0           1.0           1.0   \n",
       "2                                       12486.0           NaN           NaN   \n",
       "3                                         327.0           NaN           NaN   \n",
       "4                                       12816.0           0.0           0.0   \n",
       "5                                        1003.0           1.0           0.0   \n",
       "6                                         686.0           4.0           6.0   \n",
       "7                                       11275.0           NaN           NaN   \n",
       "8                                           NaN           NaN           NaN   \n",
       "9                                         120.0           NaN           NaN   \n",
       "10                                        225.0           NaN           NaN   \n",
       "11                                          NaN           NaN           NaN   \n",
       "12                                       6956.0           NaN           NaN   \n",
       "13                                        649.0           7.0          12.0   \n",
       "14                                       4449.0           0.0           0.0   \n",
       "15                                       1772.0           0.0           0.0   \n",
       "16                                       6624.0          44.0          41.0   \n",
       "17                                       7531.0           1.0           2.0   \n",
       "18                                       3676.0           NaN           NaN   \n",
       "19                                         23.0           1.0           1.0   \n",
       "20                                        388.0           NaN           NaN   \n",
       "21                                        340.0           5.0           7.0   \n",
       "22                                       6117.0           NaN           NaN   \n",
       "23                                        450.0           NaN           NaN   \n",
       "24                                       6165.0           2.0           1.0   \n",
       "25                                       5790.0           NaN           NaN   \n",
       "26                                       5512.0           0.0           0.0   \n",
       "27                                      13748.0           NaN           NaN   \n",
       "28                                        670.0           NaN           NaN   \n",
       "29                                       1174.0           NaN           NaN   \n",
       "30                                        559.0           NaN           NaN   \n",
       "31                                       1338.0           NaN           NaN   \n",
       "32                                       1523.0           0.0           0.0   \n",
       "33                                          NaN           NaN           NaN   \n",
       "34                                       5509.0           2.0           4.0   \n",
       "35                                          NaN           NaN           NaN   \n",
       "36                                          NaN           NaN           NaN   \n",
       "37                                          NaN           NaN           NaN   \n",
       "38                                       6523.0           0.0           1.0   \n",
       "39                                        979.0           1.0           1.0   \n",
       "40                                      14434.0           NaN           NaN   \n",
       "41                                       7531.0           NaN           NaN   \n",
       "42                                       9403.0           NaN           NaN   \n",
       "43                                      14460.0           0.0           0.0   \n",
       "44                                       1951.0          54.0          20.0   \n",
       "45                                        473.0           NaN           NaN   \n",
       "46                                       2305.0           NaN           NaN   \n",
       "47                                       1236.0           2.0           2.0   \n",
       "48                                        418.0           NaN           NaN   \n",
       "49                                          NaN           NaN           NaN   \n",
       "\n",
       "     day_2_visits  day_3_visits  ...  median_dwell   <5  5-10  11-20  21-60  \\\n",
       "495           NaN           NaN  ...           NaN  NaN   NaN    NaN    NaN   \n",
       "496           NaN           NaN  ...           NaN  NaN   NaN    NaN    NaN   \n",
       "497           NaN           NaN  ...           NaN  NaN   NaN    NaN    NaN   \n",
       "498           3.0           0.0  ...         282.0  1.0   1.0    0.0    0.0   \n",
       "499           1.0           0.0  ...          18.0  0.0   1.0    2.0    1.0   \n",
       "0             NaN           NaN  ...           NaN  NaN   NaN    NaN    NaN   \n",
       "1            13.0           6.0  ...          10.0  1.0  14.0    9.0    0.0   \n",
       "2             NaN           NaN  ...           NaN  NaN   NaN    NaN    NaN   \n",
       "3             NaN           NaN  ...           NaN  NaN   NaN    NaN    NaN   \n",
       "4             0.0           0.0  ...           8.0  0.0   1.0    0.0    0.0   \n",
       "5             0.0           0.0  ...           6.0  0.0   1.0    0.0    0.0   \n",
       "6            15.0           5.0  ...          49.0  1.0   7.0    2.0   11.0   \n",
       "7             NaN           NaN  ...           NaN  NaN   NaN    NaN    NaN   \n",
       "8             NaN           NaN  ...           NaN  NaN   NaN    NaN    NaN   \n",
       "9             NaN           NaN  ...           NaN  NaN   NaN    NaN    NaN   \n",
       "10            NaN           NaN  ...           NaN  NaN   NaN    NaN    NaN   \n",
       "11            NaN           NaN  ...           NaN  NaN   NaN    NaN    NaN   \n",
       "12            NaN           NaN  ...           NaN  NaN   NaN    NaN    NaN   \n",
       "13           20.0           8.0  ...          45.5  1.0   7.0   14.0   32.0   \n",
       "14            0.0           0.0  ...         127.0  0.0   0.0    0.0    0.0   \n",
       "15            0.0           0.0  ...         257.0  0.0   0.0    0.0    0.0   \n",
       "16          155.0          83.0  ...          68.0  2.0  72.0   75.0  111.0   \n",
       "17            5.0           3.0  ...         183.5  0.0   3.0    3.0    0.0   \n",
       "18            NaN           NaN  ...           NaN  NaN   NaN    NaN    NaN   \n",
       "19            5.0           3.0  ...          50.0  1.0   7.0    1.0    5.0   \n",
       "20            NaN           NaN  ...           NaN  NaN   NaN    NaN    NaN   \n",
       "21           12.0           5.0  ...         144.0  1.0   3.0    6.0    3.0   \n",
       "22            NaN           NaN  ...           NaN  NaN   NaN    NaN    NaN   \n",
       "23            NaN           NaN  ...           NaN  NaN   NaN    NaN    NaN   \n",
       "24           15.0          10.0  ...          38.5  0.0   4.0   14.0   23.0   \n",
       "25            NaN           NaN  ...           NaN  NaN   NaN    NaN    NaN   \n",
       "26            1.0           1.0  ...        1019.5  0.0   1.0    0.0    0.0   \n",
       "27            NaN           NaN  ...           NaN  NaN   NaN    NaN    NaN   \n",
       "28            NaN           NaN  ...           NaN  NaN   NaN    NaN    NaN   \n",
       "29            NaN           NaN  ...           NaN  NaN   NaN    NaN    NaN   \n",
       "30            NaN           NaN  ...           NaN  NaN   NaN    NaN    NaN   \n",
       "31            NaN           NaN  ...           NaN  NaN   NaN    NaN    NaN   \n",
       "32            2.0           1.0  ...          13.5  1.0   0.0    3.0    0.0   \n",
       "33            NaN           NaN  ...           NaN  NaN   NaN    NaN    NaN   \n",
       "34            2.0           1.0  ...          17.0  0.0   5.0    5.0    1.0   \n",
       "35            NaN           NaN  ...           NaN  NaN   NaN    NaN    NaN   \n",
       "36            NaN           NaN  ...           NaN  NaN   NaN    NaN    NaN   \n",
       "37            NaN           NaN  ...           NaN  NaN   NaN    NaN    NaN   \n",
       "38            0.0           0.0  ...         555.0  0.0   0.0    0.0    0.0   \n",
       "39            0.0           0.0  ...         300.0  0.0   0.0    0.0    0.0   \n",
       "40            NaN           NaN  ...           NaN  NaN   NaN    NaN    NaN   \n",
       "41            NaN           NaN  ...           NaN  NaN   NaN    NaN    NaN   \n",
       "42            NaN           NaN  ...           NaN  NaN   NaN    NaN    NaN   \n",
       "43            2.0           0.0  ...          60.0  0.0   1.0    0.0    1.0   \n",
       "44           27.0          35.0  ...         125.0  3.0  25.0   20.0   31.0   \n",
       "45            NaN           NaN  ...           NaN  NaN   NaN    NaN    NaN   \n",
       "46            NaN           NaN  ...           NaN  NaN   NaN    NaN    NaN   \n",
       "47            3.0           2.0  ...          99.0  1.0   0.0    1.0    3.0   \n",
       "48            NaN           NaN  ...           NaN  NaN   NaN    NaN    NaN   \n",
       "49            NaN           NaN  ...           NaN  NaN   NaN    NaN    NaN   \n",
       "\n",
       "     61-120  121-240   >240       start         end  \n",
       "495     NaN      NaN    NaN  2018-01-01  2018-01-08  \n",
       "496     NaN      NaN    NaN  2018-01-01  2018-01-08  \n",
       "497     NaN      NaN    NaN  2018-01-01  2018-01-08  \n",
       "498     0.0      2.0    5.0  2018-01-01  2018-01-08  \n",
       "499     0.0      0.0    1.0  2018-01-01  2018-01-08  \n",
       "0       NaN      NaN    NaN  2018-01-01  2018-01-08  \n",
       "1       0.0      2.0    3.0  2018-01-01  2018-01-08  \n",
       "2       NaN      NaN    NaN  2018-01-01  2018-01-08  \n",
       "3       NaN      NaN    NaN  2018-01-01  2018-01-08  \n",
       "4       0.0      0.0    0.0  2018-01-01  2018-01-08  \n",
       "5       0.0      0.0    0.0  2018-01-01  2018-01-08  \n",
       "6       2.0      7.0    8.0  2018-01-01  2018-01-08  \n",
       "7       NaN      NaN    NaN  2018-01-01  2018-01-08  \n",
       "8       NaN      NaN    NaN  2018-01-01  2018-01-08  \n",
       "9       NaN      NaN    NaN  2018-01-01  2018-01-08  \n",
       "10      NaN      NaN    NaN  2018-01-01  2018-01-08  \n",
       "11      NaN      NaN    NaN  2018-01-01  2018-01-08  \n",
       "12      NaN      NaN    NaN  2018-01-01  2018-01-08  \n",
       "13     16.0      8.0   16.0  2018-01-01  2018-01-08  \n",
       "14      0.0      1.0    0.0  2018-01-01  2018-01-08  \n",
       "15      0.0      1.0    1.0  2018-01-01  2018-01-08  \n",
       "16    101.0     91.0  119.0  2018-01-01  2018-01-08  \n",
       "17      0.0      2.0    6.0  2018-01-01  2018-01-08  \n",
       "18      NaN      NaN    NaN  2018-01-01  2018-01-08  \n",
       "19      5.0      3.0    5.0  2018-01-01  2018-01-08  \n",
       "20      NaN      NaN    NaN  2018-01-01  2018-01-08  \n",
       "21      7.0      9.0   13.0  2018-01-01  2018-01-08  \n",
       "22      NaN      NaN    NaN  2018-01-01  2018-01-08  \n",
       "23      NaN      NaN    NaN  2018-01-01  2018-01-08  \n",
       "24     17.0      2.0    4.0  2018-01-01  2018-01-08  \n",
       "25      NaN      NaN    NaN  2018-01-01  2018-01-08  \n",
       "26      0.0      0.0   11.0  2018-01-01  2018-01-08  \n",
       "27      NaN      NaN    NaN  2018-01-01  2018-01-08  \n",
       "28      NaN      NaN    NaN  2018-01-01  2018-01-08  \n",
       "29      NaN      NaN    NaN  2018-01-01  2018-01-08  \n",
       "30      NaN      NaN    NaN  2018-01-01  2018-01-08  \n",
       "31      NaN      NaN    NaN  2018-01-01  2018-01-08  \n",
       "32      0.0      0.0    0.0  2018-01-01  2018-01-08  \n",
       "33      NaN      NaN    NaN  2018-01-01  2018-01-08  \n",
       "34      4.0      2.0    1.0  2018-01-01  2018-01-08  \n",
       "35      NaN      NaN    NaN  2018-01-01  2018-01-08  \n",
       "36      NaN      NaN    NaN  2018-01-01  2018-01-08  \n",
       "37      NaN      NaN    NaN  2018-01-01  2018-01-08  \n",
       "38      0.0      0.0    2.0  2018-01-01  2018-01-08  \n",
       "39      0.0      1.0    2.0  2018-01-01  2018-01-08  \n",
       "40      NaN      NaN    NaN  2018-01-01  2018-01-08  \n",
       "41      NaN      NaN    NaN  2018-01-01  2018-01-08  \n",
       "42      NaN      NaN    NaN  2018-01-01  2018-01-08  \n",
       "43      0.0      0.0    1.0  2018-01-01  2018-01-08  \n",
       "44     28.0     21.0   92.0  2018-01-01  2018-01-08  \n",
       "45      NaN      NaN    NaN  2018-01-01  2018-01-08  \n",
       "46      NaN      NaN    NaN  2018-01-01  2018-01-08  \n",
       "47      7.0      3.0    3.0  2018-01-01  2018-01-08  \n",
       "48      NaN      NaN    NaN  2018-01-01  2018-01-08  \n",
       "49      NaN      NaN    NaN  2018-01-01  2018-01-08  \n",
       "\n",
       "[55 rows x 25 columns]"
      ]
     },
     "execution_count": 7,
     "metadata": {},
     "output_type": "execute_result"
    }
   ],
   "source": [
    "df.iloc[495:550,:]"
   ]
  },
  {
   "cell_type": "code",
   "execution_count": 10,
   "metadata": {},
   "outputs": [
    {
     "data": {
      "text/plain": [
       "18821974"
      ]
     },
     "execution_count": 10,
     "metadata": {},
     "output_type": "execute_result"
    }
   ],
   "source": [
    "df.shape\n",
    "\n",
    "n = df.shape[0]\n",
    "\n",
    "n"
   ]
  },
  {
   "cell_type": "markdown",
   "metadata": {},
   "source": [
    "18,821,974 POI-weeks"
   ]
  },
  {
   "cell_type": "code",
   "execution_count": 9,
   "metadata": {},
   "outputs": [
    {
     "name": "stdout",
     "output_type": "stream",
     "text": [
      "node.safegraph_geometry.wkt_area_sq_meters has 16075038 rows that are not NaN\n",
      "raw_visitor_counts has 5360882 rows that are not NaN\n",
      "raw_visitor_counts has 5360882 rows that are not NaN\n",
      "median_dwell has 5360882 rows that are not NaN\n"
     ]
    }
   ],
   "source": [
    "count_na_cols = ['node.safegraph_geometry.wkt_area_sq_meters', 'raw_visitor_counts', 'raw_visitor_counts', 'median_dwell']\n",
    "\n",
    "for col in count_na_cols:\n",
    "    print(f\"{col} has {n - sum(df.loc[:,col].isna())} rows that are not NaN\")"
   ]
  },
  {
   "cell_type": "code",
   "execution_count": null,
   "metadata": {},
   "outputs": [],
   "source": [
    "5360882 / n * 100"
   ]
  },
  {
   "cell_type": "markdown",
   "metadata": {},
   "source": [
    "TODO: Check if NaNs are true zeros or visits just weren't tracked..."
   ]
  },
  {
   "cell_type": "code",
   "execution_count": 11,
   "metadata": {},
   "outputs": [],
   "source": [
    "no_nan_df = df[~df['raw_visitor_counts'].isnull()]"
   ]
  },
  {
   "cell_type": "code",
   "execution_count": 12,
   "metadata": {},
   "outputs": [
    {
     "data": {
      "text/plain": [
       "0"
      ]
     },
     "execution_count": 12,
     "metadata": {},
     "output_type": "execute_result"
    }
   ],
   "source": [
    "sum(no_nan_df['raw_visit_counts'] == 0)"
   ]
  },
  {
   "cell_type": "code",
   "execution_count": 13,
   "metadata": {},
   "outputs": [
    {
     "name": "stdout",
     "output_type": "stream",
     "text": [
      "node.safegraph_geometry.wkt_area_sq_meters has 0 rows that are NaN\n",
      "raw_visitor_counts has 0 rows that are NaN\n",
      "raw_visitor_counts has 0 rows that are NaN\n",
      "median_dwell has 0 rows that are NaN\n"
     ]
    }
   ],
   "source": [
    "for col in count_na_cols:\n",
    "    print(f\"{col} has {sum(no_nan_df.loc[:,col].isna())} rows that are NaN\")"
   ]
  },
  {
   "cell_type": "code",
   "execution_count": 14,
   "metadata": {},
   "outputs": [
    {
     "data": {
      "text/plain": [
       "(5360882, 25)"
      ]
     },
     "execution_count": 14,
     "metadata": {},
     "output_type": "execute_result"
    }
   ],
   "source": [
    "no_nan_df.shape"
   ]
  },
  {
   "cell_type": "code",
   "execution_count": 42,
   "metadata": {},
   "outputs": [
    {
     "data": {
      "text/plain": [
       "248901"
      ]
     },
     "execution_count": 42,
     "metadata": {},
     "output_type": "execute_result"
    }
   ],
   "source": [
    "5360882 - 5111981"
   ]
  },
  {
   "cell_type": "code",
   "execution_count": 15,
   "metadata": {},
   "outputs": [
    {
     "data": {
      "text/plain": [
       "760"
      ]
     },
     "execution_count": 15,
     "metadata": {},
     "output_type": "execute_result"
    }
   ],
   "source": [
    "sum(no_nan_df['node.safegraph_core.naics_code'].isna())"
   ]
  },
  {
   "cell_type": "code",
   "execution_count": 16,
   "metadata": {},
   "outputs": [],
   "source": [
    "no_nan_df = no_nan_df[~no_nan_df['node.safegraph_core.naics_code'].isnull()]"
   ]
  },
  {
   "cell_type": "code",
   "execution_count": 17,
   "metadata": {},
   "outputs": [],
   "source": [
    "no_nan_df['node.safegraph_core.naics_code'] = no_nan_df['node.safegraph_core.naics_code'].astype(int).astype(str)"
   ]
  },
  {
   "cell_type": "code",
   "execution_count": 18,
   "metadata": {},
   "outputs": [
    {
     "data": {
      "text/plain": [
       "Counter({6: 4977967, 4: 325067, 5: 43005, 3: 14083})"
      ]
     },
     "execution_count": 18,
     "metadata": {},
     "output_type": "execute_result"
    }
   ],
   "source": [
    "from collections import Counter\n",
    "\n",
    "naics_code_lengths = no_nan_df['node.safegraph_core.naics_code'].apply(len).tolist()\n",
    "\n",
    "Counter(naics_code_lengths)"
   ]
  },
  {
   "cell_type": "code",
   "execution_count": 19,
   "metadata": {},
   "outputs": [
    {
     "data": {
      "text/plain": [
       "291"
      ]
     },
     "execution_count": 19,
     "metadata": {},
     "output_type": "execute_result"
    }
   ],
   "source": [
    "len(np.unique(no_nan_df['node.safegraph_core.naics_code']))"
   ]
  },
  {
   "cell_type": "code",
   "execution_count": 20,
   "metadata": {},
   "outputs": [
    {
     "data": {
      "text/plain": [
       "49531"
      ]
     },
     "execution_count": 20,
     "metadata": {},
     "output_type": "execute_result"
    }
   ],
   "source": [
    "len(np.unique(no_nan_df['node.placekey']))"
   ]
  },
  {
   "cell_type": "markdown",
   "metadata": {},
   "source": [
    "291 unique NAICS codes across 49,531 unique POIs"
   ]
  },
  {
   "cell_type": "code",
   "execution_count": 21,
   "metadata": {},
   "outputs": [],
   "source": [
    "no_nan_df['density'] = no_nan_df['raw_visit_counts'] / no_nan_df['node.safegraph_geometry.wkt_area_sq_meters'] "
   ]
  },
  {
   "cell_type": "code",
   "execution_count": 22,
   "metadata": {},
   "outputs": [],
   "source": [
    "summary_df = no_nan_df[['node.safegraph_core.top_category', 'density', 'median_dwell']].groupby('node.safegraph_core.top_category').describe().unstack(1)\n",
    "summary_df.to_csv('summary_stats.csv')"
   ]
  },
  {
   "cell_type": "code",
   "execution_count": 23,
   "metadata": {},
   "outputs": [
    {
     "data": {
      "text/plain": [
       "<AxesSubplot:ylabel='Frequency'>"
      ]
     },
     "execution_count": 23,
     "metadata": {},
     "output_type": "execute_result"
    },
    {
     "data": {
      "text/plain": [
       "<Figure size 1800x600 with 0 Axes>"
      ]
     },
     "metadata": {},
     "output_type": "display_data"
    },
    {
     "data": {
      "image/png": "[encoded data removed]",
      "text/plain": [
       "<Figure size 640x480 with 1 Axes>"
      ]
     },
     "metadata": {},
     "output_type": "display_data"
    }
   ],
   "source": [
    "plt.figure(figsize=(18,6))\n",
    "no_nan_df[['median_dwell']].plot.hist(bins=50)"
   ]
  },
  {
   "cell_type": "code",
   "execution_count": 24,
   "metadata": {},
   "outputs": [
    {
     "data": {
      "text/plain": [
       "median_dwell    0.059817\n",
       "dtype: float64"
      ]
     },
     "execution_count": 24,
     "metadata": {},
     "output_type": "execute_result"
    }
   ],
   "source": [
    "np.sum(no_nan_df[['median_dwell']] < 10) / len(no_nan_df)"
   ]
  },
  {
   "cell_type": "markdown",
   "metadata": {},
   "source": [
    "Not bimodal... but I think 300 minutes (5 hours) is a reasonable cutoff time"
   ]
  },
  {
   "cell_type": "code",
   "execution_count": 25,
   "metadata": {},
   "outputs": [
    {
     "data": {
      "text/plain": [
       "<AxesSubplot:ylabel='Frequency'>"
      ]
     },
     "execution_count": 25,
     "metadata": {},
     "output_type": "execute_result"
    },
    {
     "data": {
      "text/plain": [
       "<Figure size 1800x600 with 0 Axes>"
      ]
     },
     "metadata": {},
     "output_type": "display_data"
    },
    {
     "data": {
      "image/png": "[encoded data removed]",
      "text/plain": [
       "<Figure size 640x480 with 1 Axes>"
      ]
     },
     "metadata": {},
     "output_type": "display_data"
    }
   ],
   "source": [
    "plt.figure(figsize=(18,6))\n",
    "no_nan_df[['density']].plot.hist(bins=50)"
   ]
  },
  {
   "cell_type": "code",
   "execution_count": 32,
   "metadata": {},
   "outputs": [
    {
     "data": {
      "text/plain": [
       "Text(0, 0.5, 'Dwell time (min)')"
      ]
     },
     "execution_count": 32,
     "metadata": {},
     "output_type": "execute_result"
    },
    {
     "data": {
      "image/png": "[encoded data removed]",
      "text/plain": [
       "<Figure size 1800x600 with 1 Axes>"
      ]
     },
     "metadata": {},
     "output_type": "display_data"
    }
   ],
   "source": [
    "plt.figure(figsize=(18,6))\n",
    "plt.plot(no_nan_df[['density']], no_nan_df[['median_dwell']], 'bo')\n",
    "plt.xlabel('Density (weekly visit count / m^2)')\n",
    "plt.ylabel('Dwell time (min)')"
   ]
  },
  {
   "cell_type": "code",
   "execution_count": 33,
   "metadata": {},
   "outputs": [],
   "source": [
    "no_nan_df.loc[no_nan_df['density'] > 150, :].to_csv('large_density.csv', index=False)"
   ]
  },
  {
   "cell_type": "code",
   "execution_count": 35,
   "metadata": {},
   "outputs": [],
   "source": [
    "no_nan_df.loc[no_nan_df['median_dwell'] > 500, :].to_csv('large_dwell.csv', index=False)"
   ]
  },
  {
   "cell_type": "code",
   "execution_count": 40,
   "metadata": {},
   "outputs": [],
   "source": [
    "removed_outlier_df = no_nan_df.loc[(no_nan_df['median_dwell'] < 500) & (no_nan_df['density'] < 150),:]"
   ]
  },
  {
   "cell_type": "code",
   "execution_count": 45,
   "metadata": {},
   "outputs": [
    {
     "name": "stderr",
     "output_type": "stream",
     "text": [
      "C:\\Users\\hyone\\AppData\\Local\\Temp\\ipykernel_31288\\626609350.py:1: SettingWithCopyWarning: \n",
      "A value is trying to be set on a copy of a slice from a DataFrame.\n",
      "Try using .loc[row_indexer,col_indexer] = value instead\n",
      "\n",
      "See the caveats in the documentation: https://pandas.pydata.org/pandas-docs/stable/user_guide/indexing.html#returning-a-view-versus-a-copy\n",
      "  removed_outlier_df['start'] = pd.to_datetime(removed_outlier_df.start, format='%Y-%m-%d')\n",
      "C:\\Users\\hyone\\AppData\\Local\\Temp\\ipykernel_31288\\626609350.py:2: SettingWithCopyWarning: \n",
      "A value is trying to be set on a copy of a slice from a DataFrame.\n",
      "Try using .loc[row_indexer,col_indexer] = value instead\n",
      "\n",
      "See the caveats in the documentation: https://pandas.pydata.org/pandas-docs/stable/user_guide/indexing.html#returning-a-view-versus-a-copy\n",
      "  removed_outlier_df['end'] = pd.to_datetime(removed_outlier_df.start, format='%Y-%m-%d')\n"
     ]
    }
   ],
   "source": [
    "removed_outlier_df['start'] = pd.to_datetime(removed_outlier_df.start, format='%Y-%m-%d')\n",
    "removed_outlier_df['end'] = pd.to_datetime(removed_outlier_df.start, format='%Y-%m-%d')"
   ]
  },
  {
   "cell_type": "code",
   "execution_count": 50,
   "metadata": {},
   "outputs": [],
   "source": [
    "df_2019 = removed_outlier_df.loc[(removed_outlier_df.start > '2019-01-01') & (removed_outlier_df.start < '2019-12-31'),:]"
   ]
  },
  {
   "cell_type": "code",
   "execution_count": 56,
   "metadata": {},
   "outputs": [
    {
     "data": {
      "text/html": [
       "<div>\n",
       "<style scoped>\n",
       "    .dataframe tbody tr th:only-of-type {\n",
       "        vertical-align: middle;\n",
       "    }\n",
       "\n",
       "    .dataframe tbody tr th {\n",
       "        vertical-align: top;\n",
       "    }\n",
       "\n",
       "    .dataframe thead th {\n",
       "        text-align: right;\n",
       "    }\n",
       "</style>\n",
       "<table border=\"1\" class=\"dataframe\">\n",
       "  <thead>\n",
       "    <tr style=\"text-align: right;\">\n",
       "      <th></th>\n",
       "      <th>node.placekey</th>\n",
       "      <th>node.safegraph_core.naics_code</th>\n",
       "      <th>node.safegraph_core.location_name</th>\n",
       "      <th>node.safegraph_core.top_category</th>\n",
       "      <th>node.safegraph_core.sub_category</th>\n",
       "      <th>node.safegraph_geometry.wkt_area_sq_meters</th>\n",
       "      <th>day_0_visits</th>\n",
       "      <th>day_1_visits</th>\n",
       "      <th>day_2_visits</th>\n",
       "      <th>day_3_visits</th>\n",
       "      <th>...</th>\n",
       "      <th>&lt;5</th>\n",
       "      <th>5-10</th>\n",
       "      <th>11-20</th>\n",
       "      <th>21-60</th>\n",
       "      <th>61-120</th>\n",
       "      <th>121-240</th>\n",
       "      <th>&gt;240</th>\n",
       "      <th>start</th>\n",
       "      <th>end</th>\n",
       "      <th>density</th>\n",
       "    </tr>\n",
       "  </thead>\n",
       "  <tbody>\n",
       "    <tr>\n",
       "      <th>6</th>\n",
       "      <td>22p-222@627-s4w-3dv</td>\n",
       "      <td>446120</td>\n",
       "      <td>MAC Cosmetics</td>\n",
       "      <td>Health and Personal Care Stores</td>\n",
       "      <td>Cosmetics, Beauty Supplies, and Perfume Stores</td>\n",
       "      <td>71.0</td>\n",
       "      <td>5.0</td>\n",
       "      <td>4.0</td>\n",
       "      <td>8.0</td>\n",
       "      <td>6.0</td>\n",
       "      <td>...</td>\n",
       "      <td>1.0</td>\n",
       "      <td>12.0</td>\n",
       "      <td>19.0</td>\n",
       "      <td>5.0</td>\n",
       "      <td>3.0</td>\n",
       "      <td>3.0</td>\n",
       "      <td>3.0</td>\n",
       "      <td>2019-01-07</td>\n",
       "      <td>2019-01-07</td>\n",
       "      <td>0.647887</td>\n",
       "    </tr>\n",
       "    <tr>\n",
       "      <th>9</th>\n",
       "      <td>22h-222@627-s8j-975</td>\n",
       "      <td>442110</td>\n",
       "      <td>Stickley Audi &amp; Co</td>\n",
       "      <td>Furniture Stores</td>\n",
       "      <td>Furniture Stores</td>\n",
       "      <td>304.0</td>\n",
       "      <td>0.0</td>\n",
       "      <td>1.0</td>\n",
       "      <td>2.0</td>\n",
       "      <td>1.0</td>\n",
       "      <td>...</td>\n",
       "      <td>1.0</td>\n",
       "      <td>2.0</td>\n",
       "      <td>3.0</td>\n",
       "      <td>0.0</td>\n",
       "      <td>0.0</td>\n",
       "      <td>0.0</td>\n",
       "      <td>2.0</td>\n",
       "      <td>2019-01-07</td>\n",
       "      <td>2019-01-07</td>\n",
       "      <td>0.026316</td>\n",
       "    </tr>\n",
       "    <tr>\n",
       "      <th>15</th>\n",
       "      <td>222-225@627-wbz-3qz</td>\n",
       "      <td>611310</td>\n",
       "      <td>Brooklyn College Graduate Center For Worker Ed...</td>\n",
       "      <td>Colleges, Universities, and Professional Schools</td>\n",
       "      <td>Colleges, Universities, and Professional Schools</td>\n",
       "      <td>11473.0</td>\n",
       "      <td>0.0</td>\n",
       "      <td>1.0</td>\n",
       "      <td>0.0</td>\n",
       "      <td>0.0</td>\n",
       "      <td>...</td>\n",
       "      <td>0.0</td>\n",
       "      <td>0.0</td>\n",
       "      <td>0.0</td>\n",
       "      <td>0.0</td>\n",
       "      <td>0.0</td>\n",
       "      <td>0.0</td>\n",
       "      <td>2.0</td>\n",
       "      <td>2019-01-07</td>\n",
       "      <td>2019-01-07</td>\n",
       "      <td>0.000174</td>\n",
       "    </tr>\n",
       "    <tr>\n",
       "      <th>17</th>\n",
       "      <td>22d-223@627-s8q-tjv</td>\n",
       "      <td>712110</td>\n",
       "      <td>American Craft Museum</td>\n",
       "      <td>Museums, Historical Sites, and Similar Institu...</td>\n",
       "      <td>Museums</td>\n",
       "      <td>1353.0</td>\n",
       "      <td>11.0</td>\n",
       "      <td>25.0</td>\n",
       "      <td>25.0</td>\n",
       "      <td>19.0</td>\n",
       "      <td>...</td>\n",
       "      <td>2.0</td>\n",
       "      <td>3.0</td>\n",
       "      <td>7.0</td>\n",
       "      <td>42.0</td>\n",
       "      <td>45.0</td>\n",
       "      <td>26.0</td>\n",
       "      <td>18.0</td>\n",
       "      <td>2019-01-07</td>\n",
       "      <td>2019-01-07</td>\n",
       "      <td>0.105691</td>\n",
       "    </tr>\n",
       "    <tr>\n",
       "      <th>19</th>\n",
       "      <td>22c-225@627-s4n-skf</td>\n",
       "      <td>722410</td>\n",
       "      <td>Stella &amp; Fly</td>\n",
       "      <td>Drinking Places (Alcoholic Beverages)</td>\n",
       "      <td>Drinking Places (Alcoholic Beverages)</td>\n",
       "      <td>410.0</td>\n",
       "      <td>1.0</td>\n",
       "      <td>1.0</td>\n",
       "      <td>1.0</td>\n",
       "      <td>0.0</td>\n",
       "      <td>...</td>\n",
       "      <td>0.0</td>\n",
       "      <td>2.0</td>\n",
       "      <td>2.0</td>\n",
       "      <td>1.0</td>\n",
       "      <td>1.0</td>\n",
       "      <td>0.0</td>\n",
       "      <td>3.0</td>\n",
       "      <td>2019-01-07</td>\n",
       "      <td>2019-01-07</td>\n",
       "      <td>0.021951</td>\n",
       "    </tr>\n",
       "  </tbody>\n",
       "</table>\n",
       "<p>5 rows × 26 columns</p>\n",
       "</div>"
      ],
      "text/plain": [
       "          node.placekey node.safegraph_core.naics_code  \\\n",
       "6   22p-222@627-s4w-3dv                         446120   \n",
       "9   22h-222@627-s8j-975                         442110   \n",
       "15  222-225@627-wbz-3qz                         611310   \n",
       "17  22d-223@627-s8q-tjv                         712110   \n",
       "19  22c-225@627-s4n-skf                         722410   \n",
       "\n",
       "                    node.safegraph_core.location_name  \\\n",
       "6                                       MAC Cosmetics   \n",
       "9                                  Stickley Audi & Co   \n",
       "15  Brooklyn College Graduate Center For Worker Ed...   \n",
       "17                              American Craft Museum   \n",
       "19                                       Stella & Fly   \n",
       "\n",
       "                     node.safegraph_core.top_category  \\\n",
       "6                     Health and Personal Care Stores   \n",
       "9                                    Furniture Stores   \n",
       "15   Colleges, Universities, and Professional Schools   \n",
       "17  Museums, Historical Sites, and Similar Institu...   \n",
       "19              Drinking Places (Alcoholic Beverages)   \n",
       "\n",
       "                    node.safegraph_core.sub_category  \\\n",
       "6     Cosmetics, Beauty Supplies, and Perfume Stores   \n",
       "9                                   Furniture Stores   \n",
       "15  Colleges, Universities, and Professional Schools   \n",
       "17                                           Museums   \n",
       "19             Drinking Places (Alcoholic Beverages)   \n",
       "\n",
       "    node.safegraph_geometry.wkt_area_sq_meters  day_0_visits  day_1_visits  \\\n",
       "6                                         71.0           5.0           4.0   \n",
       "9                                        304.0           0.0           1.0   \n",
       "15                                     11473.0           0.0           1.0   \n",
       "17                                      1353.0          11.0          25.0   \n",
       "19                                       410.0           1.0           1.0   \n",
       "\n",
       "    day_2_visits  day_3_visits  ...   <5  5-10  11-20  21-60  61-120  121-240  \\\n",
       "6            8.0           6.0  ...  1.0  12.0   19.0    5.0     3.0      3.0   \n",
       "9            2.0           1.0  ...  1.0   2.0    3.0    0.0     0.0      0.0   \n",
       "15           0.0           0.0  ...  0.0   0.0    0.0    0.0     0.0      0.0   \n",
       "17          25.0          19.0  ...  2.0   3.0    7.0   42.0    45.0     26.0   \n",
       "19           1.0           0.0  ...  0.0   2.0    2.0    1.0     1.0      0.0   \n",
       "\n",
       "    >240      start        end   density  \n",
       "6    3.0 2019-01-07 2019-01-07  0.647887  \n",
       "9    2.0 2019-01-07 2019-01-07  0.026316  \n",
       "15   2.0 2019-01-07 2019-01-07  0.000174  \n",
       "17  18.0 2019-01-07 2019-01-07  0.105691  \n",
       "19   3.0 2019-01-07 2019-01-07  0.021951  \n",
       "\n",
       "[5 rows x 26 columns]"
      ]
     },
     "execution_count": 56,
     "metadata": {},
     "output_type": "execute_result"
    }
   ],
   "source": [
    "df_2019.head()"
   ]
  },
  {
   "cell_type": "code",
   "execution_count": 61,
   "metadata": {},
   "outputs": [
    {
     "name": "stderr",
     "output_type": "stream",
     "text": [
      "C:\\Users\\hyone\\AppData\\Local\\Temp\\ipykernel_31288\\526604028.py:1: FutureWarning: Indexing with multiple keys (implicitly converted to a tuple of keys) will be deprecated, use a list instead.\n",
      "  df_2019_mean = df_2019.groupby('node.placekey')['density', 'median_dwell'].mean()\n"
     ]
    }
   ],
   "source": [
    "df_2019_mean = df_2019.groupby('node.placekey')['density', 'median_dwell'].mean()"
   ]
  },
  {
   "cell_type": "code",
   "execution_count": 70,
   "metadata": {},
   "outputs": [],
   "source": [
    "df_2019_mean.to_csv('df_2019_mean.csv', index=False)"
   ]
  },
  {
   "cell_type": "code",
   "execution_count": 62,
   "metadata": {},
   "outputs": [],
   "source": [
    "X = df_2019_mean[['density','median_dwell']]"
   ]
  },
  {
   "cell_type": "code",
   "execution_count": 63,
   "metadata": {},
   "outputs": [
    {
     "data": {
      "text/plain": [
       "(32882, 2)"
      ]
     },
     "execution_count": 63,
     "metadata": {},
     "output_type": "execute_result"
    }
   ],
   "source": [
    "X.shape"
   ]
  },
  {
   "cell_type": "code",
   "execution_count": 64,
   "metadata": {},
   "outputs": [
    {
     "data": {
      "text/html": [
       "<div>\n",
       "<style scoped>\n",
       "    .dataframe tbody tr th:only-of-type {\n",
       "        vertical-align: middle;\n",
       "    }\n",
       "\n",
       "    .dataframe tbody tr th {\n",
       "        vertical-align: top;\n",
       "    }\n",
       "\n",
       "    .dataframe thead th {\n",
       "        text-align: right;\n",
       "    }\n",
       "</style>\n",
       "<table border=\"1\" class=\"dataframe\">\n",
       "  <thead>\n",
       "    <tr style=\"text-align: right;\">\n",
       "      <th></th>\n",
       "      <th>density</th>\n",
       "      <th>median_dwell</th>\n",
       "    </tr>\n",
       "  </thead>\n",
       "  <tbody>\n",
       "    <tr>\n",
       "      <th>count</th>\n",
       "      <td>3.288200e+04</td>\n",
       "      <td>32882.000000</td>\n",
       "    </tr>\n",
       "    <tr>\n",
       "      <th>mean</th>\n",
       "      <td>2.135124e-01</td>\n",
       "      <td>100.499871</td>\n",
       "    </tr>\n",
       "    <tr>\n",
       "      <th>std</th>\n",
       "      <td>9.750538e-01</td>\n",
       "      <td>100.589152</td>\n",
       "    </tr>\n",
       "    <tr>\n",
       "      <th>min</th>\n",
       "      <td>2.943466e-07</td>\n",
       "      <td>4.000000</td>\n",
       "    </tr>\n",
       "    <tr>\n",
       "      <th>25%</th>\n",
       "      <td>1.926411e-03</td>\n",
       "      <td>33.221154</td>\n",
       "    </tr>\n",
       "    <tr>\n",
       "      <th>50%</th>\n",
       "      <td>1.345297e-02</td>\n",
       "      <td>65.552885</td>\n",
       "    </tr>\n",
       "    <tr>\n",
       "      <th>75%</th>\n",
       "      <td>1.021440e-01</td>\n",
       "      <td>130.000000</td>\n",
       "    </tr>\n",
       "    <tr>\n",
       "      <th>max</th>\n",
       "      <td>6.723077e+01</td>\n",
       "      <td>499.000000</td>\n",
       "    </tr>\n",
       "  </tbody>\n",
       "</table>\n",
       "</div>"
      ],
      "text/plain": [
       "            density  median_dwell\n",
       "count  3.288200e+04  32882.000000\n",
       "mean   2.135124e-01    100.499871\n",
       "std    9.750538e-01    100.589152\n",
       "min    2.943466e-07      4.000000\n",
       "25%    1.926411e-03     33.221154\n",
       "50%    1.345297e-02     65.552885\n",
       "75%    1.021440e-01    130.000000\n",
       "max    6.723077e+01    499.000000"
      ]
     },
     "execution_count": 64,
     "metadata": {},
     "output_type": "execute_result"
    }
   ],
   "source": [
    "X.describe()"
   ]
  },
  {
   "cell_type": "code",
   "execution_count": 65,
   "metadata": {},
   "outputs": [],
   "source": [
    "import matplotlib as mpl\n",
    "mpl.rcParams['agg.path.chunksize'] = 6000000"
   ]
  },
  {
   "cell_type": "code",
   "execution_count": 66,
   "metadata": {},
   "outputs": [
    {
     "data": {
      "text/plain": [
       "Text(0.5, 1.0, 'Density vs Median Dwell Time (2019 averages)')"
      ]
     },
     "execution_count": 66,
     "metadata": {},
     "output_type": "execute_result"
    },
    {
     "data": {
      "image/png": "[encoded data removed]",
      "text/plain": [
       "<Figure size 1800x600 with 1 Axes>"
      ]
     },
     "metadata": {},
     "output_type": "display_data"
    }
   ],
   "source": [
    "plt.figure(figsize=(18,6))\n",
    "plt.plot(X.iloc[:,0], X.iloc[:,1], 'bo')\n",
    "plt.xlabel('Density (weekly visit count / m^2)')\n",
    "plt.ylabel('Dwell time (min)')\n",
    "plt.title('Density vs Median Dwell Time (2019 averages)')\n"
   ]
  },
  {
   "cell_type": "code",
   "execution_count": 137,
   "metadata": {},
   "outputs": [
    {
     "data": {
      "text/plain": [
       "Text(0.5, 1.0, 'Density vs Median Dwell Time Log Transform (2019 averages)')"
      ]
     },
     "execution_count": 137,
     "metadata": {},
     "output_type": "execute_result"
    },
    {
     "data": {
      "image/png": "[encoded data removed]",
      "text/plain": [
       "<Figure size 1800x600 with 1 Axes>"
      ]
     },
     "metadata": {},
     "output_type": "display_data"
    }
   ],
   "source": [
    "X_log = np.log(X)\n",
    "\n",
    "plt.figure(figsize=(18,6))\n",
    "plt.plot(X_log['density'], X_log['median_dwell'], 'bo')\n",
    "plt.xlabel('Density')\n",
    "plt.ylabel('Dwell time')\n",
    "plt.title('Density vs Median Dwell Time Log Transform (2019 averages)')"
   ]
  },
  {
   "cell_type": "code",
   "execution_count": 67,
   "metadata": {},
   "outputs": [],
   "source": [
    "from sklearn.preprocessing import StandardScaler\n",
    "\n",
    "scaler = StandardScaler()\n",
    "\n",
    "X_standardized = scaler.fit_transform(X)"
   ]
  },
  {
   "cell_type": "code",
   "execution_count": 69,
   "metadata": {},
   "outputs": [
    {
     "data": {
      "text/plain": [
       "Text(0.5, 1.0, 'Density vs Median Dwell Time Z score (2019 averages)')"
      ]
     },
     "execution_count": 69,
     "metadata": {},
     "output_type": "execute_result"
    },
    {
     "data": {
      "image/png": "[encoded data removed]",
      "text/plain": [
       "<Figure size 1800x600 with 1 Axes>"
      ]
     },
     "metadata": {},
     "output_type": "display_data"
    }
   ],
   "source": [
    "plt.figure(figsize=(18,6))\n",
    "plt.plot(X_standardized[:,0], X_standardized[:,1], 'bo')\n",
    "plt.xlabel('Density')\n",
    "plt.ylabel('Dwell time')\n",
    "plt.title('Density vs Median Dwell Time Z score (2019 averages)')"
   ]
  },
  {
   "cell_type": "code",
   "execution_count": null,
   "metadata": {},
   "outputs": [],
   "source": [
    "import pymc3 as pm"
   ]
  },
  {
   "cell_type": "markdown",
   "metadata": {},
   "source": [
    "### Kmeans"
   ]
  },
  {
   "cell_type": "code",
   "execution_count": 138,
   "metadata": {},
   "outputs": [
    {
     "name": "stderr",
     "output_type": "stream",
     "text": [
      "  0%|          | 0/13 [00:00<?, ?it/s]"
     ]
    },
    {
     "name": "stdout",
     "output_type": "stream",
     "text": [
      "Running kmeans for K=2\n"
     ]
    },
    {
     "name": "stderr",
     "output_type": "stream",
     "text": [
      "  8%|▊         | 1/13 [00:00<00:03,  3.87it/s]"
     ]
    },
    {
     "name": "stdout",
     "output_type": "stream",
     "text": [
      "Running kmeans for K=3\n"
     ]
    },
    {
     "name": "stderr",
     "output_type": "stream",
     "text": [
      " 15%|█▌        | 2/13 [00:00<00:04,  2.53it/s]"
     ]
    },
    {
     "name": "stdout",
     "output_type": "stream",
     "text": [
      "Running kmeans for K=4\n"
     ]
    },
    {
     "name": "stderr",
     "output_type": "stream",
     "text": [
      " 23%|██▎       | 3/13 [00:01<00:05,  1.88it/s]"
     ]
    },
    {
     "name": "stdout",
     "output_type": "stream",
     "text": [
      "Running kmeans for K=5\n"
     ]
    },
    {
     "name": "stderr",
     "output_type": "stream",
     "text": [
      " 31%|███       | 4/13 [00:02<00:08,  1.11it/s]"
     ]
    },
    {
     "name": "stdout",
     "output_type": "stream",
     "text": [
      "Running kmeans for K=6\n"
     ]
    },
    {
     "name": "stderr",
     "output_type": "stream",
     "text": [
      " 38%|███▊      | 5/13 [00:03<00:07,  1.08it/s]"
     ]
    },
    {
     "name": "stdout",
     "output_type": "stream",
     "text": [
      "Running kmeans for K=7\n"
     ]
    },
    {
     "name": "stderr",
     "output_type": "stream",
     "text": [
      " 46%|████▌     | 6/13 [00:05<00:07,  1.07s/it]"
     ]
    },
    {
     "name": "stdout",
     "output_type": "stream",
     "text": [
      "Running kmeans for K=8\n"
     ]
    },
    {
     "name": "stderr",
     "output_type": "stream",
     "text": [
      " 54%|█████▍    | 7/13 [00:06<00:07,  1.22s/it]"
     ]
    },
    {
     "name": "stdout",
     "output_type": "stream",
     "text": [
      "Running kmeans for K=9\n"
     ]
    },
    {
     "name": "stderr",
     "output_type": "stream",
     "text": [
      " 62%|██████▏   | 8/13 [00:08<00:06,  1.30s/it]"
     ]
    },
    {
     "name": "stdout",
     "output_type": "stream",
     "text": [
      "Running kmeans for K=10\n"
     ]
    },
    {
     "name": "stderr",
     "output_type": "stream",
     "text": [
      " 69%|██████▉   | 9/13 [00:10<00:06,  1.57s/it]"
     ]
    },
    {
     "name": "stdout",
     "output_type": "stream",
     "text": [
      "Running kmeans for K=11\n"
     ]
    },
    {
     "name": "stderr",
     "output_type": "stream",
     "text": [
      " 77%|███████▋  | 10/13 [00:13<00:05,  1.90s/it]"
     ]
    },
    {
     "name": "stdout",
     "output_type": "stream",
     "text": [
      "Running kmeans for K=12\n"
     ]
    },
    {
     "name": "stderr",
     "output_type": "stream",
     "text": [
      " 85%|████████▍ | 11/13 [00:16<00:04,  2.23s/it]"
     ]
    },
    {
     "name": "stdout",
     "output_type": "stream",
     "text": [
      "Running kmeans for K=13\n"
     ]
    },
    {
     "name": "stderr",
     "output_type": "stream",
     "text": [
      " 92%|█████████▏| 12/13 [00:19<00:02,  2.61s/it]"
     ]
    },
    {
     "name": "stdout",
     "output_type": "stream",
     "text": [
      "Running kmeans for K=14\n"
     ]
    },
    {
     "name": "stderr",
     "output_type": "stream",
     "text": [
      "100%|██████████| 13/13 [00:22<00:00,  1.77s/it]\n"
     ]
    }
   ],
   "source": [
    "from sklearn.cluster import KMeans\n",
    "from tqdm import tqdm\n",
    "\n",
    "\n",
    "distortions = []\n",
    "for K in tqdm(range(2, 15, 1)):\n",
    "    print(f\"Running kmeans for K={K}\")\n",
    "    km = KMeans(\n",
    "        n_clusters=K, init='random',\n",
    "        n_init=10, max_iter=300,\n",
    "        tol=1e-04, random_state=0\n",
    "    )\n",
    "    km.fit(X_log)\n",
    "    distortions.append(km.inertia_)"
   ]
  },
  {
   "cell_type": "code",
   "execution_count": 140,
   "metadata": {},
   "outputs": [
    {
     "data": {
      "image/png": "[encoded data removed]",
      "text/plain": [
       "<Figure size 640x480 with 1 Axes>"
      ]
     },
     "metadata": {},
     "output_type": "display_data"
    }
   ],
   "source": [
    "# plot\n",
    "plt.plot(range(2, 15, 1), distortions, marker='o')\n",
    "plt.xlabel('Number of clusters')\n",
    "plt.ylabel('Inertia')\n",
    "plt.show()"
   ]
  },
  {
   "cell_type": "code",
   "execution_count": null,
   "metadata": {},
   "outputs": [],
   "source": [
    "plt.plot(range(2, 15, 1), distortions, marker='o')\n",
    "plt.xlabel('Number of clusters')\n",
    "plt.ylabel('Distortion')\n",
    "plt.show()"
   ]
  },
  {
   "attachments": {},
   "cell_type": "markdown",
   "metadata": {},
   "source": [
    "Inertia\n",
    "\n",
    "$$\n",
    "\\text{inertia} = \\sum_{i=0}^n \\min _{\\mu_j \\in C}\\left(\\left\\|x_i-\\mu_j\\right\\|^2\\right)\n",
    "$$"
   ]
  },
  {
   "cell_type": "code",
   "execution_count": 141,
   "metadata": {},
   "outputs": [],
   "source": [
    "K_best = 7\n",
    "\n",
    "km = KMeans(\n",
    "    n_clusters=K_best,\n",
    "    init='random',\n",
    "    random_state=0\n",
    ")\n",
    "y_km = km.fit_predict(X_log)"
   ]
  },
  {
   "cell_type": "code",
   "execution_count": 143,
   "metadata": {},
   "outputs": [
    {
     "data": {
      "image/png": "[encoded data removed]",
      "text/plain": [
       "<Figure size 640x480 with 1 Axes>"
      ]
     },
     "metadata": {},
     "output_type": "display_data"
    }
   ],
   "source": [
    "marker = ['o', 'v', '^', '<', '>', 's', '8', 'p']\n",
    "\n",
    "color = ['lightgreen', 'lightblue', 'pink', 'yellow', 'purple', 'orange', 'green']\n",
    "\n",
    "\n",
    "for k in range(K_best):\n",
    "    plt.scatter(\n",
    "        X_log.loc[y_km == k, 'density'], X_log.loc[y_km == k, 'median_dwell'],\n",
    "        s=25, c=color[k],\n",
    "        marker=marker[k], edgecolor='black',\n",
    "        label=f'cluster {k+1}'\n",
    "    )\n",
    "\n",
    "# plot the centroids\n",
    "plt.scatter(\n",
    "    km.cluster_centers_[:, 0], km.cluster_centers_[:, 1],\n",
    "    s=250, marker='*',\n",
    "    c='red', edgecolor='black',\n",
    "    label='centroids'\n",
    ")\n",
    "plt.legend(scatterpoints=1)\n",
    "plt.grid()\n",
    "plt.show()"
   ]
  },
  {
   "cell_type": "code",
   "execution_count": 78,
   "metadata": {},
   "outputs": [],
   "source": [
    "slice = (X_standardized[:,0] < 10)\n",
    "\n",
    "X_zoom = X_standardized[slice, :]\n",
    "y_zoom = y_km[slice]"
   ]
  },
  {
   "cell_type": "code",
   "execution_count": 79,
   "metadata": {},
   "outputs": [
    {
     "data": {
      "text/plain": [
       "array([-0.15218001, -0.03492831, -0.21360141, 21.08580554,  3.50785248])"
      ]
     },
     "execution_count": 79,
     "metadata": {},
     "output_type": "execute_result"
    }
   ],
   "source": [
    "km.cluster_centers_[1:, 0]"
   ]
  },
  {
   "cell_type": "code",
   "execution_count": 81,
   "metadata": {},
   "outputs": [
    {
     "data": {
      "image/png": "[encoded data removed]",
      "text/plain": [
       "<Figure size 640x480 with 1 Axes>"
      ]
     },
     "metadata": {},
     "output_type": "display_data"
    }
   ],
   "source": [
    "for k in range(K_best):\n",
    "    plt.scatter(\n",
    "        X_zoom[y_zoom == k, 0], X_zoom[y_zoom == k, 1],\n",
    "        s=25, c=color[k],\n",
    "        marker=marker[k], edgecolor='black',\n",
    "        label=f'cluster {k+1}'\n",
    "    )\n",
    "\n",
    "# plot the centroids\n",
    "# plt.scatter(\n",
    "#     km.cluster_centers_[1:, 0], km.cluster_centers_[1:, 1],\n",
    "#     s=250, marker='*',\n",
    "#     c='red', edgecolor='black',\n",
    "#     label='centroids'\n",
    "# )\n",
    "plt.legend(scatterpoints=1)\n",
    "plt.grid()\n",
    "plt.show()"
   ]
  },
  {
   "cell_type": "code",
   "execution_count": 144,
   "metadata": {},
   "outputs": [],
   "source": [
    "df_2019_mean['cluster'] = y_km"
   ]
  },
  {
   "cell_type": "code",
   "execution_count": 145,
   "metadata": {},
   "outputs": [],
   "source": [
    "df_2019_mean = df_2019_mean.reset_index()"
   ]
  },
  {
   "cell_type": "code",
   "execution_count": 146,
   "metadata": {},
   "outputs": [],
   "source": [
    "df_2019 = df_2019.merge(df_2019_mean[['node.placekey','cluster']], left_on='node.placekey', right_on='node.placekey')"
   ]
  },
  {
   "cell_type": "code",
   "execution_count": 147,
   "metadata": {},
   "outputs": [
    {
     "data": {
      "text/html": [
       "<div>\n",
       "<style scoped>\n",
       "    .dataframe tbody tr th:only-of-type {\n",
       "        vertical-align: middle;\n",
       "    }\n",
       "\n",
       "    .dataframe tbody tr th {\n",
       "        vertical-align: top;\n",
       "    }\n",
       "\n",
       "    .dataframe thead th {\n",
       "        text-align: right;\n",
       "    }\n",
       "</style>\n",
       "<table border=\"1\" class=\"dataframe\">\n",
       "  <thead>\n",
       "    <tr style=\"text-align: right;\">\n",
       "      <th></th>\n",
       "      <th>node.placekey</th>\n",
       "      <th>node.safegraph_core.naics_code</th>\n",
       "      <th>node.safegraph_core.location_name</th>\n",
       "      <th>node.safegraph_core.top_category</th>\n",
       "      <th>node.safegraph_core.sub_category</th>\n",
       "      <th>node.safegraph_geometry.wkt_area_sq_meters</th>\n",
       "      <th>day_0_visits</th>\n",
       "      <th>day_1_visits</th>\n",
       "      <th>day_2_visits</th>\n",
       "      <th>day_3_visits</th>\n",
       "      <th>...</th>\n",
       "      <th>11-20</th>\n",
       "      <th>21-60</th>\n",
       "      <th>61-120</th>\n",
       "      <th>121-240</th>\n",
       "      <th>&gt;240</th>\n",
       "      <th>start</th>\n",
       "      <th>end</th>\n",
       "      <th>density</th>\n",
       "      <th>cluster_x</th>\n",
       "      <th>cluster_y</th>\n",
       "    </tr>\n",
       "  </thead>\n",
       "  <tbody>\n",
       "    <tr>\n",
       "      <th>0</th>\n",
       "      <td>22p-222@627-s4w-3dv</td>\n",
       "      <td>446120</td>\n",
       "      <td>MAC Cosmetics</td>\n",
       "      <td>Health and Personal Care Stores</td>\n",
       "      <td>Cosmetics, Beauty Supplies, and Perfume Stores</td>\n",
       "      <td>71.0</td>\n",
       "      <td>5.0</td>\n",
       "      <td>4.0</td>\n",
       "      <td>8.0</td>\n",
       "      <td>6.0</td>\n",
       "      <td>...</td>\n",
       "      <td>19.0</td>\n",
       "      <td>5.0</td>\n",
       "      <td>3.0</td>\n",
       "      <td>3.0</td>\n",
       "      <td>3.0</td>\n",
       "      <td>2019-01-07</td>\n",
       "      <td>2019-01-07</td>\n",
       "      <td>0.647887</td>\n",
       "      <td>2</td>\n",
       "      <td>0</td>\n",
       "    </tr>\n",
       "    <tr>\n",
       "      <th>1</th>\n",
       "      <td>22p-222@627-s4w-3dv</td>\n",
       "      <td>446120</td>\n",
       "      <td>MAC Cosmetics</td>\n",
       "      <td>Health and Personal Care Stores</td>\n",
       "      <td>Cosmetics, Beauty Supplies, and Perfume Stores</td>\n",
       "      <td>71.0</td>\n",
       "      <td>6.0</td>\n",
       "      <td>7.0</td>\n",
       "      <td>4.0</td>\n",
       "      <td>8.0</td>\n",
       "      <td>...</td>\n",
       "      <td>16.0</td>\n",
       "      <td>6.0</td>\n",
       "      <td>5.0</td>\n",
       "      <td>3.0</td>\n",
       "      <td>4.0</td>\n",
       "      <td>2019-01-14</td>\n",
       "      <td>2019-01-14</td>\n",
       "      <td>0.605634</td>\n",
       "      <td>2</td>\n",
       "      <td>0</td>\n",
       "    </tr>\n",
       "    <tr>\n",
       "      <th>2</th>\n",
       "      <td>22p-222@627-s4w-3dv</td>\n",
       "      <td>446120</td>\n",
       "      <td>MAC Cosmetics</td>\n",
       "      <td>Health and Personal Care Stores</td>\n",
       "      <td>Cosmetics, Beauty Supplies, and Perfume Stores</td>\n",
       "      <td>71.0</td>\n",
       "      <td>2.0</td>\n",
       "      <td>6.0</td>\n",
       "      <td>8.0</td>\n",
       "      <td>12.0</td>\n",
       "      <td>...</td>\n",
       "      <td>30.0</td>\n",
       "      <td>6.0</td>\n",
       "      <td>4.0</td>\n",
       "      <td>4.0</td>\n",
       "      <td>5.0</td>\n",
       "      <td>2019-01-21</td>\n",
       "      <td>2019-01-21</td>\n",
       "      <td>0.816901</td>\n",
       "      <td>2</td>\n",
       "      <td>0</td>\n",
       "    </tr>\n",
       "    <tr>\n",
       "      <th>3</th>\n",
       "      <td>22p-222@627-s4w-3dv</td>\n",
       "      <td>446120</td>\n",
       "      <td>MAC Cosmetics</td>\n",
       "      <td>Health and Personal Care Stores</td>\n",
       "      <td>Cosmetics, Beauty Supplies, and Perfume Stores</td>\n",
       "      <td>71.0</td>\n",
       "      <td>5.0</td>\n",
       "      <td>10.0</td>\n",
       "      <td>7.0</td>\n",
       "      <td>5.0</td>\n",
       "      <td>...</td>\n",
       "      <td>13.0</td>\n",
       "      <td>13.0</td>\n",
       "      <td>2.0</td>\n",
       "      <td>5.0</td>\n",
       "      <td>3.0</td>\n",
       "      <td>2019-01-28</td>\n",
       "      <td>2019-01-28</td>\n",
       "      <td>0.690141</td>\n",
       "      <td>2</td>\n",
       "      <td>0</td>\n",
       "    </tr>\n",
       "    <tr>\n",
       "      <th>4</th>\n",
       "      <td>22p-222@627-s4w-3dv</td>\n",
       "      <td>446120</td>\n",
       "      <td>MAC Cosmetics</td>\n",
       "      <td>Health and Personal Care Stores</td>\n",
       "      <td>Cosmetics, Beauty Supplies, and Perfume Stores</td>\n",
       "      <td>71.0</td>\n",
       "      <td>10.0</td>\n",
       "      <td>6.0</td>\n",
       "      <td>4.0</td>\n",
       "      <td>12.0</td>\n",
       "      <td>...</td>\n",
       "      <td>14.0</td>\n",
       "      <td>5.0</td>\n",
       "      <td>2.0</td>\n",
       "      <td>4.0</td>\n",
       "      <td>5.0</td>\n",
       "      <td>2019-02-04</td>\n",
       "      <td>2019-02-04</td>\n",
       "      <td>0.605634</td>\n",
       "      <td>2</td>\n",
       "      <td>0</td>\n",
       "    </tr>\n",
       "  </tbody>\n",
       "</table>\n",
       "<p>5 rows × 28 columns</p>\n",
       "</div>"
      ],
      "text/plain": [
       "         node.placekey node.safegraph_core.naics_code  \\\n",
       "0  22p-222@627-s4w-3dv                         446120   \n",
       "1  22p-222@627-s4w-3dv                         446120   \n",
       "2  22p-222@627-s4w-3dv                         446120   \n",
       "3  22p-222@627-s4w-3dv                         446120   \n",
       "4  22p-222@627-s4w-3dv                         446120   \n",
       "\n",
       "  node.safegraph_core.location_name node.safegraph_core.top_category  \\\n",
       "0                     MAC Cosmetics  Health and Personal Care Stores   \n",
       "1                     MAC Cosmetics  Health and Personal Care Stores   \n",
       "2                     MAC Cosmetics  Health and Personal Care Stores   \n",
       "3                     MAC Cosmetics  Health and Personal Care Stores   \n",
       "4                     MAC Cosmetics  Health and Personal Care Stores   \n",
       "\n",
       "                 node.safegraph_core.sub_category  \\\n",
       "0  Cosmetics, Beauty Supplies, and Perfume Stores   \n",
       "1  Cosmetics, Beauty Supplies, and Perfume Stores   \n",
       "2  Cosmetics, Beauty Supplies, and Perfume Stores   \n",
       "3  Cosmetics, Beauty Supplies, and Perfume Stores   \n",
       "4  Cosmetics, Beauty Supplies, and Perfume Stores   \n",
       "\n",
       "   node.safegraph_geometry.wkt_area_sq_meters  day_0_visits  day_1_visits  \\\n",
       "0                                        71.0           5.0           4.0   \n",
       "1                                        71.0           6.0           7.0   \n",
       "2                                        71.0           2.0           6.0   \n",
       "3                                        71.0           5.0          10.0   \n",
       "4                                        71.0          10.0           6.0   \n",
       "\n",
       "   day_2_visits  day_3_visits  ...  11-20  21-60  61-120  121-240  >240  \\\n",
       "0           8.0           6.0  ...   19.0    5.0     3.0      3.0   3.0   \n",
       "1           4.0           8.0  ...   16.0    6.0     5.0      3.0   4.0   \n",
       "2           8.0          12.0  ...   30.0    6.0     4.0      4.0   5.0   \n",
       "3           7.0           5.0  ...   13.0   13.0     2.0      5.0   3.0   \n",
       "4           4.0          12.0  ...   14.0    5.0     2.0      4.0   5.0   \n",
       "\n",
       "       start        end   density  cluster_x  cluster_y  \n",
       "0 2019-01-07 2019-01-07  0.647887          2          0  \n",
       "1 2019-01-14 2019-01-14  0.605634          2          0  \n",
       "2 2019-01-21 2019-01-21  0.816901          2          0  \n",
       "3 2019-01-28 2019-01-28  0.690141          2          0  \n",
       "4 2019-02-04 2019-02-04  0.605634          2          0  \n",
       "\n",
       "[5 rows x 28 columns]"
      ]
     },
     "execution_count": 147,
     "metadata": {},
     "output_type": "execute_result"
    }
   ],
   "source": [
    "df_2019.head()"
   ]
  },
  {
   "cell_type": "code",
   "execution_count": 149,
   "metadata": {},
   "outputs": [],
   "source": [
    "df_2019.groupby(['cluster_y','node.safegraph_core.naics_code','node.safegraph_core.top_category','node.safegraph_core.sub_category'])['cluster_y'].count().to_csv('cluster_counts.csv')"
   ]
  },
  {
   "cell_type": "code",
   "execution_count": 150,
   "metadata": {},
   "outputs": [
    {
     "data": {
      "text/plain": [
       "32882"
      ]
     },
     "execution_count": 150,
     "metadata": {},
     "output_type": "execute_result"
    }
   ],
   "source": [
    "len(df_2019['node.placekey'].unique())"
   ]
  },
  {
   "cell_type": "code",
   "execution_count": 116,
   "metadata": {},
   "outputs": [
    {
     "data": {
      "text/plain": [
       "<AxesSubplot:xlabel='start'>"
      ]
     },
     "execution_count": 116,
     "metadata": {},
     "output_type": "execute_result"
    },
    {
     "data": {
      "image/png": "[encoded data removed]",
      "text/plain": [
       "<Figure size 640x480 with 1 Axes>"
      ]
     },
     "metadata": {},
     "output_type": "display_data"
    },
    {
     "data": {
      "image/png": "[encoded data removed]",
      "text/plain": [
       "<Figure size 640x480 with 1 Axes>"
      ]
     },
     "metadata": {},
     "output_type": "display_data"
    }
   ],
   "source": [
    "df_slice = df_2019.loc[df_2019['node.placekey'] == '22p-222@627-s4w-3dv',['start','density','median_dwell']]\n",
    "df_slice.plot('start','density')\n",
    "df_slice.plot('start','median_dwell')"
   ]
  },
  {
   "cell_type": "code",
   "execution_count": 180,
   "metadata": {},
   "outputs": [
    {
     "name": "stderr",
     "output_type": "stream",
     "text": [
      "C:\\Users\\hyone\\AppData\\Local\\Temp\\ipykernel_31288\\3521103204.py:1: FutureWarning: Indexing with multiple keys (implicitly converted to a tuple of keys) will be deprecated, use a list instead.\n",
      "  df_naics = df_2019.groupby(['node.safegraph_core.naics_code','node.safegraph_core.top_category','node.safegraph_core.sub_category'])['density','median_dwell'].mean().reset_index()\n"
     ]
    }
   ],
   "source": [
    "df_naics = df_2019.groupby(['node.safegraph_core.naics_code','node.safegraph_core.top_category','node.safegraph_core.sub_category'])['density','median_dwell'].mean().reset_index()"
   ]
  },
  {
   "cell_type": "code",
   "execution_count": 181,
   "metadata": {},
   "outputs": [],
   "source": [
    "df_naics['log_density'] = np.log(df_naics['density'])\n",
    "df_naics['log_median_dwell'] = np.log(df_naics['median_dwell'])"
   ]
  },
  {
   "cell_type": "code",
   "execution_count": 154,
   "metadata": {},
   "outputs": [],
   "source": [
    "from scipy.cluster.hierarchy import dendrogram\n",
    "from sklearn.cluster import AgglomerativeClustering\n",
    "\n",
    "\n",
    "def plot_dendrogram(model, **kwargs):\n",
    "    # Create linkage matrix and then plot the dendrogram\n",
    "\n",
    "    # create the counts of samples under each node\n",
    "    counts = np.zeros(model.children_.shape[0])\n",
    "    n_samples = len(model.labels_)\n",
    "    for i, merge in enumerate(model.children_):\n",
    "        current_count = 0\n",
    "        for child_idx in merge:\n",
    "            if child_idx < n_samples:\n",
    "                current_count += 1  # leaf node\n",
    "            else:\n",
    "                current_count += counts[child_idx - n_samples]\n",
    "        counts[i] = current_count\n",
    "\n",
    "    linkage_matrix = np.column_stack(\n",
    "        [model.children_, model.distances_, counts]\n",
    "    ).astype(float)\n",
    "\n",
    "    # Plot the corresponding dendrogram\n",
    "    dendrogram(linkage_matrix, **kwargs)\n",
    "\n",
    "# setting distance_threshold=0 ensures we compute the full tree.\n",
    "model = AgglomerativeClustering(distance_threshold=0, n_clusters=None)\n",
    "\n",
    "model = model.fit(df_naics[['log_density','log_median_dwell']])"
   ]
  },
  {
   "cell_type": "code",
   "execution_count": 162,
   "metadata": {},
   "outputs": [
    {
     "data": {
      "image/png": "[encoded data removed]",
      "text/plain": [
       "<Figure size 640x480 with 1 Axes>"
      ]
     },
     "metadata": {},
     "output_type": "display_data"
    }
   ],
   "source": [
    "plt.title(\"Hierarchical Clustering Dendrogram\")\n",
    "# plot the top three levels of the dendrogram\n",
    "plot_dendrogram(model, truncate_mode=\"level\", p=10)\n",
    "plt.xlabel(\"Number of points in node (or index of point if no parenthesis).\")\n",
    "plt.show()"
   ]
  },
  {
   "cell_type": "code",
   "execution_count": 158,
   "metadata": {},
   "outputs": [
    {
     "data": {
      "text/plain": [
       "260"
      ]
     },
     "execution_count": 158,
     "metadata": {},
     "output_type": "execute_result"
    }
   ],
   "source": [
    "max(model.labels_)"
   ]
  },
  {
   "cell_type": "code",
   "execution_count": 166,
   "metadata": {},
   "outputs": [],
   "source": [
    "children_df = pd.DataFrame(model.children_)"
   ]
  },
  {
   "cell_type": "code",
   "execution_count": 167,
   "metadata": {},
   "outputs": [
    {
     "data": {
      "text/html": [
       "<div>\n",
       "<style scoped>\n",
       "    .dataframe tbody tr th:only-of-type {\n",
       "        vertical-align: middle;\n",
       "    }\n",
       "\n",
       "    .dataframe tbody tr th {\n",
       "        vertical-align: top;\n",
       "    }\n",
       "\n",
       "    .dataframe thead th {\n",
       "        text-align: right;\n",
       "    }\n",
       "</style>\n",
       "<table border=\"1\" class=\"dataframe\">\n",
       "  <thead>\n",
       "    <tr style=\"text-align: right;\">\n",
       "      <th></th>\n",
       "      <th>0</th>\n",
       "      <th>1</th>\n",
       "    </tr>\n",
       "  </thead>\n",
       "  <tbody>\n",
       "    <tr>\n",
       "      <th>0</th>\n",
       "      <td>82</td>\n",
       "      <td>89</td>\n",
       "    </tr>\n",
       "    <tr>\n",
       "      <th>1</th>\n",
       "      <td>116</td>\n",
       "      <td>237</td>\n",
       "    </tr>\n",
       "    <tr>\n",
       "      <th>2</th>\n",
       "      <td>161</td>\n",
       "      <td>250</td>\n",
       "    </tr>\n",
       "    <tr>\n",
       "      <th>3</th>\n",
       "      <td>30</td>\n",
       "      <td>108</td>\n",
       "    </tr>\n",
       "    <tr>\n",
       "      <th>4</th>\n",
       "      <td>238</td>\n",
       "      <td>242</td>\n",
       "    </tr>\n",
       "    <tr>\n",
       "      <th>...</th>\n",
       "      <td>...</td>\n",
       "      <td>...</td>\n",
       "    </tr>\n",
       "    <tr>\n",
       "      <th>255</th>\n",
       "      <td>500</td>\n",
       "      <td>512</td>\n",
       "    </tr>\n",
       "    <tr>\n",
       "      <th>256</th>\n",
       "      <td>508</td>\n",
       "      <td>514</td>\n",
       "    </tr>\n",
       "    <tr>\n",
       "      <th>257</th>\n",
       "      <td>515</td>\n",
       "      <td>516</td>\n",
       "    </tr>\n",
       "    <tr>\n",
       "      <th>258</th>\n",
       "      <td>513</td>\n",
       "      <td>517</td>\n",
       "    </tr>\n",
       "    <tr>\n",
       "      <th>259</th>\n",
       "      <td>518</td>\n",
       "      <td>519</td>\n",
       "    </tr>\n",
       "  </tbody>\n",
       "</table>\n",
       "<p>260 rows × 2 columns</p>\n",
       "</div>"
      ],
      "text/plain": [
       "       0    1\n",
       "0     82   89\n",
       "1    116  237\n",
       "2    161  250\n",
       "3     30  108\n",
       "4    238  242\n",
       "..   ...  ...\n",
       "255  500  512\n",
       "256  508  514\n",
       "257  515  516\n",
       "258  513  517\n",
       "259  518  519\n",
       "\n",
       "[260 rows x 2 columns]"
      ]
     },
     "execution_count": 167,
     "metadata": {},
     "output_type": "execute_result"
    }
   ],
   "source": [
    "children_df"
   ]
  },
  {
   "cell_type": "code",
   "execution_count": 170,
   "metadata": {},
   "outputs": [
    {
     "data": {
      "text/plain": [
       "node.safegraph_core.naics_code       451211\n",
       "density                            0.154205\n",
       "median_dwell                      64.117114\n",
       "log_density                       -1.869472\n",
       "log_median_dwell                   4.160711\n",
       "Name: 82, dtype: object"
      ]
     },
     "execution_count": 170,
     "metadata": {},
     "output_type": "execute_result"
    }
   ],
   "source": [
    "df_naics.iloc[82,:]"
   ]
  },
  {
   "cell_type": "code",
   "execution_count": 171,
   "metadata": {},
   "outputs": [
    {
     "data": {
      "text/plain": [
       "node.safegraph_core.naics_code       453310\n",
       "density                            0.152942\n",
       "median_dwell                      64.112327\n",
       "log_density                       -1.877699\n",
       "log_median_dwell                   4.160637\n",
       "Name: 89, dtype: object"
      ]
     },
     "execution_count": 171,
     "metadata": {},
     "output_type": "execute_result"
    }
   ],
   "source": [
    "df_naics.iloc[89,:]"
   ]
  },
  {
   "cell_type": "code",
   "execution_count": 178,
   "metadata": {},
   "outputs": [
    {
     "data": {
      "text/html": [
       "<div>\n",
       "<style scoped>\n",
       "    .dataframe tbody tr th:only-of-type {\n",
       "        vertical-align: middle;\n",
       "    }\n",
       "\n",
       "    .dataframe tbody tr th {\n",
       "        vertical-align: top;\n",
       "    }\n",
       "\n",
       "    .dataframe thead th {\n",
       "        text-align: right;\n",
       "    }\n",
       "</style>\n",
       "<table border=\"1\" class=\"dataframe\">\n",
       "  <thead>\n",
       "    <tr style=\"text-align: right;\">\n",
       "      <th></th>\n",
       "      <th>node.safegraph_core.top_category</th>\n",
       "      <th>node.safegraph_core.sub_category</th>\n",
       "    </tr>\n",
       "  </thead>\n",
       "  <tbody>\n",
       "    <tr>\n",
       "      <th>2686</th>\n",
       "      <td>Used Merchandise Stores</td>\n",
       "      <td>Used Merchandise Stores</td>\n",
       "    </tr>\n",
       "    <tr>\n",
       "      <th>2687</th>\n",
       "      <td>Used Merchandise Stores</td>\n",
       "      <td>Used Merchandise Stores</td>\n",
       "    </tr>\n",
       "    <tr>\n",
       "      <th>2688</th>\n",
       "      <td>Used Merchandise Stores</td>\n",
       "      <td>Used Merchandise Stores</td>\n",
       "    </tr>\n",
       "    <tr>\n",
       "      <th>2689</th>\n",
       "      <td>Used Merchandise Stores</td>\n",
       "      <td>Used Merchandise Stores</td>\n",
       "    </tr>\n",
       "    <tr>\n",
       "      <th>2690</th>\n",
       "      <td>Used Merchandise Stores</td>\n",
       "      <td>Used Merchandise Stores</td>\n",
       "    </tr>\n",
       "    <tr>\n",
       "      <th>...</th>\n",
       "      <td>...</td>\n",
       "      <td>...</td>\n",
       "    </tr>\n",
       "    <tr>\n",
       "      <th>1325563</th>\n",
       "      <td>Used Merchandise Stores</td>\n",
       "      <td>Used Merchandise Stores</td>\n",
       "    </tr>\n",
       "    <tr>\n",
       "      <th>1325564</th>\n",
       "      <td>Used Merchandise Stores</td>\n",
       "      <td>Used Merchandise Stores</td>\n",
       "    </tr>\n",
       "    <tr>\n",
       "      <th>1327867</th>\n",
       "      <td>Used Merchandise Stores</td>\n",
       "      <td>Used Merchandise Stores</td>\n",
       "    </tr>\n",
       "    <tr>\n",
       "      <th>1327868</th>\n",
       "      <td>Used Merchandise Stores</td>\n",
       "      <td>Used Merchandise Stores</td>\n",
       "    </tr>\n",
       "    <tr>\n",
       "      <th>1327869</th>\n",
       "      <td>Used Merchandise Stores</td>\n",
       "      <td>Used Merchandise Stores</td>\n",
       "    </tr>\n",
       "  </tbody>\n",
       "</table>\n",
       "<p>11876 rows × 2 columns</p>\n",
       "</div>"
      ],
      "text/plain": [
       "        node.safegraph_core.top_category node.safegraph_core.sub_category\n",
       "2686             Used Merchandise Stores          Used Merchandise Stores\n",
       "2687             Used Merchandise Stores          Used Merchandise Stores\n",
       "2688             Used Merchandise Stores          Used Merchandise Stores\n",
       "2689             Used Merchandise Stores          Used Merchandise Stores\n",
       "2690             Used Merchandise Stores          Used Merchandise Stores\n",
       "...                                  ...                              ...\n",
       "1325563          Used Merchandise Stores          Used Merchandise Stores\n",
       "1325564          Used Merchandise Stores          Used Merchandise Stores\n",
       "1327867          Used Merchandise Stores          Used Merchandise Stores\n",
       "1327868          Used Merchandise Stores          Used Merchandise Stores\n",
       "1327869          Used Merchandise Stores          Used Merchandise Stores\n",
       "\n",
       "[11876 rows x 2 columns]"
      ]
     },
     "execution_count": 178,
     "metadata": {},
     "output_type": "execute_result"
    }
   ],
   "source": [
    "df_2019.loc[df_2019['node.safegraph_core.naics_code'] == '453310',['node.safegraph_core.top_category','node.safegraph_core.sub_category']]"
   ]
  },
  {
   "cell_type": "code",
   "execution_count": 182,
   "metadata": {},
   "outputs": [
    {
     "data": {
      "text/html": [
       "<div>\n",
       "<style scoped>\n",
       "    .dataframe tbody tr th:only-of-type {\n",
       "        vertical-align: middle;\n",
       "    }\n",
       "\n",
       "    .dataframe tbody tr th {\n",
       "        vertical-align: top;\n",
       "    }\n",
       "\n",
       "    .dataframe thead th {\n",
       "        text-align: right;\n",
       "    }\n",
       "</style>\n",
       "<table border=\"1\" class=\"dataframe\">\n",
       "  <thead>\n",
       "    <tr style=\"text-align: right;\">\n",
       "      <th></th>\n",
       "      <th>node.safegraph_core.naics_code</th>\n",
       "      <th>node.safegraph_core.top_category</th>\n",
       "      <th>node.safegraph_core.sub_category</th>\n",
       "      <th>density</th>\n",
       "      <th>median_dwell</th>\n",
       "      <th>log_density</th>\n",
       "      <th>log_median_dwell</th>\n",
       "    </tr>\n",
       "  </thead>\n",
       "  <tbody>\n",
       "    <tr>\n",
       "      <th>0</th>\n",
       "      <td>111421</td>\n",
       "      <td>Greenhouse, Nursery, and Floriculture Production</td>\n",
       "      <td>Nursery and Tree Production</td>\n",
       "      <td>0.018919</td>\n",
       "      <td>77.263052</td>\n",
       "      <td>-3.967590</td>\n",
       "      <td>4.347216</td>\n",
       "    </tr>\n",
       "    <tr>\n",
       "      <th>1</th>\n",
       "      <td>221111</td>\n",
       "      <td>Electric Power Generation, Transmission and Di...</td>\n",
       "      <td>Hydroelectric Power Generation</td>\n",
       "      <td>0.010172</td>\n",
       "      <td>57.032000</td>\n",
       "      <td>-4.588158</td>\n",
       "      <td>4.043613</td>\n",
       "    </tr>\n",
       "    <tr>\n",
       "      <th>2</th>\n",
       "      <td>221112</td>\n",
       "      <td>Electric Power Generation, Transmission and Di...</td>\n",
       "      <td>Fossil Fuel Electric Power Generation</td>\n",
       "      <td>0.013317</td>\n",
       "      <td>60.980519</td>\n",
       "      <td>-4.318697</td>\n",
       "      <td>4.110554</td>\n",
       "    </tr>\n",
       "    <tr>\n",
       "      <th>3</th>\n",
       "      <td>236118</td>\n",
       "      <td>Residential Building Construction</td>\n",
       "      <td>Residential Remodelers</td>\n",
       "      <td>0.107309</td>\n",
       "      <td>23.651786</td>\n",
       "      <td>-2.232043</td>\n",
       "      <td>3.163439</td>\n",
       "    </tr>\n",
       "    <tr>\n",
       "      <th>4</th>\n",
       "      <td>238150</td>\n",
       "      <td>Foundation, Structure, and Building Exterior C...</td>\n",
       "      <td>Glass and Glazing Contractors</td>\n",
       "      <td>0.006958</td>\n",
       "      <td>125.033724</td>\n",
       "      <td>-4.967854</td>\n",
       "      <td>4.828583</td>\n",
       "    </tr>\n",
       "    <tr>\n",
       "      <th>...</th>\n",
       "      <td>...</td>\n",
       "      <td>...</td>\n",
       "      <td>...</td>\n",
       "      <td>...</td>\n",
       "      <td>...</td>\n",
       "      <td>...</td>\n",
       "      <td>...</td>\n",
       "    </tr>\n",
       "    <tr>\n",
       "      <th>222</th>\n",
       "      <td>922140</td>\n",
       "      <td>Justice, Public Order, and Safety Activities</td>\n",
       "      <td>Correctional Institutions</td>\n",
       "      <td>0.018290</td>\n",
       "      <td>101.238916</td>\n",
       "      <td>-4.001376</td>\n",
       "      <td>4.617483</td>\n",
       "    </tr>\n",
       "    <tr>\n",
       "      <th>223</th>\n",
       "      <td>922160</td>\n",
       "      <td>Justice, Public Order, and Safety Activities</td>\n",
       "      <td>Fire Protection</td>\n",
       "      <td>0.016034</td>\n",
       "      <td>122.385052</td>\n",
       "      <td>-4.133059</td>\n",
       "      <td>4.807172</td>\n",
       "    </tr>\n",
       "    <tr>\n",
       "      <th>224</th>\n",
       "      <td>922190</td>\n",
       "      <td>Justice, Public Order, and Safety Activities</td>\n",
       "      <td>Other Justice, Public Order, and Safety Activi...</td>\n",
       "      <td>0.000108</td>\n",
       "      <td>13.596154</td>\n",
       "      <td>-9.132135</td>\n",
       "      <td>2.609787</td>\n",
       "    </tr>\n",
       "    <tr>\n",
       "      <th>225</th>\n",
       "      <td>926120</td>\n",
       "      <td>Administration of Economic Programs</td>\n",
       "      <td>Regulation and Administration of Transportatio...</td>\n",
       "      <td>0.042093</td>\n",
       "      <td>63.673246</td>\n",
       "      <td>-3.167871</td>\n",
       "      <td>4.153764</td>\n",
       "    </tr>\n",
       "    <tr>\n",
       "      <th>226</th>\n",
       "      <td>928120</td>\n",
       "      <td>National Security and International Affairs</td>\n",
       "      <td>International Affairs</td>\n",
       "      <td>0.009149</td>\n",
       "      <td>97.577922</td>\n",
       "      <td>-4.694056</td>\n",
       "      <td>4.580651</td>\n",
       "    </tr>\n",
       "  </tbody>\n",
       "</table>\n",
       "<p>227 rows × 7 columns</p>\n",
       "</div>"
      ],
      "text/plain": [
       "    node.safegraph_core.naics_code  \\\n",
       "0                           111421   \n",
       "1                           221111   \n",
       "2                           221112   \n",
       "3                           236118   \n",
       "4                           238150   \n",
       "..                             ...   \n",
       "222                         922140   \n",
       "223                         922160   \n",
       "224                         922190   \n",
       "225                         926120   \n",
       "226                         928120   \n",
       "\n",
       "                      node.safegraph_core.top_category  \\\n",
       "0     Greenhouse, Nursery, and Floriculture Production   \n",
       "1    Electric Power Generation, Transmission and Di...   \n",
       "2    Electric Power Generation, Transmission and Di...   \n",
       "3                    Residential Building Construction   \n",
       "4    Foundation, Structure, and Building Exterior C...   \n",
       "..                                                 ...   \n",
       "222       Justice, Public Order, and Safety Activities   \n",
       "223       Justice, Public Order, and Safety Activities   \n",
       "224       Justice, Public Order, and Safety Activities   \n",
       "225                Administration of Economic Programs   \n",
       "226        National Security and International Affairs   \n",
       "\n",
       "                      node.safegraph_core.sub_category   density  \\\n",
       "0                          Nursery and Tree Production  0.018919   \n",
       "1                       Hydroelectric Power Generation  0.010172   \n",
       "2                Fossil Fuel Electric Power Generation  0.013317   \n",
       "3                               Residential Remodelers  0.107309   \n",
       "4                        Glass and Glazing Contractors  0.006958   \n",
       "..                                                 ...       ...   \n",
       "222                          Correctional Institutions  0.018290   \n",
       "223                                    Fire Protection  0.016034   \n",
       "224  Other Justice, Public Order, and Safety Activi...  0.000108   \n",
       "225  Regulation and Administration of Transportatio...  0.042093   \n",
       "226                              International Affairs  0.009149   \n",
       "\n",
       "     median_dwell  log_density  log_median_dwell  \n",
       "0       77.263052    -3.967590          4.347216  \n",
       "1       57.032000    -4.588158          4.043613  \n",
       "2       60.980519    -4.318697          4.110554  \n",
       "3       23.651786    -2.232043          3.163439  \n",
       "4      125.033724    -4.967854          4.828583  \n",
       "..            ...          ...               ...  \n",
       "222    101.238916    -4.001376          4.617483  \n",
       "223    122.385052    -4.133059          4.807172  \n",
       "224     13.596154    -9.132135          2.609787  \n",
       "225     63.673246    -3.167871          4.153764  \n",
       "226     97.577922    -4.694056          4.580651  \n",
       "\n",
       "[227 rows x 7 columns]"
      ]
     },
     "execution_count": 182,
     "metadata": {},
     "output_type": "execute_result"
    }
   ],
   "source": [
    "df_naics"
   ]
  },
  {
   "cell_type": "code",
   "execution_count": 185,
   "metadata": {},
   "outputs": [],
   "source": [
    "import plotly.express as px\n",
    "import plotly.graph_objects as go"
   ]
  },
  {
   "cell_type": "code",
   "execution_count": 187,
   "metadata": {},
   "outputs": [
    {
     "data": {
      "application/vnd.plotly.v1+json": {
       "config": {
        "plotlyServerURL": "https://plot.ly"
       },
       "data": [
        {
         "mode": "markers",
         "text": [
          "Nursery and Tree Production",
          "Hydroelectric Power Generation",
          "Fossil Fuel Electric Power Generation",
          "Residential Remodelers",
          "Glass and Glazing Contractors",
          "Retail Bakeries",
          "Breweries",
          "Wineries",
          "Distilleries",
          "Apparel Accessories and Other Apparel Manufacturing",
          "All Other Leather Good and Allied Product Manufacturing",
          "Books Printing",
          "Clay Building Material and Refractories Manufacturing",
          "Other Pressed and Blown Glass and Glassware Manufacturing",
          "Metal Coating, Engraving (except Jewelry and Silverware), and Allied Services to Manufacturers",
          "Other Measuring and Controlling Device Manufacturing",
          "Major Household Appliance Manufacturing",
          "Motorcycle, Bicycle, and Parts Manufacturing",
          "Dental Equipment and Supplies Manufacturing",
          "Sporting and Athletic Goods Manufacturing",
          "Sign Manufacturing",
          "Roofing, Siding, and Insulation Material Merchant Wholesalers",
          "Plumbing and Heating Equipment and Supplies (Hydronics) Merchant Wholesalers",
          "Warm Air Heating and Air-Conditioning Equipment and Supplies Merchant Wholesalers",
          "Refrigeration Equipment and Supplies Merchant Wholesalers",
          "Service Establishment Equipment and Supplies Merchant Wholesalers",
          "Jewelry, Watch, Precious Stone, and Precious Metal Merchant Wholesalers",
          "Drugs and Druggists' Sundries Merchant Wholesalers",
          "Men's and Boys' Clothing and Furnishings Merchant Wholesalers",
          "Other Grocery and Related Products Merchant Wholesalers",
          "New Car Dealers",
          "Used Car Dealers",
          "Motorcycle, ATV, and All Other Motor Vehicle Dealers",
          "Automotive Parts and Accessories Stores",
          "Tire Dealers",
          "Furniture Stores",
          "Floor Covering Stores",
          "All Other Home Furnishings Stores",
          "Household Appliance Stores",
          "Electronics Stores",
          "Home Centers",
          "Paint and Wallpaper Stores",
          "Hardware Stores",
          "Supermarkets and Other Grocery (except Convenience) Stores",
          "Convenience Stores",
          "Meat Markets",
          "Fish and Seafood Markets",
          "Fruit and Vegetable Markets",
          "Baked Goods Stores",
          "Confectionery and Nut Stores",
          "All Other Specialty Food Stores",
          "Beer, Wine, and Liquor Stores",
          "Pharmacies and Drug Stores",
          "Cosmetics, Beauty Supplies, and Perfume Stores",
          "Optical Goods Stores",
          "Food (Health) Supplement Stores",
          "All Other Health and Personal Care Stores",
          "Gasoline Stations with Convenience Stores",
          "Men's Clothing Stores",
          "Women's Clothing Stores",
          "Children's and Infants' Clothing Stores",
          "Family Clothing Stores",
          "Clothing Accessories Stores",
          "Other Clothing Stores",
          "Shoe Stores",
          "Jewelry Stores",
          "Luggage and Leather Goods Stores",
          "Sporting Goods Stores",
          "Hobby, Toy, and Game Stores",
          "Sewing, Needlework, and Piece Goods Stores",
          "Musical Instrument and Supplies Stores",
          "Book Stores",
          "Department Stores",
          "Warehouse Clubs and Supercenters",
          "All Other General Merchandise Stores",
          "Florists",
          "Office Supplies and Stationery Stores",
          "Gift, Novelty, and Souvenir Stores",
          "Used Merchandise Stores",
          "Pet and Pet Supplies Stores",
          "Art Dealers",
          "Tobacco Stores",
          "All Other Miscellaneous Store Retailers (except Tobacco Stores)",
          "Scheduled Passenger Air Transportation",
          "Used Household and Office Goods Moving",
          "Interurban and Rural Bus Transportation",
          "Taxi Service",
          "All Other Transit and Ground Passenger Transportation",
          "Other Airport Operations",
          "Other Support Activities for Air Transportation",
          "Port and Harbor Operations",
          "Motor Vehicle Towing",
          "Postal Service",
          "Couriers and Express Delivery Services",
          "General Warehousing and Storage",
          "Motion Picture Theaters (except Drive-Ins)",
          "Drive-In Motion Picture Theaters",
          "Sound Recording Studios",
          "Cable and Other Subscription Programming",
          "Wireless Telecommunications Carriers (except Satellite)",
          "Data Processing, Hosting, and Related Services",
          "Libraries and Archives",
          "Commercial Banking",
          "Credit Unions",
          "Consumer Lending",
          "All Other Nondepository Credit Intermediation",
          "Mortgage and Nonmortgage Loan Brokers",
          "Other Activities Related to Credit Intermediation",
          "Securities Brokerage",
          "Investment Advice",
          "Miscellaneous Financial Investment Activities",
          "Direct Life Insurance Carriers",
          "Direct Title Insurance Carriers",
          "Insurance Agencies and Brokerages",
          "Other Financial Vehicles",
          "Lessors of Residential Buildings and Dwellings",
          "Malls",
          "Lessors of Miniwarehouses and Self-Storage Units",
          "Lessors of Other Real Estate Property",
          "Offices of Real Estate Agents and Brokers",
          "Residential Property Managers",
          "Passenger Car Rental",
          "Truck, Utility Trailer, and RV (Recreational Vehicle) Rental and Leasing",
          "Video Tape and Disc Rental",
          "Recreational Goods Rental",
          "All Other Consumer Goods Rental",
          "General Rental Centers",
          "Tax Preparation Services",
          "Other Accounting Services",
          "Architectural Services",
          "Research and Development in the Physical, Engineering, and Life Sciences (except Nanotechnology and Biotechnology)",
          "Photographic Services",
          "Veterinary Services",
          "Corporate, Subsidiary, and Regional Managing Offices",
          "Employment Placement Agencies",
          "Locksmiths",
          "Hazardous Waste Treatment and Disposal",
          "Elementary and Secondary Schools",
          "Junior Colleges",
          "Colleges, Universities, and Professional Schools",
          "Cosmetology and Barber Schools",
          "Flight Training",
          "Other Technical and Trade Schools",
          "Fine Arts Schools",
          "Sports and Recreation Instruction",
          "Language Schools",
          "Exam Preparation and Tutoring",
          "Automobile Driving Schools",
          "All Other Miscellaneous Schools and Instruction",
          "Offices of Physicians (except Mental Health Specialists)",
          "Offices of Physicians, Mental Health Specialists",
          "Offices of Dentists",
          "Offices of Chiropractors",
          "Offices of Optometrists",
          "Offices of Mental Health Practitioners (except Physicians)",
          "Offices of Physical, Occupational and Speech Therapists, and Audiologists",
          "Offices of All Other Miscellaneous Health Practitioners",
          "Family Planning Centers",
          "Kidney Dialysis Centers",
          "Freestanding Ambulatory Surgical and Emergency Centers",
          "All Other Outpatient Care Centers",
          "Medical Laboratories",
          "Diagnostic Imaging Centers",
          "Home Health Care Services",
          "Ambulance Services",
          "Blood and Organ Banks",
          "All Other Miscellaneous Ambulatory Health Care Services",
          "General Medical and Surgical Hospitals",
          "Psychiatric and Substance Abuse Hospitals",
          "Specialty (except Psychiatric and Substance Abuse) Hospitals",
          "Nursing Care Facilities (Skilled Nursing Facilities)",
          "Assisted Living Facilities for the Elderly",
          "Child and Youth Services",
          "Services for the Elderly and Persons with Disabilities",
          "Other Individual and Family Services",
          "Temporary Shelters",
          "Child Day Care Services",
          "Musical Groups and Artists",
          "Sports Teams and Clubs",
          "Promoters of Performing Arts, Sports, and Similar Events with Facilities",
          "Museums",
          "Historical Sites",
          "Zoos and Botanical Gardens",
          "Nature Parks and Other Similar Institutions",
          "Amusement and Theme Parks",
          "Amusement Arcades",
          "Casinos (except Casino Hotels)",
          "Golf Courses and Country Clubs",
          "Marinas",
          "Fitness and Recreational Sports Centers",
          "Bowling Centers",
          "All Other Amusement and Recreation Industries",
          "Hotels (except Casino Hotels) and Motels",
          "Casino Hotels",
          "All Other Traveler Accommodation",
          "Caterers",
          "Drinking Places (Alcoholic Beverages)",
          "Full-Service Restaurants",
          "Limited-Service Restaurants",
          "Snack and Nonalcoholic Beverage Bars",
          "General Automotive Repair",
          "Other Automotive Mechanical and Electrical Repair and Maintenance",
          "Consumer Electronics Repair and Maintenance",
          "Appliance Repair and Maintenance",
          "Reupholstery and Furniture Repair",
          "Footwear and Leather Goods Repair",
          "Other Personal and Household Goods Repair and Maintenance",
          "Hair, Nail, and Skin Care Services",
          "Barber Shops",
          "Beauty Salons",
          "Diet and Weight Reducing Centers",
          "Other Personal Care Services",
          "Funeral Homes and Funeral Services",
          "Cemeteries and Crematories",
          "Drycleaning and Laundry Services (except Coin-Operated)",
          "Pet Care (except Veterinary) Services",
          "Parking Lots and Garages",
          "All Other Personal Services",
          "Religious Organizations",
          "Civic and Social Organizations",
          "Courts",
          "Police Protection",
          "Correctional Institutions",
          "Fire Protection",
          "Other Justice, Public Order, and Safety Activities",
          "Regulation and Administration of Transportation Programs",
          "International Affairs"
         ],
         "type": "scatter",
         "x": [
          -3.9675901995460787,
          -4.588157649007602,
          -4.31869732197651,
          -2.2320433092784877,
          -4.967854242030466,
          -1.9647565548400912,
          -1.6585525507089856,
          -0.05165291341176729,
          -4.053970208127807,
          -5.659214155176325,
          -4.240220666394507,
          -5.342532414713694,
          -5.420043236292127,
          -1.3105572232251186,
          -7.996295740054946,
          -4.786895617578104,
          -3.3070872910846503,
          -8.295798110636145,
          -8.14186924022006,
          -8.664750755773852,
          -3.1651111394920908,
          -8.637639344492104,
          -4.3050731838183625,
          -3.0934971008096652,
          -6.638225036478269,
          -4.992286155428059,
          -3.7198275523326214,
          -3.8485931937579942,
          -3.319343268131013,
          -1.7298925186310712,
          -2.690256424670693,
          -2.747609098512566,
          -1.682115853311649,
          -2.607995720239121,
          -2.6269120306378912,
          -3.221893479690549,
          -5.459858417933117,
          -2.3266405422703764,
          -2.6074207124970394,
          -1.3541260140190299,
          -3.457658901507906,
          -1.9747173311869077,
          -2.856217272292099,
          -2.063056916976125,
          -1.5880799107474857,
          -2.549170897563544,
          -2.5339779308985624,
          -2.130264413303393,
          -6.288067394993752,
          -1.5903762644807766,
          -2.790372205804984,
          -2.682420768703986,
          -2.0812388930280417,
          -2.5369808641039557,
          -1.8712533728791492,
          -1.4756254583004877,
          -2.657223783982476,
          -1.790389873371467,
          -1.57355860029412,
          -1.5877161445927903,
          -1.7520911932245782,
          -1.8966800288308858,
          -1.9744491789127325,
          -2.1171341358955487,
          -2.129887231196398,
          -2.915915774861075,
          -2.566319712258564,
          -1.0756053888469612,
          -1.8996381704593623,
          -2.3309406313878496,
          -2.0322521363960075,
          -1.86947162778159,
          -0.8979795635373627,
          -0.4831480968365594,
          -0.790240224658166,
          -2.0596151173743036,
          -1.478006207845373,
          -1.2820559777613127,
          -1.8776986993563956,
          -1.485174478452374,
          -1.9485089374815532,
          -1.5534755627024588,
          -1.8070845171826515,
          -7.071309938466018,
          -1.1971414694393794,
          -8.102864172396263,
          -4.64267479167891,
          -2.9864050184976976,
          -3.8996474594496733,
          -4.7446161709432655,
          -7.611901434300617,
          -3.711116736673091,
          -4.015700919159224,
          -3.7164084822629877,
          -5.285333752692256,
          -2.3727658640790747,
          -5.932245187448011,
          -3.4705903855611577,
          -6.166634571450895,
          -2.247535397853835,
          -3.1851548397721148,
          -3.1911724475503567,
          -3.573489235822998,
          -2.9273707417623913,
          -5.143203560076127,
          -2.0349881547097914,
          -4.541170427351854,
          -5.53121441974588,
          -4.680303447642386,
          -4.361324657480152,
          -2.8816144857990666,
          -3.6573013967693817,
          -8.874056117685184,
          -2.8229037866204805,
          -9.890290324634144,
          -3.2253149701524446,
          -1.690779553532576,
          -4.557976654534279,
          -2.9602635843532688,
          -2.990117691715862,
          -2.5817589708051263,
          -3.9407125748303073,
          -8.820551743253025,
          -5.450458238711727,
          -1.374638724536286,
          -1.9826114396245444,
          -5.7804185767155465,
          -3.2053712663653804,
          -7.466799475018602,
          -4.46983351647126,
          -8.59877317840866,
          -3.3890556634270155,
          -5.21982497943943,
          -3.146605462006899,
          -8.536799721055155,
          -4.925181145555232,
          -3.8915713870950293,
          -2.7693287945617304,
          -2.6782756323853745,
          -3.3550402495969625,
          -6.602952479721938,
          -6.26530121273771,
          -2.773880982656067,
          -6.104772325267426,
          -1.4273602778186516,
          -4.14600695883556,
          -3.2361991808614112,
          -2.384071310399555,
          -2.665768840320092,
          -3.7774236163484467,
          -6.870047987642734,
          -3.7247217968267776,
          -3.7290963465447122,
          -2.8765511755642823,
          -2.6453316011196435,
          -3.052421641425656,
          -2.707494223571971,
          -0.398978730841918,
          -2.317940106151452,
          -5.897630343193563,
          -7.738463450054565,
          -3.2368588928810538,
          -8.26010498404909,
          -3.921841787672341,
          -3.5720201044747744,
          -3.519208886678676,
          -5.927628850259835,
          -3.0146670096293944,
          -6.025113894371697,
          -3.5237968452603177,
          -3.431442767035284,
          -2.0020768847245263,
          -5.678170506990524,
          -3.0673166299407932,
          -2.345382593166896,
          -4.209741024578519,
          -3.2799880380800364,
          -3.051358373922438,
          -3.1382201142751662,
          -1.4944883069565296,
          -1.533560903266173,
          -0.844662363701656,
          -1.0306329124985885,
          -1.9796530461709148,
          -2.24915191842834,
          -1.0407234036447846,
          -1.9440627933817007,
          -1.6106165915296426,
          -3.3877556369529027,
          -1.3376847081579406,
          -2.5590611079628722,
          -2.165615223761944,
          -1.4023165633047228,
          -2.4070055630213854,
          -1.2656388087958055,
          -1.69527893506916,
          -1.207930198591357,
          -0.8169923422078287,
          -0.5149078282847229,
          -0.3426954066039094,
          -6.418364935936212,
          -5.973809611869261,
          -3.1513585326104927,
          -3.3554793969829015,
          -3.3492639759262244,
          -2.665552394019025,
          -3.1895678947259234,
          -3.454353869572048,
          -8.099012803068113,
          -3.727586345832037,
          -3.1712695178446184,
          -3.478044106522004,
          -4.274695369322736,
          -2.4405381216072444,
          -4.282649752211061,
          -2.16617508664754,
          -3.5397565346855973,
          -0.9852006689945424,
          -3.351672848402502,
          -2.4215954422797066,
          -3.7147381465216402,
          -4.312819184267443,
          -4.001376050763237,
          -4.133059394190801,
          -9.132135116532963,
          -3.167871267515584,
          -4.694056163347016
         ],
         "y": [
          4.347215862137787,
          4.043612513815328,
          4.1105544603909845,
          3.163438617976975,
          4.828583495635658,
          4.578463746045796,
          4.692215346190846,
          4.191767567659222,
          4.134150167377764,
          4.09225905573108,
          5.148785632577073,
          5.229246852295411,
          5.173320876373351,
          4.401120773210571,
          2.0278902160690757,
          4.139158578011894,
          4.824226966446124,
          5.75447558897172,
          5.268824187153266,
          4.981892825230601,
          4.935846437512679,
          4.174387269895637,
          4.447223550940409,
          4.726049583825911,
          4.365667590663863,
          4.6210435351443815,
          4.738199909587872,
          4.371740803347016,
          4.408429380216306,
          2.952001404922824,
          4.045992541698692,
          4.164905647862645,
          4.013349533418617,
          4.710497144035887,
          3.518746163562087,
          4.198544277911675,
          3.3516695354002386,
          3.4202158294625473,
          4.309606833062552,
          4.190780189038615,
          3.3547841979273696,
          3.7906012822989017,
          3.981337762426335,
          3.5425592667230306,
          3.610667273996361,
          3.6181450151980314,
          3.585390119182147,
          3.4013993170541443,
          2.7382210787355734,
          3.8019190320418175,
          4.185024127093668,
          3.8636797941362677,
          3.7267931008627118,
          3.9962859204229204,
          3.9746737021236482,
          3.9073921001725895,
          3.735843133757334,
          3.3943202979780733,
          4.35212083434511,
          4.00779129542689,
          3.3607675510001145,
          3.8136598650857745,
          4.286533335451394,
          3.9491141551887785,
          3.9923533713461716,
          4.3313446506360265,
          4.128782895747642,
          3.9806721349681644,
          4.1561481395729345,
          4.550153956575481,
          4.0180510431603516,
          4.160711316372303,
          3.891043630911564,
          3.41131551182774,
          3.669998114604159,
          4.013747386034758,
          4.300660754804271,
          3.6960771819253813,
          4.1606366603032185,
          3.847794983491898,
          4.093388143139322,
          3.9770974957912006,
          3.9606853250563656,
          4.187395583408638,
          5.101887494601016,
          3.3091734628489813,
          2.6338489845081203,
          5.263178875812915,
          4.412273048761558,
          4.782735077394841,
          3.333577193987176,
          4.6335983158369265,
          4.525250334015348,
          4.259626043360905,
          3.3969366168013004,
          4.767512260383041,
          2.2512917986064953,
          4.6864194053526,
          4.441238494305727,
          4.577830951435134,
          4.8410201400006665,
          4.720216779911727,
          5.687858524567034,
          5.1543446482090465,
          6.162070010461736,
          4.620767608270709,
          5.517647595776574,
          5.587181294290475,
          5.575766149083418,
          5.531656697683716,
          6.041143205338529,
          6.001515609705406,
          6.063268279236966,
          5.717753654251171,
          6.0836855447141405,
          4.232826913891635,
          3.8806692950105424,
          4.156516757336302,
          4.20571438304377,
          4.66614096637213,
          4.360152994884271,
          4.380715775873781,
          2.1400661634962708,
          4.6189255111981735,
          3.4291561769072216,
          4.26337165106227,
          2.70805020110221,
          5.279346607918256,
          5.912150740388256,
          4.689649192566031,
          5.523458920524919,
          5.12383667349424,
          5.400280509272778,
          4.980121787674165,
          6.20455776256869,
          3.9464244321454784,
          2.8326475731783236,
          5.037210691639004,
          4.78650855520899,
          5.115782393111769,
          4.783644482275994,
          5.8998973535824915,
          4.897250466862447,
          5.345875244671204,
          4.556421687617295,
          4.915388221587437,
          5.0219156927843125,
          4.9276619211956465,
          4.938856098098116,
          5.044384727253266,
          6.1270618190394925,
          4.9784146839963075,
          5.097936050997314,
          4.273327753496062,
          4.800165412462256,
          5.0160171495333135,
          4.913198663672886,
          5.020158258771162,
          4.824592761778872,
          5.011043374085595,
          4.660289485209171,
          4.8417984090672865,
          5.70829608250908,
          5.150525448324193,
          4.065446147937028,
          4.985448969906778,
          4.482144637702224,
          4.909087576072316,
          5.339272685513526,
          5.05969136310575,
          5.558542947291157,
          3.7096527533299133,
          5.329447475688455,
          4.18249044498926,
          4.930651064245022,
          5.246932481691937,
          5.03666401689955,
          3.708399235983255,
          3.940990395578308,
          4.339394127572903,
          4.152846230837449,
          4.052057965918591,
          3.6787118948247874,
          3.8502217808738877,
          3.786056454160207,
          3.6076641842579784,
          4.2300419635076345,
          3.8429638052108808,
          3.8535175308629976,
          4.244417563212669,
          4.082623204318972,
          3.9764472765073693,
          4.7484106072359,
          4.149979380081498,
          5.401030149283422,
          4.55974186852595,
          4.367669342153321,
          4.247571736315794,
          4.111220607222099,
          4.123488141278483,
          5.724891437866436,
          5.622813412122534,
          4.741513058030271,
          5.010221525132573,
          4.468069735374329,
          5.037883946248033,
          4.730578396949696,
          5.122826144796788,
          5.933286706265827,
          5.379777390728787,
          5.250433041982003,
          5.129271307276161,
          5.332035930467987,
          4.4195779803260145,
          5.370552942261792,
          4.553410465242212,
          5.205008587622089,
          4.196496318962719,
          5.101338046524998,
          4.573834509597589,
          4.779575879457177,
          4.757299934908716,
          4.617483230919485,
          4.807172234731052,
          2.6097869473151456,
          4.153764468291764,
          4.580651259612098
         ]
        }
       ],
       "layout": {
        "template": {
         "data": {
          "bar": [
           {
            "error_x": {
             "color": "#2a3f5f"
            },
            "error_y": {
             "color": "#2a3f5f"
            },
            "marker": {
             "line": {
              "color": "#E5ECF6",
              "width": 0.5
             },
             "pattern": {
              "fillmode": "overlay",
              "size": 10,
              "solidity": 0.2
             }
            },
            "type": "bar"
           }
          ],
          "barpolar": [
           {
            "marker": {
             "line": {
              "color": "#E5ECF6",
              "width": 0.5
             },
             "pattern": {
              "fillmode": "overlay",
              "size": 10,
              "solidity": 0.2
             }
            },
            "type": "barpolar"
           }
          ],
          "carpet": [
           {
            "aaxis": {
             "endlinecolor": "#2a3f5f",
             "gridcolor": "white",
             "linecolor": "white",
             "minorgridcolor": "white",
             "startlinecolor": "#2a3f5f"
            },
            "baxis": {
             "endlinecolor": "#2a3f5f",
             "gridcolor": "white",
             "linecolor": "white",
             "minorgridcolor": "white",
             "startlinecolor": "#2a3f5f"
            },
            "type": "carpet"
           }
          ],
          "choropleth": [
           {
            "colorbar": {
             "outlinewidth": 0,
             "ticks": ""
            },
            "type": "choropleth"
           }
          ],
          "contour": [
           {
            "colorbar": {
             "outlinewidth": 0,
             "ticks": ""
            },
            "colorscale": [
             [
              0,
              "#0d0887"
             ],
             [
              0.1111111111111111,
              "#46039f"
             ],
             [
              0.2222222222222222,
              "#7201a8"
             ],
             [
              0.3333333333333333,
              "#9c179e"
             ],
             [
              0.4444444444444444,
              "#bd3786"
             ],
             [
              0.5555555555555556,
              "#d8576b"
             ],
             [
              0.6666666666666666,
              "#ed7953"
             ],
             [
              0.7777777777777778,
              "#fb9f3a"
             ],
             [
              0.8888888888888888,
              "#fdca26"
             ],
             [
              1,
              "#f0f921"
             ]
            ],
            "type": "contour"
           }
          ],
          "contourcarpet": [
           {
            "colorbar": {
             "outlinewidth": 0,
             "ticks": ""
            },
            "type": "contourcarpet"
           }
          ],
          "heatmap": [
           {
            "colorbar": {
             "outlinewidth": 0,
             "ticks": ""
            },
            "colorscale": [
             [
              0,
              "#0d0887"
             ],
             [
              0.1111111111111111,
              "#46039f"
             ],
             [
              0.2222222222222222,
              "#7201a8"
             ],
             [
              0.3333333333333333,
              "#9c179e"
             ],
             [
              0.4444444444444444,
              "#bd3786"
             ],
             [
              0.5555555555555556,
              "#d8576b"
             ],
             [
              0.6666666666666666,
              "#ed7953"
             ],
             [
              0.7777777777777778,
              "#fb9f3a"
             ],
             [
              0.8888888888888888,
              "#fdca26"
             ],
             [
              1,
              "#f0f921"
             ]
            ],
            "type": "heatmap"
           }
          ],
          "heatmapgl": [
           {
            "colorbar": {
             "outlinewidth": 0,
             "ticks": ""
            },
            "colorscale": [
             [
              0,
              "#0d0887"
             ],
             [
              0.1111111111111111,
              "#46039f"
             ],
             [
              0.2222222222222222,
              "#7201a8"
             ],
             [
              0.3333333333333333,
              "#9c179e"
             ],
             [
              0.4444444444444444,
              "#bd3786"
             ],
             [
              0.5555555555555556,
              "#d8576b"
             ],
             [
              0.6666666666666666,
              "#ed7953"
             ],
             [
              0.7777777777777778,
              "#fb9f3a"
             ],
             [
              0.8888888888888888,
              "#fdca26"
             ],
             [
              1,
              "#f0f921"
             ]
            ],
            "type": "heatmapgl"
           }
          ],
          "histogram": [
           {
            "marker": {
             "pattern": {
              "fillmode": "overlay",
              "size": 10,
              "solidity": 0.2
             }
            },
            "type": "histogram"
           }
          ],
          "histogram2d": [
           {
            "colorbar": {
             "outlinewidth": 0,
             "ticks": ""
            },
            "colorscale": [
             [
              0,
              "#0d0887"
             ],
             [
              0.1111111111111111,
              "#46039f"
             ],
             [
              0.2222222222222222,
              "#7201a8"
             ],
             [
              0.3333333333333333,
              "#9c179e"
             ],
             [
              0.4444444444444444,
              "#bd3786"
             ],
             [
              0.5555555555555556,
              "#d8576b"
             ],
             [
              0.6666666666666666,
              "#ed7953"
             ],
             [
              0.7777777777777778,
              "#fb9f3a"
             ],
             [
              0.8888888888888888,
              "#fdca26"
             ],
             [
              1,
              "#f0f921"
             ]
            ],
            "type": "histogram2d"
           }
          ],
          "histogram2dcontour": [
           {
            "colorbar": {
             "outlinewidth": 0,
             "ticks": ""
            },
            "colorscale": [
             [
              0,
              "#0d0887"
             ],
             [
              0.1111111111111111,
              "#46039f"
             ],
             [
              0.2222222222222222,
              "#7201a8"
             ],
             [
              0.3333333333333333,
              "#9c179e"
             ],
             [
              0.4444444444444444,
              "#bd3786"
             ],
             [
              0.5555555555555556,
              "#d8576b"
             ],
             [
              0.6666666666666666,
              "#ed7953"
             ],
             [
              0.7777777777777778,
              "#fb9f3a"
             ],
             [
              0.8888888888888888,
              "#fdca26"
             ],
             [
              1,
              "#f0f921"
             ]
            ],
            "type": "histogram2dcontour"
           }
          ],
          "mesh3d": [
           {
            "colorbar": {
             "outlinewidth": 0,
             "ticks": ""
            },
            "type": "mesh3d"
           }
          ],
          "parcoords": [
           {
            "line": {
             "colorbar": {
              "outlinewidth": 0,
              "ticks": ""
             }
            },
            "type": "parcoords"
           }
          ],
          "pie": [
           {
            "automargin": true,
            "type": "pie"
           }
          ],
          "scatter": [
           {
            "fillpattern": {
             "fillmode": "overlay",
             "size": 10,
             "solidity": 0.2
            },
            "type": "scatter"
           }
          ],
          "scatter3d": [
           {
            "line": {
             "colorbar": {
              "outlinewidth": 0,
              "ticks": ""
             }
            },
            "marker": {
             "colorbar": {
              "outlinewidth": 0,
              "ticks": ""
             }
            },
            "type": "scatter3d"
           }
          ],
          "scattercarpet": [
           {
            "marker": {
             "colorbar": {
              "outlinewidth": 0,
              "ticks": ""
             }
            },
            "type": "scattercarpet"
           }
          ],
          "scattergeo": [
           {
            "marker": {
             "colorbar": {
              "outlinewidth": 0,
              "ticks": ""
             }
            },
            "type": "scattergeo"
           }
          ],
          "scattergl": [
           {
            "marker": {
             "colorbar": {
              "outlinewidth": 0,
              "ticks": ""
             }
            },
            "type": "scattergl"
           }
          ],
          "scattermapbox": [
           {
            "marker": {
             "colorbar": {
              "outlinewidth": 0,
              "ticks": ""
             }
            },
            "type": "scattermapbox"
           }
          ],
          "scatterpolar": [
           {
            "marker": {
             "colorbar": {
              "outlinewidth": 0,
              "ticks": ""
             }
            },
            "type": "scatterpolar"
           }
          ],
          "scatterpolargl": [
           {
            "marker": {
             "colorbar": {
              "outlinewidth": 0,
              "ticks": ""
             }
            },
            "type": "scatterpolargl"
           }
          ],
          "scatterternary": [
           {
            "marker": {
             "colorbar": {
              "outlinewidth": 0,
              "ticks": ""
             }
            },
            "type": "scatterternary"
           }
          ],
          "surface": [
           {
            "colorbar": {
             "outlinewidth": 0,
             "ticks": ""
            },
            "colorscale": [
             [
              0,
              "#0d0887"
             ],
             [
              0.1111111111111111,
              "#46039f"
             ],
             [
              0.2222222222222222,
              "#7201a8"
             ],
             [
              0.3333333333333333,
              "#9c179e"
             ],
             [
              0.4444444444444444,
              "#bd3786"
             ],
             [
              0.5555555555555556,
              "#d8576b"
             ],
             [
              0.6666666666666666,
              "#ed7953"
             ],
             [
              0.7777777777777778,
              "#fb9f3a"
             ],
             [
              0.8888888888888888,
              "#fdca26"
             ],
             [
              1,
              "#f0f921"
             ]
            ],
            "type": "surface"
           }
          ],
          "table": [
           {
            "cells": {
             "fill": {
              "color": "#EBF0F8"
             },
             "line": {
              "color": "white"
             }
            },
            "header": {
             "fill": {
              "color": "#C8D4E3"
             },
             "line": {
              "color": "white"
             }
            },
            "type": "table"
           }
          ]
         },
         "layout": {
          "annotationdefaults": {
           "arrowcolor": "#2a3f5f",
           "arrowhead": 0,
           "arrowwidth": 1
          },
          "autotypenumbers": "strict",
          "coloraxis": {
           "colorbar": {
            "outlinewidth": 0,
            "ticks": ""
           }
          },
          "colorscale": {
           "diverging": [
            [
             0,
             "#8e0152"
            ],
            [
             0.1,
             "#c51b7d"
            ],
            [
             0.2,
             "#de77ae"
            ],
            [
             0.3,
             "#f1b6da"
            ],
            [
             0.4,
             "#fde0ef"
            ],
            [
             0.5,
             "#f7f7f7"
            ],
            [
             0.6,
             "#e6f5d0"
            ],
            [
             0.7,
             "#b8e186"
            ],
            [
             0.8,
             "#7fbc41"
            ],
            [
             0.9,
             "#4d9221"
            ],
            [
             1,
             "#276419"
            ]
           ],
           "sequential": [
            [
             0,
             "#0d0887"
            ],
            [
             0.1111111111111111,
             "#46039f"
            ],
            [
             0.2222222222222222,
             "#7201a8"
            ],
            [
             0.3333333333333333,
             "#9c179e"
            ],
            [
             0.4444444444444444,
             "#bd3786"
            ],
            [
             0.5555555555555556,
             "#d8576b"
            ],
            [
             0.6666666666666666,
             "#ed7953"
            ],
            [
             0.7777777777777778,
             "#fb9f3a"
            ],
            [
             0.8888888888888888,
             "#fdca26"
            ],
            [
             1,
             "#f0f921"
            ]
           ],
           "sequentialminus": [
            [
             0,
             "#0d0887"
            ],
            [
             0.1111111111111111,
             "#46039f"
            ],
            [
             0.2222222222222222,
             "#7201a8"
            ],
            [
             0.3333333333333333,
             "#9c179e"
            ],
            [
             0.4444444444444444,
             "#bd3786"
            ],
            [
             0.5555555555555556,
             "#d8576b"
            ],
            [
             0.6666666666666666,
             "#ed7953"
            ],
            [
             0.7777777777777778,
             "#fb9f3a"
            ],
            [
             0.8888888888888888,
             "#fdca26"
            ],
            [
             1,
             "#f0f921"
            ]
           ]
          },
          "colorway": [
           "#636efa",
           "#EF553B",
           "#00cc96",
           "#ab63fa",
           "#FFA15A",
           "#19d3f3",
           "#FF6692",
           "#B6E880",
           "#FF97FF",
           "#FECB52"
          ],
          "font": {
           "color": "#2a3f5f"
          },
          "geo": {
           "bgcolor": "white",
           "lakecolor": "white",
           "landcolor": "#E5ECF6",
           "showlakes": true,
           "showland": true,
           "subunitcolor": "white"
          },
          "hoverlabel": {
           "align": "left"
          },
          "hovermode": "closest",
          "mapbox": {
           "style": "light"
          },
          "paper_bgcolor": "white",
          "plot_bgcolor": "#E5ECF6",
          "polar": {
           "angularaxis": {
            "gridcolor": "white",
            "linecolor": "white",
            "ticks": ""
           },
           "bgcolor": "#E5ECF6",
           "radialaxis": {
            "gridcolor": "white",
            "linecolor": "white",
            "ticks": ""
           }
          },
          "scene": {
           "xaxis": {
            "backgroundcolor": "#E5ECF6",
            "gridcolor": "white",
            "gridwidth": 2,
            "linecolor": "white",
            "showbackground": true,
            "ticks": "",
            "zerolinecolor": "white"
           },
           "yaxis": {
            "backgroundcolor": "#E5ECF6",
            "gridcolor": "white",
            "gridwidth": 2,
            "linecolor": "white",
            "showbackground": true,
            "ticks": "",
            "zerolinecolor": "white"
           },
           "zaxis": {
            "backgroundcolor": "#E5ECF6",
            "gridcolor": "white",
            "gridwidth": 2,
            "linecolor": "white",
            "showbackground": true,
            "ticks": "",
            "zerolinecolor": "white"
           }
          },
          "shapedefaults": {
           "line": {
            "color": "#2a3f5f"
           }
          },
          "ternary": {
           "aaxis": {
            "gridcolor": "white",
            "linecolor": "white",
            "ticks": ""
           },
           "baxis": {
            "gridcolor": "white",
            "linecolor": "white",
            "ticks": ""
           },
           "bgcolor": "#E5ECF6",
           "caxis": {
            "gridcolor": "white",
            "linecolor": "white",
            "ticks": ""
           }
          },
          "title": {
           "x": 0.05
          },
          "xaxis": {
           "automargin": true,
           "gridcolor": "white",
           "linecolor": "white",
           "ticks": "",
           "title": {
            "standoff": 15
           },
           "zerolinecolor": "white",
           "zerolinewidth": 2
          },
          "yaxis": {
           "automargin": true,
           "gridcolor": "white",
           "linecolor": "white",
           "ticks": "",
           "title": {
            "standoff": 15
           },
           "zerolinecolor": "white",
           "zerolinewidth": 2
          }
         }
        }
       }
      }
     },
     "metadata": {},
     "output_type": "display_data"
    }
   ],
   "source": [
    "fig = go.Figure(data=go.Scatter(x=df_naics['log_density'],\n",
    "                                y=df_naics['log_median_dwell'],\n",
    "                                mode='markers',\n",
    "                                text=df_naics['node.safegraph_core.sub_category'])) # hover text goes here\n",
    "\n",
    "fig.show()"
   ]
  },
  {
   "cell_type": "code",
   "execution_count": null,
   "metadata": {},
   "outputs": [],
   "source": []
  }
 ],
 "metadata": {
  "kernelspec": {
   "display_name": "Python 3.8.5 ('base')",
   "language": "python",
   "name": "python3"
  },
  "language_info": {
   "codemirror_mode": {
    "name": "ipython",
    "version": 3
   },
   "file_extension": ".py",
   "mimetype": "text/x-python",
   "name": "python",
   "nbconvert_exporter": "python",
   "pygments_lexer": "ipython3",
   "version": "3.8.5 (default, Sep  3 2020, 21:29:08) [MSC v.1916 64 bit (AMD64)]"
  },
  "orig_nbformat": 4,
  "vscode": {
   "interpreter": {
    "hash": "f1d936f6b8afb7efd5d3c658b80334890304c9bf423c38cd82c6f3dcd2ed4357"
   }
  }
 },
 "nbformat": 4,
 "nbformat_minor": 2
}
